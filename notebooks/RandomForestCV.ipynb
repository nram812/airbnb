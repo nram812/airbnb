{
 "cells": [
  {
   "cell_type": "code",
   "execution_count": 1,
   "id": "63432555-7f4b-487b-8b88-9dc523b06352",
   "metadata": {
    "execution": {
     "iopub.execute_input": "2022-02-02T13:51:59.518064Z",
     "iopub.status.busy": "2022-02-02T13:51:59.518064Z",
     "iopub.status.idle": "2022-02-02T13:52:00.815435Z",
     "shell.execute_reply": "2022-02-02T13:52:00.815435Z"
    },
    "papermill": {
     "duration": 1.313312,
     "end_time": "2022-02-02T13:52:00.815435",
     "exception": false,
     "start_time": "2022-02-02T13:51:59.502123",
     "status": "completed"
    },
    "tags": []
   },
   "outputs": [],
   "source": [
    "import pandas as pd\n",
    "import numpy as np\n",
    "import seaborn as sns\n",
    "from sklearn.model_selection import train_test_split\n",
    "import matplotlib.pyplot as plt\n",
    "import os\n",
    "from sklearn.ensemble import RandomForestRegressor, ExtraTreesRegressor\n",
    "from sklearn.linear_model import Lasso\n",
    "from sklearn.model_selection import RandomizedSearchCV\n",
    "import sys\n",
    "sys.path.append('./src')\n",
    "from funcs import *\n",
    "# Random Search CV tends to be better"
   ]
  },
  {
   "cell_type": "code",
   "execution_count": 2,
   "id": "1c70d253-6e06-4057-833f-646fc2aa69bc",
   "metadata": {
    "execution": {
     "iopub.execute_input": "2022-02-02T13:52:00.839371Z",
     "iopub.status.busy": "2022-02-02T13:52:00.838402Z",
     "iopub.status.idle": "2022-02-02T13:52:00.845252Z",
     "shell.execute_reply": "2022-02-02T13:52:00.845252Z"
    },
    "papermill": {
     "duration": 0.01882,
     "end_time": "2022-02-02T13:52:00.845252",
     "exception": false,
     "start_time": "2022-02-02T13:52:00.826432",
     "status": "completed"
    },
    "tags": []
   },
   "outputs": [],
   "source": [
    "if not os.path.exists('./results'):\n",
    "    os.makedirs('./results')"
   ]
  },
  {
   "cell_type": "markdown",
   "id": "d4408f9b-fb8c-4fc5-af49-ee875393519f",
   "metadata": {
    "papermill": {
     "duration": 0.009973,
     "end_time": "2022-02-02T13:52:00.866303",
     "exception": false,
     "start_time": "2022-02-02T13:52:00.856330",
     "status": "completed"
    },
    "tags": []
   },
   "source": [
    "## Training a Random Forest Model"
   ]
  },
  {
   "cell_type": "markdown",
   "id": "475d47cc-1ee2-445a-ac4d-5f61ca7b9838",
   "metadata": {
    "papermill": {
     "duration": 0.009973,
     "end_time": "2022-02-02T13:52:00.887247",
     "exception": false,
     "start_time": "2022-02-02T13:52:00.877274",
     "status": "completed"
    },
    "tags": []
   },
   "source": [
    "## Table of Contents:\n",
    "* [Loading Preprocessed Data](#first-bullet)\n",
    "* [Training an Estimator](#second-bullet)\n",
    "* [Hyperparameter Tuning](#third-bullet)\n",
    "* [Hyperparameter Tuning for Lasso](#fourth-bullet)\n",
    "* [Further Exploration of Output Data](#fifth-bullet)\n",
    "* [Saving Data](#sixth-bullet)"
   ]
  },
  {
   "cell_type": "markdown",
   "id": "9c52812a-f0dc-4af8-9d24-86349ce1c4a5",
   "metadata": {
    "papermill": {
     "duration": 0.009974,
     "end_time": "2022-02-02T13:52:00.908192",
     "exception": false,
     "start_time": "2022-02-02T13:52:00.898218",
     "status": "completed"
    },
    "tags": []
   },
   "source": [
    "## Loading Preprocessed Data <a class=\"anchor\" id=\"first-bullet\"></a>"
   ]
  },
  {
   "cell_type": "code",
   "execution_count": 3,
   "id": "2b0c204a-3e8b-47a1-95d6-774c811ff080",
   "metadata": {
    "execution": {
     "iopub.execute_input": "2022-02-02T13:52:00.932100Z",
     "iopub.status.busy": "2022-02-02T13:52:00.932100Z",
     "iopub.status.idle": "2022-02-02T13:52:01.091384Z",
     "shell.execute_reply": "2022-02-02T13:52:01.091384Z"
    },
    "papermill": {
     "duration": 0.172222,
     "end_time": "2022-02-02T13:52:01.091384",
     "exception": false,
     "start_time": "2022-02-02T13:52:00.919162",
     "status": "completed"
    },
    "tags": []
   },
   "outputs": [],
   "source": [
    "import os\n",
    "# binary data is used for the Lasso Model\n",
    "categorical_binary = pd.read_csv(r'./preprocessed/categorical_binary.csv', index_col =0)\n",
    "categorical_raw = pd.read_csv(r'./preprocessed/categorical_raw.csv', index_col =0)\n",
    "regression_data = pd.read_csv(r'./preprocessed/regression_transformed.csv', index_col =0)\n",
    "regression_cols = regression_data.columns\n",
    "index = pd.read_csv('./preprocessed/benchmark_datasets_index.csv', index_col =0)\n",
    "price = pd.read_csv('./preprocessed/price.csv', index_col =0)"
   ]
  },
  {
   "cell_type": "code",
   "execution_count": 4,
   "id": "7c7ee653-8a62-46c8-95bf-7f8bb3ff2350",
   "metadata": {
    "execution": {
     "iopub.execute_input": "2022-02-02T13:52:01.114295Z",
     "iopub.status.busy": "2022-02-02T13:52:01.114295Z",
     "iopub.status.idle": "2022-02-02T13:52:01.123381Z",
     "shell.execute_reply": "2022-02-02T13:52:01.123381Z"
    },
    "papermill": {
     "duration": 0.021054,
     "end_time": "2022-02-02T13:52:01.123381",
     "exception": false,
     "start_time": "2022-02-02T13:52:01.102327",
     "status": "completed"
    },
    "tags": []
   },
   "outputs": [],
   "source": [
    "regression_cols = ['host_response_rate', 'host_acceptance_rate',\n",
    "       'transformed_review_scores_rating',\n",
    "       'transformed_review_scores_accuracy',\n",
    "       'transformed_review_scores_cleanliness',\n",
    "       'transformed_review_scores_checkin',\n",
    "       'transformed_review_scores_communication',\n",
    "       'transformed_review_scores_location',\n",
    "       'transformed_review_scores_value']\n",
    "# note remove bathrooms text as a predictor"
   ]
  },
  {
   "cell_type": "code",
   "execution_count": 5,
   "id": "10e1a955-069b-4ba7-ad7d-a11da74e96f6",
   "metadata": {
    "execution": {
     "iopub.execute_input": "2022-02-02T13:52:01.146320Z",
     "iopub.status.busy": "2022-02-02T13:52:01.146320Z",
     "iopub.status.idle": "2022-02-02T13:52:01.189664Z",
     "shell.execute_reply": "2022-02-02T13:52:01.189664Z"
    },
    "papermill": {
     "duration": 0.056282,
     "end_time": "2022-02-02T13:52:01.189664",
     "exception": false,
     "start_time": "2022-02-02T13:52:01.133382",
     "status": "completed"
    },
    "tags": []
   },
   "outputs": [],
   "source": [
    "X_train, X_test, X_val, y_train, y_test, y_val = create_training_dataset(categorical_raw, regression_data,\n",
    "                                                                         price, index, regression_cols,\n",
    "                                                                         norm_reg = True)"
   ]
  },
  {
   "cell_type": "code",
   "execution_count": 6,
   "id": "60a83367-b901-4df2-a4a1-efa946799e28",
   "metadata": {
    "execution": {
     "iopub.execute_input": "2022-02-02T13:52:01.213612Z",
     "iopub.status.busy": "2022-02-02T13:52:01.212629Z",
     "iopub.status.idle": "2022-02-02T13:52:01.247543Z",
     "shell.execute_reply": "2022-02-02T13:52:01.247543Z"
    },
    "papermill": {
     "duration": 0.046882,
     "end_time": "2022-02-02T13:52:01.247543",
     "exception": false,
     "start_time": "2022-02-02T13:52:01.200661",
     "status": "completed"
    },
    "tags": []
   },
   "outputs": [
    {
     "data": {
      "text/html": [
       "<div>\n",
       "<style scoped>\n",
       "    .dataframe tbody tr th:only-of-type {\n",
       "        vertical-align: middle;\n",
       "    }\n",
       "\n",
       "    .dataframe tbody tr th {\n",
       "        vertical-align: top;\n",
       "    }\n",
       "\n",
       "    .dataframe thead th {\n",
       "        text-align: right;\n",
       "    }\n",
       "</style>\n",
       "<table border=\"1\" class=\"dataframe\">\n",
       "  <thead>\n",
       "    <tr style=\"text-align: right;\">\n",
       "      <th></th>\n",
       "      <th>host_identity_verified_0</th>\n",
       "      <th>host_identity_verified_1</th>\n",
       "      <th>accommodates_0</th>\n",
       "      <th>accommodates_1</th>\n",
       "      <th>accommodates_2</th>\n",
       "      <th>accommodates_3</th>\n",
       "      <th>accommodates_4</th>\n",
       "      <th>accommodates_5</th>\n",
       "      <th>accommodates_6</th>\n",
       "      <th>accommodates_7</th>\n",
       "      <th>...</th>\n",
       "      <th>neighbourhood_group_cleansed_3</th>\n",
       "      <th>neighbourhood_group_cleansed_4</th>\n",
       "      <th>host_has_profile_pic_0</th>\n",
       "      <th>host_has_profile_pic_1</th>\n",
       "      <th>host_response_time_0</th>\n",
       "      <th>host_response_time_1</th>\n",
       "      <th>host_response_time_2</th>\n",
       "      <th>host_response_time_3</th>\n",
       "      <th>host_is_superhost_0</th>\n",
       "      <th>host_is_superhost_1</th>\n",
       "    </tr>\n",
       "  </thead>\n",
       "  <tbody>\n",
       "    <tr>\n",
       "      <th>1</th>\n",
       "      <td>1.0</td>\n",
       "      <td>0.0</td>\n",
       "      <td>0.0</td>\n",
       "      <td>0.0</td>\n",
       "      <td>1.0</td>\n",
       "      <td>0.0</td>\n",
       "      <td>0.0</td>\n",
       "      <td>0.0</td>\n",
       "      <td>0.0</td>\n",
       "      <td>0.0</td>\n",
       "      <td>...</td>\n",
       "      <td>0.0</td>\n",
       "      <td>0.0</td>\n",
       "      <td>1.0</td>\n",
       "      <td>0.0</td>\n",
       "      <td>0.0</td>\n",
       "      <td>1.0</td>\n",
       "      <td>0.0</td>\n",
       "      <td>0.0</td>\n",
       "      <td>1.0</td>\n",
       "      <td>0.0</td>\n",
       "    </tr>\n",
       "    <tr>\n",
       "      <th>4</th>\n",
       "      <td>0.0</td>\n",
       "      <td>1.0</td>\n",
       "      <td>0.0</td>\n",
       "      <td>1.0</td>\n",
       "      <td>0.0</td>\n",
       "      <td>0.0</td>\n",
       "      <td>0.0</td>\n",
       "      <td>0.0</td>\n",
       "      <td>0.0</td>\n",
       "      <td>0.0</td>\n",
       "      <td>...</td>\n",
       "      <td>0.0</td>\n",
       "      <td>0.0</td>\n",
       "      <td>1.0</td>\n",
       "      <td>0.0</td>\n",
       "      <td>0.0</td>\n",
       "      <td>0.0</td>\n",
       "      <td>0.0</td>\n",
       "      <td>1.0</td>\n",
       "      <td>1.0</td>\n",
       "      <td>0.0</td>\n",
       "    </tr>\n",
       "    <tr>\n",
       "      <th>6</th>\n",
       "      <td>1.0</td>\n",
       "      <td>0.0</td>\n",
       "      <td>0.0</td>\n",
       "      <td>1.0</td>\n",
       "      <td>0.0</td>\n",
       "      <td>0.0</td>\n",
       "      <td>0.0</td>\n",
       "      <td>0.0</td>\n",
       "      <td>0.0</td>\n",
       "      <td>0.0</td>\n",
       "      <td>...</td>\n",
       "      <td>0.0</td>\n",
       "      <td>0.0</td>\n",
       "      <td>1.0</td>\n",
       "      <td>0.0</td>\n",
       "      <td>0.0</td>\n",
       "      <td>0.0</td>\n",
       "      <td>0.0</td>\n",
       "      <td>1.0</td>\n",
       "      <td>0.0</td>\n",
       "      <td>1.0</td>\n",
       "    </tr>\n",
       "    <tr>\n",
       "      <th>8</th>\n",
       "      <td>1.0</td>\n",
       "      <td>0.0</td>\n",
       "      <td>1.0</td>\n",
       "      <td>0.0</td>\n",
       "      <td>0.0</td>\n",
       "      <td>0.0</td>\n",
       "      <td>0.0</td>\n",
       "      <td>0.0</td>\n",
       "      <td>0.0</td>\n",
       "      <td>0.0</td>\n",
       "      <td>...</td>\n",
       "      <td>0.0</td>\n",
       "      <td>0.0</td>\n",
       "      <td>1.0</td>\n",
       "      <td>0.0</td>\n",
       "      <td>1.0</td>\n",
       "      <td>0.0</td>\n",
       "      <td>0.0</td>\n",
       "      <td>0.0</td>\n",
       "      <td>1.0</td>\n",
       "      <td>0.0</td>\n",
       "    </tr>\n",
       "    <tr>\n",
       "      <th>9</th>\n",
       "      <td>1.0</td>\n",
       "      <td>0.0</td>\n",
       "      <td>1.0</td>\n",
       "      <td>0.0</td>\n",
       "      <td>0.0</td>\n",
       "      <td>0.0</td>\n",
       "      <td>0.0</td>\n",
       "      <td>0.0</td>\n",
       "      <td>0.0</td>\n",
       "      <td>0.0</td>\n",
       "      <td>...</td>\n",
       "      <td>0.0</td>\n",
       "      <td>0.0</td>\n",
       "      <td>1.0</td>\n",
       "      <td>0.0</td>\n",
       "      <td>0.0</td>\n",
       "      <td>0.0</td>\n",
       "      <td>1.0</td>\n",
       "      <td>0.0</td>\n",
       "      <td>0.0</td>\n",
       "      <td>1.0</td>\n",
       "    </tr>\n",
       "    <tr>\n",
       "      <th>...</th>\n",
       "      <td>...</td>\n",
       "      <td>...</td>\n",
       "      <td>...</td>\n",
       "      <td>...</td>\n",
       "      <td>...</td>\n",
       "      <td>...</td>\n",
       "      <td>...</td>\n",
       "      <td>...</td>\n",
       "      <td>...</td>\n",
       "      <td>...</td>\n",
       "      <td>...</td>\n",
       "      <td>...</td>\n",
       "      <td>...</td>\n",
       "      <td>...</td>\n",
       "      <td>...</td>\n",
       "      <td>...</td>\n",
       "      <td>...</td>\n",
       "      <td>...</td>\n",
       "      <td>...</td>\n",
       "      <td>...</td>\n",
       "      <td>...</td>\n",
       "    </tr>\n",
       "    <tr>\n",
       "      <th>19990</th>\n",
       "      <td>1.0</td>\n",
       "      <td>0.0</td>\n",
       "      <td>1.0</td>\n",
       "      <td>0.0</td>\n",
       "      <td>0.0</td>\n",
       "      <td>0.0</td>\n",
       "      <td>0.0</td>\n",
       "      <td>0.0</td>\n",
       "      <td>0.0</td>\n",
       "      <td>0.0</td>\n",
       "      <td>...</td>\n",
       "      <td>0.0</td>\n",
       "      <td>0.0</td>\n",
       "      <td>1.0</td>\n",
       "      <td>0.0</td>\n",
       "      <td>0.0</td>\n",
       "      <td>0.0</td>\n",
       "      <td>0.0</td>\n",
       "      <td>1.0</td>\n",
       "      <td>1.0</td>\n",
       "      <td>0.0</td>\n",
       "    </tr>\n",
       "    <tr>\n",
       "      <th>19991</th>\n",
       "      <td>1.0</td>\n",
       "      <td>0.0</td>\n",
       "      <td>0.0</td>\n",
       "      <td>1.0</td>\n",
       "      <td>0.0</td>\n",
       "      <td>0.0</td>\n",
       "      <td>0.0</td>\n",
       "      <td>0.0</td>\n",
       "      <td>0.0</td>\n",
       "      <td>0.0</td>\n",
       "      <td>...</td>\n",
       "      <td>0.0</td>\n",
       "      <td>0.0</td>\n",
       "      <td>1.0</td>\n",
       "      <td>0.0</td>\n",
       "      <td>0.0</td>\n",
       "      <td>0.0</td>\n",
       "      <td>0.0</td>\n",
       "      <td>1.0</td>\n",
       "      <td>1.0</td>\n",
       "      <td>0.0</td>\n",
       "    </tr>\n",
       "    <tr>\n",
       "      <th>19994</th>\n",
       "      <td>1.0</td>\n",
       "      <td>0.0</td>\n",
       "      <td>0.0</td>\n",
       "      <td>1.0</td>\n",
       "      <td>0.0</td>\n",
       "      <td>0.0</td>\n",
       "      <td>0.0</td>\n",
       "      <td>0.0</td>\n",
       "      <td>0.0</td>\n",
       "      <td>0.0</td>\n",
       "      <td>...</td>\n",
       "      <td>0.0</td>\n",
       "      <td>0.0</td>\n",
       "      <td>1.0</td>\n",
       "      <td>0.0</td>\n",
       "      <td>0.0</td>\n",
       "      <td>1.0</td>\n",
       "      <td>0.0</td>\n",
       "      <td>0.0</td>\n",
       "      <td>1.0</td>\n",
       "      <td>0.0</td>\n",
       "    </tr>\n",
       "    <tr>\n",
       "      <th>19996</th>\n",
       "      <td>1.0</td>\n",
       "      <td>0.0</td>\n",
       "      <td>0.0</td>\n",
       "      <td>1.0</td>\n",
       "      <td>0.0</td>\n",
       "      <td>0.0</td>\n",
       "      <td>0.0</td>\n",
       "      <td>0.0</td>\n",
       "      <td>0.0</td>\n",
       "      <td>0.0</td>\n",
       "      <td>...</td>\n",
       "      <td>0.0</td>\n",
       "      <td>0.0</td>\n",
       "      <td>1.0</td>\n",
       "      <td>0.0</td>\n",
       "      <td>0.0</td>\n",
       "      <td>0.0</td>\n",
       "      <td>0.0</td>\n",
       "      <td>1.0</td>\n",
       "      <td>1.0</td>\n",
       "      <td>0.0</td>\n",
       "    </tr>\n",
       "    <tr>\n",
       "      <th>19997</th>\n",
       "      <td>0.0</td>\n",
       "      <td>1.0</td>\n",
       "      <td>0.0</td>\n",
       "      <td>0.0</td>\n",
       "      <td>1.0</td>\n",
       "      <td>0.0</td>\n",
       "      <td>0.0</td>\n",
       "      <td>0.0</td>\n",
       "      <td>0.0</td>\n",
       "      <td>0.0</td>\n",
       "      <td>...</td>\n",
       "      <td>0.0</td>\n",
       "      <td>0.0</td>\n",
       "      <td>1.0</td>\n",
       "      <td>0.0</td>\n",
       "      <td>0.0</td>\n",
       "      <td>0.0</td>\n",
       "      <td>1.0</td>\n",
       "      <td>0.0</td>\n",
       "      <td>0.0</td>\n",
       "      <td>1.0</td>\n",
       "    </tr>\n",
       "  </tbody>\n",
       "</table>\n",
       "<p>7861 rows × 85 columns</p>\n",
       "</div>"
      ],
      "text/plain": [
       "       host_identity_verified_0  host_identity_verified_1  accommodates_0  \\\n",
       "1                           1.0                       0.0             0.0   \n",
       "4                           0.0                       1.0             0.0   \n",
       "6                           1.0                       0.0             0.0   \n",
       "8                           1.0                       0.0             1.0   \n",
       "9                           1.0                       0.0             1.0   \n",
       "...                         ...                       ...             ...   \n",
       "19990                       1.0                       0.0             1.0   \n",
       "19991                       1.0                       0.0             0.0   \n",
       "19994                       1.0                       0.0             0.0   \n",
       "19996                       1.0                       0.0             0.0   \n",
       "19997                       0.0                       1.0             0.0   \n",
       "\n",
       "       accommodates_1  accommodates_2  accommodates_3  accommodates_4  \\\n",
       "1                 0.0             1.0             0.0             0.0   \n",
       "4                 1.0             0.0             0.0             0.0   \n",
       "6                 1.0             0.0             0.0             0.0   \n",
       "8                 0.0             0.0             0.0             0.0   \n",
       "9                 0.0             0.0             0.0             0.0   \n",
       "...               ...             ...             ...             ...   \n",
       "19990             0.0             0.0             0.0             0.0   \n",
       "19991             1.0             0.0             0.0             0.0   \n",
       "19994             1.0             0.0             0.0             0.0   \n",
       "19996             1.0             0.0             0.0             0.0   \n",
       "19997             0.0             1.0             0.0             0.0   \n",
       "\n",
       "       accommodates_5  accommodates_6  accommodates_7  ...  \\\n",
       "1                 0.0             0.0             0.0  ...   \n",
       "4                 0.0             0.0             0.0  ...   \n",
       "6                 0.0             0.0             0.0  ...   \n",
       "8                 0.0             0.0             0.0  ...   \n",
       "9                 0.0             0.0             0.0  ...   \n",
       "...               ...             ...             ...  ...   \n",
       "19990             0.0             0.0             0.0  ...   \n",
       "19991             0.0             0.0             0.0  ...   \n",
       "19994             0.0             0.0             0.0  ...   \n",
       "19996             0.0             0.0             0.0  ...   \n",
       "19997             0.0             0.0             0.0  ...   \n",
       "\n",
       "       neighbourhood_group_cleansed_3  neighbourhood_group_cleansed_4  \\\n",
       "1                                 0.0                             0.0   \n",
       "4                                 0.0                             0.0   \n",
       "6                                 0.0                             0.0   \n",
       "8                                 0.0                             0.0   \n",
       "9                                 0.0                             0.0   \n",
       "...                               ...                             ...   \n",
       "19990                             0.0                             0.0   \n",
       "19991                             0.0                             0.0   \n",
       "19994                             0.0                             0.0   \n",
       "19996                             0.0                             0.0   \n",
       "19997                             0.0                             0.0   \n",
       "\n",
       "       host_has_profile_pic_0  host_has_profile_pic_1  host_response_time_0  \\\n",
       "1                         1.0                     0.0                   0.0   \n",
       "4                         1.0                     0.0                   0.0   \n",
       "6                         1.0                     0.0                   0.0   \n",
       "8                         1.0                     0.0                   1.0   \n",
       "9                         1.0                     0.0                   0.0   \n",
       "...                       ...                     ...                   ...   \n",
       "19990                     1.0                     0.0                   0.0   \n",
       "19991                     1.0                     0.0                   0.0   \n",
       "19994                     1.0                     0.0                   0.0   \n",
       "19996                     1.0                     0.0                   0.0   \n",
       "19997                     1.0                     0.0                   0.0   \n",
       "\n",
       "       host_response_time_1  host_response_time_2  host_response_time_3  \\\n",
       "1                       1.0                   0.0                   0.0   \n",
       "4                       0.0                   0.0                   1.0   \n",
       "6                       0.0                   0.0                   1.0   \n",
       "8                       0.0                   0.0                   0.0   \n",
       "9                       0.0                   1.0                   0.0   \n",
       "...                     ...                   ...                   ...   \n",
       "19990                   0.0                   0.0                   1.0   \n",
       "19991                   0.0                   0.0                   1.0   \n",
       "19994                   1.0                   0.0                   0.0   \n",
       "19996                   0.0                   0.0                   1.0   \n",
       "19997                   0.0                   1.0                   0.0   \n",
       "\n",
       "       host_is_superhost_0  host_is_superhost_1  \n",
       "1                      1.0                  0.0  \n",
       "4                      1.0                  0.0  \n",
       "6                      0.0                  1.0  \n",
       "8                      1.0                  0.0  \n",
       "9                      0.0                  1.0  \n",
       "...                    ...                  ...  \n",
       "19990                  1.0                  0.0  \n",
       "19991                  1.0                  0.0  \n",
       "19994                  1.0                  0.0  \n",
       "19996                  1.0                  0.0  \n",
       "19997                  0.0                  1.0  \n",
       "\n",
       "[7861 rows x 85 columns]"
      ]
     },
     "execution_count": 6,
     "metadata": {},
     "output_type": "execute_result"
    }
   ],
   "source": [
    "categorical_binary.dropna()"
   ]
  },
  {
   "cell_type": "markdown",
   "id": "16065b9d-f329-4e6d-b71f-0d17c2e6dacd",
   "metadata": {
    "papermill": {
     "duration": 0.01097,
     "end_time": "2022-02-02T13:52:01.269575",
     "exception": false,
     "start_time": "2022-02-02T13:52:01.258605",
     "status": "completed"
    },
    "tags": []
   },
   "source": [
    "## Training an Estimator <a class=\"anchor\" id=\"second-bullet\"></a>"
   ]
  },
  {
   "cell_type": "code",
   "execution_count": 7,
   "id": "74455ab6-bba9-4707-a4ab-ba2070731d43",
   "metadata": {
    "execution": {
     "iopub.execute_input": "2022-02-02T13:52:01.294509Z",
     "iopub.status.busy": "2022-02-02T13:52:01.293511Z",
     "iopub.status.idle": "2022-02-02T13:52:01.707454Z",
     "shell.execute_reply": "2022-02-02T13:52:01.706421Z"
    },
    "papermill": {
     "duration": 0.426907,
     "end_time": "2022-02-02T13:52:01.707454",
     "exception": false,
     "start_time": "2022-02-02T13:52:01.280547",
     "status": "completed"
    },
    "tags": []
   },
   "outputs": [
    {
     "data": {
      "text/plain": [
       "RandomForestRegressor(max_depth=10, max_features=5)"
      ]
     },
     "execution_count": 7,
     "metadata": {},
     "output_type": "execute_result"
    }
   ],
   "source": [
    "rf = RandomForestRegressor(max_features =5, max_depth =10)\n",
    "rf.fit(X_train, y_train)"
   ]
  },
  {
   "cell_type": "code",
   "execution_count": 8,
   "id": "f71b6375-f38e-4597-a16f-1c30cd030918",
   "metadata": {
    "execution": {
     "iopub.execute_input": "2022-02-02T13:52:01.731369Z",
     "iopub.status.busy": "2022-02-02T13:52:01.731369Z",
     "iopub.status.idle": "2022-02-02T13:52:01.942024Z",
     "shell.execute_reply": "2022-02-02T13:52:01.941000Z"
    },
    "papermill": {
     "duration": 0.223606,
     "end_time": "2022-02-02T13:52:01.942024",
     "exception": false,
     "start_time": "2022-02-02T13:52:01.718418",
     "status": "completed"
    },
    "tags": []
   },
   "outputs": [
    {
     "data": {
      "text/plain": [
       "<AxesSubplot:>"
      ]
     },
     "execution_count": 8,
     "metadata": {},
     "output_type": "execute_result"
    },
    {
     "data": {
      "image/png": "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\n",
      "text/plain": [
       "<Figure size 432x288 with 1 Axes>"
      ]
     },
     "metadata": {
      "needs_background": "light"
     },
     "output_type": "display_data"
    }
   ],
   "source": [
    "df_feature = pd.DataFrame(data = rf.feature_importances_, index = X_train.columns)\n",
    "df_feature[0].plot.bar()"
   ]
  },
  {
   "cell_type": "code",
   "execution_count": 9,
   "id": "fd923b9d-4692-41eb-96c2-3a422bdaec41",
   "metadata": {
    "execution": {
     "iopub.execute_input": "2022-02-02T13:52:01.968955Z",
     "iopub.status.busy": "2022-02-02T13:52:01.967958Z",
     "iopub.status.idle": "2022-02-02T13:52:02.020021Z",
     "shell.execute_reply": "2022-02-02T13:52:02.020021Z"
    },
    "papermill": {
     "duration": 0.066026,
     "end_time": "2022-02-02T13:52:02.020021",
     "exception": false,
     "start_time": "2022-02-02T13:52:01.953995",
     "status": "completed"
    },
    "tags": []
   },
   "outputs": [],
   "source": [
    "val_metrics, y_hat_val = eval_metrics(X_val, y_val, rf)\n",
    "test_metrics, y_hat_val = eval_metrics(X_test, y_test, rf)\n",
    "val_metrics.to_csv('./results/RF_val.csv')\n",
    "test_metrics.to_csv('./results/RF_test.csv')"
   ]
  },
  {
   "cell_type": "code",
   "execution_count": 10,
   "id": "0ba4086e-05ab-4c5c-99cb-1aae874b9be5",
   "metadata": {
    "execution": {
     "iopub.execute_input": "2022-02-02T13:52:02.045964Z",
     "iopub.status.busy": "2022-02-02T13:52:02.045964Z",
     "iopub.status.idle": "2022-02-02T13:52:02.410801Z",
     "shell.execute_reply": "2022-02-02T13:52:02.409774Z"
    },
    "papermill": {
     "duration": 0.378815,
     "end_time": "2022-02-02T13:52:02.410801",
     "exception": false,
     "start_time": "2022-02-02T13:52:02.031986",
     "status": "completed"
    },
    "tags": []
   },
   "outputs": [
    {
     "data": {
      "text/plain": [
       "[<matplotlib.lines.Line2D at 0x23aa8bb5100>]"
      ]
     },
     "execution_count": 10,
     "metadata": {},
     "output_type": "execute_result"
    },
    {
     "data": {
      "image/png": "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\n",
      "text/plain": [
       "<Figure size 432x288 with 1 Axes>"
      ]
     },
     "metadata": {
      "needs_background": "light"
     },
     "output_type": "display_data"
    }
   ],
   "source": [
    "fig, ax = plt.subplots()\n",
    "ax.plot(y_hat_val.log_price,y_hat_val.predictions,'rx')"
   ]
  },
  {
   "cell_type": "markdown",
   "id": "7bf04f16-dc26-47f6-8a21-6cfefeaac2b9",
   "metadata": {
    "papermill": {
     "duration": 0.012965,
     "end_time": "2022-02-02T13:52:02.436731",
     "exception": false,
     "start_time": "2022-02-02T13:52:02.423766",
     "status": "completed"
    },
    "tags": []
   },
   "source": [
    "# Hyperparameter Tuning <a class=\"anchor\" id=\"third-bullet\"></a>\n",
    "1. Creating a set of paramters to loop over for the random forest estimator"
   ]
  },
  {
   "cell_type": "code",
   "execution_count": 11,
   "id": "c3bece07-bbc3-426f-8d67-1373e9a09b93",
   "metadata": {
    "execution": {
     "iopub.execute_input": "2022-02-02T13:52:02.466624Z",
     "iopub.status.busy": "2022-02-02T13:52:02.465626Z",
     "iopub.status.idle": "2022-02-02T13:52:02.472691Z",
     "shell.execute_reply": "2022-02-02T13:52:02.472691Z"
    },
    "papermill": {
     "duration": 0.022995,
     "end_time": "2022-02-02T13:52:02.472691",
     "exception": false,
     "start_time": "2022-02-02T13:52:02.449696",
     "status": "completed"
    },
    "tags": []
   },
   "outputs": [],
   "source": [
    "\n",
    "# Number of trees in random forest\n",
    "n_estimators = [int(x) for x in np.linspace(start = 20, stop = 500, num = 10)]\n",
    "# Number of features to consider at every split\n",
    "max_features = ['auto', 'sqrt']\n",
    "# Maximum number of levels in tree\n",
    "max_depth = [int(x) for x in np.linspace(10, 80, num = 9)]\n",
    "max_depth.append(None)\n",
    "# Minimum number of samples required to split a node\n",
    "min_samples_split = [2, 5, 10]\n",
    "# Minimum number of samples required at each leaf node\n",
    "min_samples_leaf = [1, 2, 4]\n",
    "# Method of selecting samples for training each tree\n",
    "bootstrap = [True, False]\n",
    "# Create the random grid\n",
    "random_grid = {'n_estimators': n_estimators,\n",
    "               'max_features': max_features,\n",
    "               'max_depth': max_depth,\n",
    "               'min_samples_split': min_samples_split,\n",
    "               'min_samples_leaf': min_samples_leaf,\n",
    "               'bootstrap': bootstrap}\n"
   ]
  },
  {
   "cell_type": "code",
   "execution_count": 12,
   "id": "8d6fd147-854e-4cd2-8a2e-be7e266aa709",
   "metadata": {
    "execution": {
     "iopub.execute_input": "2022-02-02T13:52:02.500616Z",
     "iopub.status.busy": "2022-02-02T13:52:02.500616Z",
     "iopub.status.idle": "2022-02-02T13:53:49.550666Z",
     "shell.execute_reply": "2022-02-02T13:53:49.550666Z"
    },
    "papermill": {
     "duration": 107.064983,
     "end_time": "2022-02-02T13:53:49.550666",
     "exception": false,
     "start_time": "2022-02-02T13:52:02.485683",
     "status": "completed"
    },
    "tags": []
   },
   "outputs": [
    {
     "name": "stdout",
     "output_type": "stream",
     "text": [
      "Fitting 5 folds for each of 50 candidates, totalling 250 fits\n"
     ]
    }
   ],
   "source": [
    "rf = RandomForestRegressor()\n",
    "# Random search of parameters, using 3 fold cross validation, \n",
    "# search across 50 different combinations, and use all available cores\n",
    "rf_random = RandomizedSearchCV(estimator = rf, param_distributions = random_grid,\n",
    "                               n_iter = 50, cv = 5, verbose=1, random_state=42, n_jobs = -1)\n",
    "# Fit the random search model\n",
    "best_rf = rf_random.fit(X_train, y_train)"
   ]
  },
  {
   "cell_type": "code",
   "execution_count": 13,
   "id": "b545dd79-a104-42c6-95cc-188f7547a53a",
   "metadata": {
    "execution": {
     "iopub.execute_input": "2022-02-02T13:53:49.580675Z",
     "iopub.status.busy": "2022-02-02T13:53:49.579679Z",
     "iopub.status.idle": "2022-02-02T13:53:49.801908Z",
     "shell.execute_reply": "2022-02-02T13:53:49.801908Z"
    },
    "papermill": {
     "duration": 0.23722,
     "end_time": "2022-02-02T13:53:49.801908",
     "exception": false,
     "start_time": "2022-02-02T13:53:49.564688",
     "status": "completed"
    },
    "tags": []
   },
   "outputs": [],
   "source": [
    "val_metrics, y_hat_val = eval_metrics(X_val, y_val, best_rf)\n",
    "test_metrics, y_hat_test = eval_metrics(X_test, y_test, best_rf)\n",
    "val_metrics.to_csv('./results/RF_hyperparameter_val.csv')\n",
    "test_metrics.to_csv('./results/RF_hyparameter_test.csv')"
   ]
  },
  {
   "cell_type": "markdown",
   "id": "a87ada8e-02d2-4fa3-a072-324cf452f948",
   "metadata": {
    "papermill": {
     "duration": 0.013963,
     "end_time": "2022-02-02T13:53:49.829833",
     "exception": false,
     "start_time": "2022-02-02T13:53:49.815870",
     "status": "completed"
    },
    "tags": []
   },
   "source": [
    "# Hyperparameter Tuning for Lasso <a class=\"anchor\" id=\"fourth-bullet\"></a>\n",
    "1. Creating a set of paramters to loop over for the random forest estimator"
   ]
  },
  {
   "cell_type": "code",
   "execution_count": 14,
   "id": "840c4c02-eb94-4191-abcf-de6b2af9ca00",
   "metadata": {
    "execution": {
     "iopub.execute_input": "2022-02-02T13:53:49.858755Z",
     "iopub.status.busy": "2022-02-02T13:53:49.858755Z",
     "iopub.status.idle": "2022-02-02T13:53:49.925624Z",
     "shell.execute_reply": "2022-02-02T13:53:49.925624Z"
    },
    "papermill": {
     "duration": 0.082826,
     "end_time": "2022-02-02T13:53:49.925624",
     "exception": false,
     "start_time": "2022-02-02T13:53:49.842798",
     "status": "completed"
    },
    "tags": []
   },
   "outputs": [],
   "source": [
    "X_train, X_test, X_val, y_train, y_test, y_val = create_training_dataset(categorical_binary, regression_data,\n",
    "                                                                         price, index, regression_cols,\n",
    "                                                                         norm_reg = True)"
   ]
  },
  {
   "cell_type": "code",
   "execution_count": 15,
   "id": "f2e7da0d-900c-47c9-b978-328281b133af",
   "metadata": {
    "execution": {
     "iopub.execute_input": "2022-02-02T13:53:49.956541Z",
     "iopub.status.busy": "2022-02-02T13:53:49.955543Z",
     "iopub.status.idle": "2022-02-02T13:53:54.567209Z",
     "shell.execute_reply": "2022-02-02T13:53:54.567209Z"
    },
    "papermill": {
     "duration": 4.627623,
     "end_time": "2022-02-02T13:53:54.567209",
     "exception": false,
     "start_time": "2022-02-02T13:53:49.939586",
     "status": "completed"
    },
    "tags": []
   },
   "outputs": [
    {
     "name": "stdout",
     "output_type": "stream",
     "text": [
      "Fitting 5 folds for each of 15 candidates, totalling 75 fits\n"
     ]
    }
   ],
   "source": [
    "random_grid = {'alpha': np.logspace(-6, 1,25)}\n",
    "cls = Lasso(alpha =0.1)\n",
    "cls_random = RandomizedSearchCV(estimator = cls, param_distributions = random_grid,\n",
    "                               n_iter = 15, cv = 5, verbose=1, random_state=42, n_jobs = -1)\n",
    "cls_best = cls_random.fit(X_train, y_train)"
   ]
  },
  {
   "cell_type": "code",
   "execution_count": 16,
   "id": "3debde61-4279-4b53-a321-89e50bf55e40",
   "metadata": {
    "execution": {
     "iopub.execute_input": "2022-02-02T13:53:54.597130Z",
     "iopub.status.busy": "2022-02-02T13:53:54.597130Z",
     "iopub.status.idle": "2022-02-02T13:53:54.613087Z",
     "shell.execute_reply": "2022-02-02T13:53:54.613087Z"
    },
    "papermill": {
     "duration": 0.031915,
     "end_time": "2022-02-02T13:53:54.613087",
     "exception": false,
     "start_time": "2022-02-02T13:53:54.581172",
     "status": "completed"
    },
    "tags": []
   },
   "outputs": [
    {
     "data": {
      "text/plain": [
       "0\n",
       "log_corrcoef      0.811661\n",
       "corrcoef          0.688332\n",
       "rmse            108.750615\n",
       "log_rmse          0.422964\n",
       "Name: 1, dtype: float64"
      ]
     },
     "execution_count": 16,
     "metadata": {},
     "output_type": "execute_result"
    }
   ],
   "source": [
    "val_metrics, y_hat_val = eval_metrics(X_val, y_val, cls_best)\n",
    "test_metrics, y_hat_test = eval_metrics(X_test, y_test, cls_best)\n",
    "test_metrics"
   ]
  },
  {
   "cell_type": "code",
   "execution_count": 17,
   "id": "0f6b23d8-28ce-4b0b-9a34-6b29390d6dc5",
   "metadata": {
    "execution": {
     "iopub.execute_input": "2022-02-02T13:53:54.643006Z",
     "iopub.status.busy": "2022-02-02T13:53:54.642020Z",
     "iopub.status.idle": "2022-02-02T13:53:54.657781Z",
     "shell.execute_reply": "2022-02-02T13:53:54.657781Z"
    },
    "papermill": {
     "duration": 0.030732,
     "end_time": "2022-02-02T13:53:54.657781",
     "exception": false,
     "start_time": "2022-02-02T13:53:54.627049",
     "status": "completed"
    },
    "tags": []
   },
   "outputs": [],
   "source": [
    "val_metrics.to_csv('./results/Lasso_hyperparameter_val.csv')\n",
    "test_metrics.to_csv('./results/Lasso_hyparameter_test.csv')"
   ]
  }
 ],
 "metadata": {
  "kernelspec": {
   "display_name": "Python 3 (ipykernel)",
   "language": "python",
   "name": "python3"
  },
 