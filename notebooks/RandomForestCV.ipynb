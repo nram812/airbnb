{
 "cells": [
  {
   "cell_type": "code",
   "execution_count": 1,
   "id": "63432555-7f4b-487b-8b88-9dc523b06352",
   "metadata": {
    "execution": {
     "iopub.execute_input": "2022-02-02T14:11:05.870084Z",
     "iopub.status.busy": "2022-02-02T14:11:05.870084Z",
     "iopub.status.idle": "2022-02-02T14:11:07.145105Z",
     "shell.execute_reply": "2022-02-02T14:11:07.145105Z"
    },
    "papermill": {
     "duration": 1.295996,
     "end_time": "2022-02-02T14:11:07.145105",
     "exception": false,
     "start_time": "2022-02-02T14:11:05.849109",
     "status": "completed"
    },
    "tags": []
   },
   "outputs": [],
   "source": [
    "import pandas as pd\n",
    "import numpy as np\n",
    "import seaborn as sns\n",
    "from sklearn.model_selection import train_test_split\n",
    "import matplotlib.pyplot as plt\n",
    "import os\n",
    "from sklearn.ensemble import RandomForestRegressor, ExtraTreesRegressor\n",
    "from sklearn.linear_model import Lasso\n",
    "from sklearn.model_selection import RandomizedSearchCV\n",
    "import sys\n",
    "sys.path.append('./src')\n",
    "from funcs import *\n",
    "# Random Search CV tends to be better"
   ]
  },
  {
   "cell_type": "code",
   "execution_count": 2,
   "id": "1c70d253-6e06-4057-833f-646fc2aa69bc",
   "metadata": {
    "execution": {
     "iopub.execute_input": "2022-02-02T14:11:07.169040Z",
     "iopub.status.busy": "2022-02-02T14:11:07.168043Z",
     "iopub.status.idle": "2022-02-02T14:11:07.176115Z",
     "shell.execute_reply": "2022-02-02T14:11:07.176115Z"
    },
    "papermill": {
     "duration": 0.020012,
     "end_time": "2022-02-02T14:11:07.176115",
     "exception": false,
     "start_time": "2022-02-02T14:11:07.156103",
     "status": "completed"
    },
    "tags": []
   },
   "outputs": [],
   "source": [
    "if not os.path.exists('./results'):\n",
    "    os.makedirs('./results')"
   ]
  },
  {
   "cell_type": "markdown",
   "id": "d4408f9b-fb8c-4fc5-af49-ee875393519f",
   "metadata": {
    "papermill": {
     "duration": 0.009974,
     "end_time": "2022-02-02T14:11:07.197089",
     "exception": false,
     "start_time": "2022-02-02T14:11:07.187115",
     "status": "completed"
    },
    "tags": []
   },
   "source": [
    "## Training a Random Forest Model"
   ]
  },
  {
   "cell_type": "markdown",
   "id": "475d47cc-1ee2-445a-ac4d-5f61ca7b9838",
   "metadata": {
    "papermill": {
     "duration": 0.010973,
     "end_time": "2022-02-02T14:11:07.218035",
     "exception": false,
     "start_time": "2022-02-02T14:11:07.207062",
     "status": "completed"
    },
    "tags": []
   },
   "source": [
    "## Table of Contents:\n",
    "* [Loading Preprocessed Data](#first-bullet)\n",
    "* [Training an Estimator](#second-bullet)\n",
    "* [Hyperparameter Tuning](#third-bullet)\n",
    "* [Hyperparameter Tuning for Lasso](#fourth-bullet)\n",
    "* [Further Exploration of Output Data](#fifth-bullet)\n",
    "* [Saving Data](#sixth-bullet)"
   ]
  },
  {
   "cell_type": "markdown",
   "id": "9c52812a-f0dc-4af8-9d24-86349ce1c4a5",
   "metadata": {
    "papermill": {
     "duration": 0.01097,
     "end_time": "2022-02-02T14:11:07.238976",
     "exception": false,
     "start_time": "2022-02-02T14:11:07.228006",
     "status": "completed"
    },
    "tags": []
   },
   "source": [
    "## Loading Preprocessed Data <a class=\"anchor\" id=\"first-bullet\"></a>"
   ]
  },
  {
   "cell_type": "code",
   "execution_count": 3,
   "id": "2b0c204a-3e8b-47a1-95d6-774c811ff080",
   "metadata": {
    "execution": {
     "iopub.execute_input": "2022-02-02T14:11:07.261887Z",
     "iopub.status.busy": "2022-02-02T14:11:07.261887Z",
     "iopub.status.idle": "2022-02-02T14:11:07.427771Z",
     "shell.execute_reply": "2022-02-02T14:11:07.426744Z"
    },
    "papermill": {
     "duration": 0.17882,
     "end_time": "2022-02-02T14:11:07.427771",
     "exception": false,
     "start_time": "2022-02-02T14:11:07.248951",
     "status": "completed"
    },
    "tags": []
   },
   "outputs": [],
   "source": [
    "import os\n",
    "# binary data is used for the Lasso Model\n",
    "categorical_binary = pd.read_csv(r'./preprocessed/categorical_binary.csv', index_col =0)\n",
    "categorical_raw = pd.read_csv(r'./preprocessed/categorical_raw.csv', index_col =0)\n",
    "regression_data = pd.read_csv(r'./preprocessed/regression_transformed.csv', index_col =0)\n",
    "regression_cols = regression_data.columns\n",
    "index = pd.read_csv('./preprocessed/benchmark_datasets_index.csv', index_col =0)\n",
    "price = pd.read_csv('./preprocessed/price.csv', index_col =0)"
   ]
  },
  {
   "cell_type": "code",
   "execution_count": 4,
   "id": "7c7ee653-8a62-46c8-95bf-7f8bb3ff2350",
   "metadata": {
    "execution": {
     "iopub.execute_input": "2022-02-02T14:11:07.450684Z",
     "iopub.status.busy": "2022-02-02T14:11:07.450684Z",
     "iopub.status.idle": "2022-02-02T14:11:07.457532Z",
     "shell.execute_reply": "2022-02-02T14:11:07.457532Z"
    },
    "papermill": {
     "duration": 0.019788,
     "end_time": "2022-02-02T14:11:07.457532",
     "exception": false,
     "start_time": "2022-02-02T14:11:07.437744",
     "status": "completed"
    },
    "tags": []
   },
   "outputs": [],
   "source": [
    "regression_cols = ['host_response_rate', 'host_acceptance_rate',\n",
    "       'transformed_review_scores_rating',\n",
    "       'transformed_review_scores_accuracy',\n",
    "       'transformed_review_scores_cleanliness',\n",
    "       'transformed_review_scores_checkin',\n",
    "       'transformed_review_scores_communication',\n",
    "       'transformed_review_scores_location',\n",
    "       'transformed_review_scores_value']\n",
    "# note remove bathrooms text as a predictor"
   ]
  },
  {
   "cell_type": "code",
   "execution_count": 5,
   "id": "10e1a955-069b-4ba7-ad7d-a11da74e96f6",
   "metadata": {
    "execution": {
     "iopub.execute_input": "2022-02-02T14:11:07.480472Z",
     "iopub.status.busy": "2022-02-02T14:11:07.479475Z",
     "iopub.status.idle": "2022-02-02T14:11:07.522710Z",
     "shell.execute_reply": "2022-02-02T14:11:07.523708Z"
    },
    "papermill": {
     "duration": 0.05717,
     "end_time": "2022-02-02T14:11:07.524705",
     "exception": false,
     "start_time": "2022-02-02T14:11:07.467535",
     "status": "completed"
    },
    "tags": []
   },
   "outputs": [],
   "source": [
    "X_train, X_test, X_val, y_train, y_test, y_val = create_training_dataset(categorical_raw, regression_data,\n",
    "                                                                         price, index, regression_cols,\n",
    "                                                                         norm_reg = True)"
   ]
  },
  {
   "cell_type": "code",
   "execution_count": 6,
   "id": "60a83367-b901-4df2-a4a1-efa946799e28",
   "metadata": {
    "execution": {
     "iopub.execute_input": "2022-02-02T14:11:07.548652Z",
     "iopub.status.busy": "2022-02-02T14:11:07.548652Z",
     "iopub.status.idle": "2022-02-02T14:11:07.584703Z",
     "shell.execute_reply": "2022-02-02T14:11:07.585701Z"
    },
    "papermill": {
     "duration": 0.049028,
     "end_time": "2022-02-02T14:11:07.585701",
     "exception": false,
     "start_time": "2022-02-02T14:11:07.536673",
     "status": "completed"
    },
    "tags": []
   },
   "outputs": [
    {
     "data": {
      "text/html": [
       "<div>\n",
       "<style scoped>\n",
       "    .dataframe tbody tr th:only-of-type {\n",
       "        vertical-align: middle;\n",
       "    }\n",
       "\n",
       "    .dataframe tbody tr th {\n",
       "        vertical-align: top;\n",
       "    }\n",
       "\n",
       "    .dataframe thead th {\n",
       "        text-align: right;\n",
       "    }\n",
       "</style>\n",
       "<table border=\"1\" class=\"dataframe\">\n",
       "  <thead>\n",
       "    <tr style=\"text-align: right;\">\n",
       "      <th></th>\n",
       "      <th>host_identity_verified_0</th>\n",
       "      <th>host_identity_verified_1</th>\n",
       "      <th>accommodates_0</th>\n",
       "      <th>accommodates_1</th>\n",
       "      <th>accommodates_2</th>\n",
       "      <th>accommodates_3</th>\n",
       "      <th>accommodates_4</th>\n",
       "      <th>accommodates_5</th>\n",
       "      <th>accommodates_6</th>\n",
       "      <th>accommodates_7</th>\n",
       "      <th>...</th>\n",
       "      <th>neighbourhood_group_cleansed_3</th>\n",
       "      <th>neighbourhood_group_cleansed_4</th>\n",
       "      <th>host_has_profile_pic_0</th>\n",
       "      <th>host_has_profile_pic_1</th>\n",
       "      <th>host_response_time_0</th>\n",
       "      <th>host_response_time_1</th>\n",
       "      <th>host_response_time_2</th>\n",
       "      <th>host_response_time_3</th>\n",
       "      <th>host_is_superhost_0</th>\n",
       "      <th>host_is_superhost_1</th>\n",
       "    </tr>\n",
       "  </thead>\n",
       "  <tbody>\n",
       "    <tr>\n",
       "      <th>1</th>\n",
       "      <td>1.0</td>\n",
       "      <td>0.0</td>\n",
       "      <td>0.0</td>\n",
       "      <td>0.0</td>\n",
       "      <td>1.0</td>\n",
       "      <td>0.0</td>\n",
       "      <td>0.0</td>\n",
       "      <td>0.0</td>\n",
       "      <td>0.0</td>\n",
       "      <td>0.0</td>\n",
       "      <td>...</td>\n",
       "      <td>0.0</td>\n",
       "      <td>0.0</td>\n",
       "      <td>1.0</td>\n",
       "      <td>0.0</td>\n",
       "      <td>0.0</td>\n",
       "      <td>1.0</td>\n",
       "      <td>0.0</td>\n",
       "      <td>0.0</td>\n",
       "      <td>1.0</td>\n",
       "      <td>0.0</td>\n",
       "    </tr>\n",
       "    <tr>\n",
       "      <th>4</th>\n",
       "      <td>0.0</td>\n",
       "      <td>1.0</td>\n",
       "      <td>0.0</td>\n",
       "      <td>1.0</td>\n",
       "      <td>0.0</td>\n",
       "      <td>0.0</td>\n",
       "      <td>0.0</td>\n",
       "      <td>0.0</td>\n",
       "      <td>0.0</td>\n",
       "      <td>0.0</td>\n",
       "      <td>...</td>\n",
       "      <td>0.0</td>\n",
       "      <td>0.0</td>\n",
       "      <td>1.0</td>\n",
       "      <td>0.0</td>\n",
       "      <td>0.0</td>\n",
       "      <td>0.0</td>\n",
       "      <td>0.0</td>\n",
       "      <td>1.0</td>\n",
       "      <td>1.0</td>\n",
       "      <td>0.0</td>\n",
       "    </tr>\n",
       "    <tr>\n",
       "      <th>6</th>\n",
       "      <td>1.0</td>\n",
       "      <td>0.0</td>\n",
       "      <td>0.0</td>\n",
       "      <td>1.0</td>\n",
       "      <td>0.0</td>\n",
       "      <td>0.0</td>\n",
       "      <td>0.0</td>\n",
       "      <td>0.0</td>\n",
       "      <td>0.0</td>\n",
       "      <td>0.0</td>\n",
       "      <td>...</td>\n",
       "      <td>0.0</td>\n",
       "      <td>0.0</td>\n",
       "      <td>1.0</td>\n",
       "      <td>0.0</td>\n",
       "      <td>0.0</td>\n",
       "      <td>0.0</td>\n",
       "      <td>0.0</td>\n",
       "      <td>1.0</td>\n",
       "      <td>0.0</td>\n",
       "      <td>1.0</td>\n",
       "    </tr>\n",
       "    <tr>\n",
       "      <th>8</th>\n",
       "      <td>1.0</td>\n",
       "      <td>0.0</td>\n",
       "      <td>1.0</td>\n",
       "      <td>0.0</td>\n",
       "      <td>0.0</td>\n",
       "      <td>0.0</td>\n",
       "      <td>0.0</td>\n",
       "      <td>0.0</td>\n",
       "      <td>0.0</td>\n",
       "      <td>0.0</td>\n",
       "      <td>...</td>\n",
       "      <td>0.0</td>\n",
       "      <td>0.0</td>\n",
       "      <td>1.0</td>\n",
       "      <td>0.0</td>\n",
       "      <td>1.0</td>\n",
       "      <td>0.0</td>\n",
       "      <td>0.0</td>\n",
       "      <td>0.0</td>\n",
       "      <td>1.0</td>\n",
       "      <td>0.0</td>\n",
       "    </tr>\n",
       "    <tr>\n",
       "      <th>9</th>\n",
       "      <td>1.0</td>\n",
       "      <td>0.0</td>\n",
       "      <td>1.0</td>\n",
       "      <td>0.0</td>\n",
       "      <td>0.0</td>\n",
       "      <td>0.0</td>\n",
       "      <td>0.0</td>\n",
       "      <td>0.0</td>\n",
       "      <td>0.0</td>\n",
       "      <td>0.0</td>\n",
       "      <td>...</td>\n",
       "      <td>0.0</td>\n",
       "      <td>0.0</td>\n",
       "      <td>1.0</td>\n",
       "      <td>0.0</td>\n",
       "      <td>0.0</td>\n",
       "      <td>0.0</td>\n",
       "      <td>1.0</td>\n",
       "      <td>0.0</td>\n",
       "      <td>0.0</td>\n",
       "      <td>1.0</td>\n",
       "    </tr>\n",
       "    <tr>\n",
       "      <th>...</th>\n",
       "      <td>...</td>\n",
       "      <td>...</td>\n",
       "      <td>...</td>\n",
       "      <td>...</td>\n",
       "      <td>...</td>\n",
       "      <td>...</td>\n",
       "      <td>...</td>\n",
       "      <td>...</td>\n",
       "      <td>...</td>\n",
       "      <td>...</td>\n",
       "      <td>...</td>\n",
       "      <td>...</td>\n",
       "      <td>...</td>\n",
       "      <td>...</td>\n",
       "      <td>...</td>\n",
       "      <td>...</td>\n",
       "      <td>...</td>\n",
       "      <td>...</td>\n",
       "      <td>...</td>\n",
       "      <td>...</td>\n",
       "      <td>...</td>\n",
       "    </tr>\n",
       "    <tr>\n",
       "      <th>19990</th>\n",
       "      <td>1.0</td>\n",
       "      <td>0.0</td>\n",
       "      <td>1.0</td>\n",
       "      <td>0.0</td>\n",
       "      <td>0.0</td>\n",
       "      <td>0.0</td>\n",
       "      <td>0.0</td>\n",
       "      <td>0.0</td>\n",
       "      <td>0.0</td>\n",
       "      <td>0.0</td>\n",
       "      <td>...</td>\n",
       "      <td>0.0</td>\n",
       "      <td>0.0</td>\n",
       "      <td>1.0</td>\n",
       "      <td>0.0</td>\n",
       "      <td>0.0</td>\n",
       "      <td>0.0</td>\n",
       "      <td>0.0</td>\n",
       "      <td>1.0</td>\n",
       "      <td>1.0</td>\n",
       "      <td>0.0</td>\n",
       "    </tr>\n",
       "    <tr>\n",
       "      <th>19991</th>\n",
       "      <td>1.0</td>\n",
       "      <td>0.0</td>\n",
       "      <td>0.0</td>\n",
       "      <td>1.0</td>\n",
       "      <td>0.0</td>\n",
       "      <td>0.0</td>\n",
       "      <td>0.0</td>\n",
       "      <td>0.0</td>\n",
       "      <td>0.0</td>\n",
       "      <td>0.0</td>\n",
       "      <td>...</td>\n",
       "      <td>0.0</td>\n",
       "      <td>0.0</td>\n",
       "      <td>1.0</td>\n",
       "      <td>0.0</td>\n",
       "      <td>0.0</td>\n",
       "      <td>0.0</td>\n",
       "      <td>0.0</td>\n",
       "      <td>1.0</td>\n",
       "      <td>1.0</td>\n",
       "      <td>0.0</td>\n",
       "    </tr>\n",
       "    <tr>\n",
       "      <th>19994</th>\n",
       "      <td>1.0</td>\n",
       "      <td>0.0</td>\n",
       "      <td>0.0</td>\n",
       "      <td>1.0</td>\n",
       "      <td>0.0</td>\n",
       "      <td>0.0</td>\n",
       "      <td>0.0</td>\n",
       "      <td>0.0</td>\n",
       "      <td>0.0</td>\n",
       "      <td>0.0</td>\n",
       "      <td>...</td>\n",
       "      <td>0.0</td>\n",
       "      <td>0.0</td>\n",
       "      <td>1.0</td>\n",
       "      <td>0.0</td>\n",
       "      <td>0.0</td>\n",
       "      <td>1.0</td>\n",
       "      <td>0.0</td>\n",
       "      <td>0.0</td>\n",
       "      <td>1.0</td>\n",
       "      <td>0.0</td>\n",
       "    </tr>\n",
       "    <tr>\n",
       "      <th>19996</th>\n",
       "      <td>1.0</td>\n",
       "      <td>0.0</td>\n",
       "      <td>0.0</td>\n",
       "      <td>1.0</td>\n",
       "      <td>0.0</td>\n",
       "      <td>0.0</td>\n",
       "      <td>0.0</td>\n",
       "      <td>0.0</td>\n",
       "      <td>0.0</td>\n",
       "      <td>0.0</td>\n",
       "      <td>...</td>\n",
       "      <td>0.0</td>\n",
       "      <td>0.0</td>\n",
       "      <td>1.0</td>\n",
       "      <td>0.0</td>\n",
       "      <td>0.0</td>\n",
       "      <td>0.0</td>\n",
       "      <td>0.0</td>\n",
       "      <td>1.0</td>\n",
       "      <td>1.0</td>\n",
       "      <td>0.0</td>\n",
       "    </tr>\n",
       "    <tr>\n",
       "      <th>19997</th>\n",
       "      <td>0.0</td>\n",
       "      <td>1.0</td>\n",
       "      <td>0.0</td>\n",
       "      <td>0.0</td>\n",
       "      <td>1.0</td>\n",
       "      <td>0.0</td>\n",
       "      <td>0.0</td>\n",
       "      <td>0.0</td>\n",
       "      <td>0.0</td>\n",
       "      <td>0.0</td>\n",
       "      <td>...</td>\n",
       "      <td>0.0</td>\n",
       "      <td>0.0</td>\n",
       "      <td>1.0</td>\n",
       "      <td>0.0</td>\n",
       "      <td>0.0</td>\n",
       "      <td>0.0</td>\n",
       "      <td>1.0</td>\n",
       "      <td>0.0</td>\n",
       "      <td>0.0</td>\n",
       "      <td>1.0</td>\n",
       "    </tr>\n",
       "  </tbody>\n",
       "</table>\n",
       "<p>7861 rows × 85 columns</p>\n",
       "</div>"
      ],
      "text/plain": [
       "       host_identity_verified_0  host_identity_verified_1  accommodates_0  \\\n",
       "1                           1.0                       0.0             0.0   \n",
       "4                           0.0                       1.0             0.0   \n",
       "6                           1.0                       0.0             0.0   \n",
       "8                           1.0                       0.0             1.0   \n",
       "9                           1.0                       0.0             1.0   \n",
       "...                         ...                       ...             ...   \n",
       "19990                       1.0                       0.0             1.0   \n",
       "19991                       1.0                       0.0             0.0   \n",
       "19994                       1.0                       0.0             0.0   \n",
       "19996                       1.0                       0.0             0.0   \n",
       "19997                       0.0                       1.0             0.0   \n",
       "\n",
       "       accommodates_1  accommodates_2  accommodates_3  accommodates_4  \\\n",
       "1                 0.0             1.0             0.0             0.0   \n",
       "4                 1.0             0.0             0.0             0.0   \n",
       "6                 1.0             0.0             0.0             0.0   \n",
       "8                 0.0             0.0             0.0             0.0   \n",
       "9                 0.0             0.0             0.0             0.0   \n",
       "...               ...             ...             ...             ...   \n",
       "19990             0.0             0.0             0.0             0.0   \n",
       "19991             1.0             0.0             0.0             0.0   \n",
       "19994             1.0             0.0             0.0             0.0   \n",
       "19996             1.0             0.0             0.0             0.0   \n",
       "19997             0.0             1.0             0.0             0.0   \n",
       "\n",
       "       accommodates_5  accommodates_6  accommodates_7  ...  \\\n",
       "1                 0.0             0.0             0.0  ...   \n",
       "4                 0.0             0.0             0.0  ...   \n",
       "6                 0.0             0.0             0.0  ...   \n",
       "8                 0.0             0.0             0.0  ...   \n",
       "9                 0.0             0.0             0.0  ...   \n",
       "...               ...             ...             ...  ...   \n",
       "19990             0.0             0.0             0.0  ...   \n",
       "19991             0.0             0.0             0.0  ...   \n",
       "19994             0.0             0.0             0.0  ...   \n",
       "19996             0.0             0.0             0.0  ...   \n",
       "19997             0.0             0.0             0.0  ...   \n",
       "\n",
       "       neighbourhood_group_cleansed_3  neighbourhood_group_cleansed_4  \\\n",
       "1                                 0.0                             0.0   \n",
       "4                                 0.0                             0.0   \n",
       "6                                 0.0                             0.0   \n",
       "8                                 0.0                             0.0   \n",
       "9                                 0.0                             0.0   \n",
       "...                               ...                             ...   \n",
       "19990                             0.0                             0.0   \n",
       "19991                             0.0                             0.0   \n",
       "19994                             0.0                             0.0   \n",
       "19996                             0.0                             0.0   \n",
       "19997                             0.0                             0.0   \n",
       "\n",
       "       host_has_profile_pic_0  host_has_profile_pic_1  host_response_time_0  \\\n",
       "1                         1.0                     0.0                   0.0   \n",
       "4                         1.0                     0.0                   0.0   \n",
       "6                         1.0                     0.0                   0.0   \n",
       "8                         1.0                     0.0                   1.0   \n",
       "9                         1.0                     0.0                   0.0   \n",
       "...                       ...                     ...                   ...   \n",
       "19990                     1.0                     0.0                   0.0   \n",
       "19991                     1.0                     0.0                   0.0   \n",
       "19994                     1.0                     0.0                   0.0   \n",
       "19996                     1.0                     0.0                   0.0   \n",
       "19997                     1.0                     0.0                   0.0   \n",
       "\n",
       "       host_response_time_1  host_response_time_2  host_response_time_3  \\\n",
       "1                       1.0                   0.0                   0.0   \n",
       "4                       0.0                   0.0                   1.0   \n",
       "6                       0.0                   0.0                   1.0   \n",
       "8                       0.0                   0.0                   0.0   \n",
       "9                       0.0                   1.0                   0.0   \n",
       "...                     ...                   ...                   ...   \n",
       "19990                   0.0                   0.0                   1.0   \n",
       "19991                   0.0                   0.0                   1.0   \n",
       "19994                   1.0                   0.0                   0.0   \n",
       "19996                   0.0                   0.0                   1.0   \n",
       "19997                   0.0                   1.0                   0.0   \n",
       "\n",
       "       host_is_superhost_0  host_is_superhost_1  \n",
       "1                      1.0                  0.0  \n",
       "4                      1.0                  0.0  \n",
       "6                      0.0                  1.0  \n",
       "8                      1.0                  0.0  \n",
       "9                      0.0                  1.0  \n",
       "...                    ...                  ...  \n",
       "19990                  1.0                  0.0  \n",
       "19991                  1.0                  0.0  \n",
       "19994                  1.0                  0.0  \n",
       "19996                  1.0                  0.0  \n",
       "19997                  0.0                  1.0  \n",
       "\n",
       "[7861 rows x 85 columns]"
      ]
     },
     "execution_count": 6,
     "metadata": {},
     "output_type": "execute_result"
    }
   ],
   "source": [
    "categorical_binary.dropna()"
   ]
  },
  {
   "cell_type": "markdown",
   "id": "16065b9d-f329-4e6d-b71f-0d17c2e6dacd",
   "metadata": {
    "papermill": {
     "duration": 0.010971,
     "end_time": "2022-02-02T14:11:07.609634",
     "exception": false,
     "start_time": "2022-02-02T14:11:07.598663",
     "status": "completed"
    },
    "tags": []
   },
   "source": [
    "## Training an Estimator <a class=\"anchor\" id=\"second-bullet\"></a>"
   ]
  },
  {
   "cell_type": "code",
   "execution_count": 7,
   "id": "74455ab6-bba9-4707-a4ab-ba2070731d43",
   "metadata": {
    "execution": {
     "iopub.execute_input": "2022-02-02T14:11:07.633569Z",
     "iopub.status.busy": "2022-02-02T14:11:07.632573Z",
     "iopub.status.idle": "2022-02-02T14:11:08.045514Z",
     "shell.execute_reply": "2022-02-02T14:11:08.045514Z"
    },
    "papermill": {
     "duration": 0.424909,
     "end_time": "2022-02-02T14:11:08.045514",
     "exception": false,
     "start_time": "2022-02-02T14:11:07.620605",
     "status": "completed"
    },
    "tags": []
   },
   "outputs": [
    {
     "data": {
      "text/plain": [
       "RandomForestRegressor(max_depth=10, max_features=5)"
      ]
     },
     "execution_count": 7,
     "metadata": {},
     "output_type": "execute_result"
    }
   ],
   "source": [
    "rf = RandomForestRegressor(max_features =5, max_depth =10)\n",
    "rf.fit(X_train, y_train)"
   ]
  },
  {
   "cell_type": "code",
   "execution_count": 8,
   "id": "f71b6375-f38e-4597-a16f-1c30cd030918",
   "metadata": {
    "execution": {
     "iopub.execute_input": "2022-02-02T14:11:08.070530Z",
     "iopub.status.busy": "2022-02-02T14:11:08.070530Z",
     "iopub.status.idle": "2022-02-02T14:11:08.283526Z",
     "shell.execute_reply": "2022-02-02T14:11:08.283526Z"
    },
    "papermill": {
     "duration": 0.225991,
     "end_time": "2022-02-02T14:11:08.283526",
     "exception": false,
     "start_time": "2022-02-02T14:11:08.057535",
     "status": "completed"
    },
    "tags": []
   },
   "outputs": [
    {
     "data": {
      "text/plain": [
       "<AxesSubplot:>"
      ]
     },
     "execution_count": 8,
     "metadata": {},
     "output_type": "execute_result"
    },
    {
     "data": {
      "image/png": "[encoded data removed]",
      "text/plain": [
       "<Figure size 432x288 with 1 Axes>"
      ]
     },
     "metadata": {
      "needs_background": "light"
     },
     "output_type": "display_data"
    }
   ],
   "source": [
    "df_feature = pd.DataFrame(data = rf.feature_importances_, index = X_train.columns)\n",
    "df_feature[0].plot.bar()"
   ]
  },
  {
   "cell_type": "code",
   "execution_count": 9,
   "id": "fd923b9d-4692-41eb-96c2-3a422bdaec41",
   "metadata": {
    "execution": {
     "iopub.execute_input": "2022-02-02T14:11:08.310456Z",
     "iopub.status.busy": "2022-02-02T14:11:08.309458Z",
     "iopub.status.idle": "2022-02-02T14:11:08.360637Z",
     "shell.execute_reply": "2022-02-02T14:11:08.360637Z"
    },
    "papermill": {
     "duration": 0.065114,
     "end_time": "2022-02-02T14:11:08.360637",
     "exception": false,
     "start_time": "2022-02-02T14:11:08.295523",
     "status": "completed"
    },
    "tags": []
   },
   "outputs": [],
   "source": [
    "val_metrics, y_hat_val = eval_metrics(X_val, y_val, rf)\n",
    "test_metrics, y_hat_val = eval_metrics(X_test, y_test, rf)\n",
    "val_metrics.to_csv('./results/RF_val.csv')\n",
    "test_metrics.to_csv('./results/RF_test.csv')"
   ]
  },
  {
   "cell_type": "code",
   "execution_count": 10,
   "id": "0ba4086e-05ab-4c5c-99cb-1aae874b9be5",
   "metadata": {
    "execution": {
     "iopub.execute_input": "2022-02-02T14:11:08.396541Z",
     "iopub.status.busy": "2022-02-02T14:11:08.386567Z",
     "iopub.status.idle": "2022-02-02T14:11:08.755027Z",
     "shell.execute_reply": "2022-02-02T14:11:08.755027Z"
    },
    "papermill": {
     "duration": 0.382395,
     "end_time": "2022-02-02T14:11:08.755027",
     "exception": false,
     "start_time": "2022-02-02T14:11:08.372632",
     "status": "completed"
    },
    "tags": []
   },
   "outputs": [
    {
     "data": {
      "text/plain": [
       "[<matplotlib.lines.Line2D at 0x21da9e3beb0>]"
      ]
     },
     "execution_count": 10,
     "metadata": {},
     "output_type": "execute_result"
    },
    {
     "data": {
      "image/png": "[encoded data removed]",
      "text/plain": [
       "<Figure size 432x288 with 1 Axes>"
      ]
     },
     "metadata": {
      "needs_background": "light"
     },
     "output_type": "display_data"
    }
   ],
   "source": [
    "fig, ax = plt.subplots()\n",
    "ax.plot(y_hat_val.log_price,y_hat_val.predictions,'rx')"
   ]
  },
  {
   "cell_type": "markdown",
   "id": "7bf04f16-dc26-47f6-8a21-6cfefeaac2b9",
   "metadata": {
    "papermill": {
     "duration": 0.01296,
     "end_time": "2022-02-02T14:11:08.780986",
     "exception": false,
     "start_time": "2022-02-02T14:11:08.768026",
     "status": "completed"
    },
    "tags": []
   },
   "source": [
    "# Hyperparameter Tuning <a class=\"anchor\" id=\"third-bullet\"></a>\n",
    "1. Creating a set of paramters to loop over for the random forest estimator"
   ]
  },
  {
   "cell_type": "code",
   "execution_count": 11,
   "id": "c3bece07-bbc3-426f-8d67-1373e9a09b93",
   "metadata": {
    "execution": {
     "iopub.execute_input": "2022-02-02T14:11:08.809879Z",
     "iopub.status.busy": "2022-02-02T14:11:08.809879Z",
     "iopub.status.idle": "2022-02-02T14:11:08.817652Z",
     "shell.execute_reply": "2022-02-02T14:11:08.817652Z"
    },
    "papermill": {
     "duration": 0.024734,
     "end_time": "2022-02-02T14:11:08.818684",
     "exception": false,
     "start_time": "2022-02-02T14:11:08.793950",
     "status": "completed"
    },
    "tags": []
   },
   "outputs": [],
   "source": [
    "\n",
    "# Number of trees in random forest\n",
    "n_estimators = [int(x) for x in np.linspace(start = 20, stop = 500, num = 10)]\n",
    "# Number of features to consider at every split\n",
    "max_features = ['auto', 'sqrt']\n",
    "# Maximum number of levels in tree\n",
    "max_depth = [int(x) for x in np.linspace(10, 80, num = 9)]\n",
    "max_depth.append(None)\n",
    "# Minimum number of samples required to split a node\n",
    "min_samples_split = [2, 5, 10]\n",
    "# Minimum number of samples required at each leaf node\n",
    "min_samples_leaf = [1, 2, 4]\n",
    "# Method of selecting samples for training each tree\n",
    "bootstrap = [True, False]\n",
    "# Create the random grid\n",
    "random_grid = {'n_estimators': n_estimators,\n",
    "               'max_features': max_features,\n",
    "               'max_depth': max_depth,\n",
    "               'min_samples_split': min_samples_split,\n",
    "               'min_samples_leaf': min_samples_leaf,\n",
    "               'bootstrap': bootstrap}\n"
   ]
  },
  {
   "cell_type": "code",
   "execution_count": 12,
   "id": "8d6fd147-854e-4cd2-8a2e-be7e266aa709",
   "metadata": {
    "execution": {
     "iopub.execute_input": "2022-02-02T14:11:08.846576Z",
     "iopub.status.busy": "2022-02-02T14:11:08.845578Z",
     "iopub.status.idle": "2022-02-02T14:12:57.082737Z",
     "shell.execute_reply": "2022-02-02T14:12:57.082737Z"
    },
    "papermill": {
     "duration": 108.25209,
     "end_time": "2022-02-02T14:12:57.082737",
     "exception": false,
     "start_time": "2022-02-02T14:11:08.830647",
     "status": "completed"
    },
    "tags": []
   },
   "outputs": [
    {
     "name": "stdout",
     "output_type": "stream",
     "text": [
      "Fitting 5 folds for each of 50 candidates, totalling 250 fits\n"
     ]
    }
   ],
   "source": [
    "rf = RandomForestRegressor()\n",
    "# Random search of parameters, using 3 fold cross validation, \n",
    "# search across 50 different combinations, and use all available cores\n",
    "rf_random = RandomizedSearchCV(estimator = rf, param_distributions = random_grid,\n",
    "                               n_iter = 50, cv = 5, verbose=1, random_state=42, n_jobs = -1)\n",
    "# Fit the random search model\n",
    "best_rf = rf_random.fit(X_train, y_train)"
   ]
  },
  {
   "cell_type": "code",
   "execution_count": 13,
   "id": "b545dd79-a104-42c6-95cc-188f7547a53a",
   "metadata": {
    "execution": {
     "iopub.execute_input": "2022-02-02T14:12:57.112658Z",
     "iopub.status.busy": "2022-02-02T14:12:57.112658Z",
     "iopub.status.idle": "2022-02-02T14:12:57.346444Z",
     "shell.execute_reply": "2022-02-02T14:12:57.346444Z"
    },
    "papermill": {
     "duration": 0.249744,
     "end_time": "2022-02-02T14:12:57.346444",
     "exception": false,
     "start_time": "2022-02-02T14:12:57.096700",
     "status": "completed"
    },
    "tags": []
   },
   "outputs": [],
   "source": [
    "val_metrics, y_hat_val = eval_metrics(X_val, y_val, best_rf)\n",
    "test_metrics, y_hat_test = eval_metrics(X_test, y_test, best_rf)\n",
    "val_metrics.to_csv('./results/RF_hyperparameter_val.csv')\n",
    "test_metrics.to_csv('./results/RF_hyparameter_test.csv')"
   ]
  },
  {
   "cell_type": "markdown",
   "id": "a87ada8e-02d2-4fa3-a072-324cf452f948",
   "metadata": {
    "papermill": {
     "duration": 0.012963,
     "end_time": "2022-02-02T14:12:57.373403",
     "exception": false,
     "start_time": "2022-02-02T14:12:57.360440",
     "status": "completed"
    },
    "tags": []
   },
   "source": [
    "# Hyperparameter Tuning for Lasso <a class=\"anchor\" id=\"fourth-bullet\"></a>\n",
    "1. Creating a set of paramters to loop over for the random forest estimator"
   ]
  },
  {
   "cell_type": "code",
   "execution_count": 14,
   "id": "840c4c02-eb94-4191-abcf-de6b2af9ca00",
   "metadata": {
    "execution": {
     "iopub.execute_input": "2022-02-02T14:12:57.403321Z",
     "iopub.status.busy": "2022-02-02T14:12:57.402295Z",
     "iopub.status.idle": "2022-02-02T14:12:57.457399Z",
     "shell.execute_reply": "2022-02-02T14:12:57.457399Z"
    },
    "papermill": {
     "duration": 0.070037,
     "end_time": "2022-02-02T14:12:57.457399",
     "exception": false,
     "start_time": "2022-02-02T14:12:57.387362",
     "status": "completed"
    },
    "tags": []
   },
   "outputs": [],
   "source": [
    "X_train, X_test, X_val, y_train, y_test, y_val = create_training_dataset(categorical_binary, regression_data,\n",
    "                                                                         price, index, regression_cols,\n",
    "                                                                         norm_reg = True)"
   ]
  },
  {
   "cell_type": "code",
   "execution_count": 15,
   "id": "f2e7da0d-900c-47c9-b978-328281b133af",
   "metadata": {
    "execution": {
     "iopub.execute_input": "2022-02-02T14:12:57.488318Z",
     "iopub.status.busy": "2022-02-02T14:12:57.487320Z",
     "iopub.status.idle": "2022-02-02T14:13:02.176000Z",
     "shell.execute_reply": "2022-02-02T14:13:02.176000Z"
    },
    "papermill": {
     "duration": 4.704637,
     "end_time": "2022-02-02T14:13:02.176000",
     "exception": false,
     "start_time": "2022-02-02T14:12:57.471363",
     "status": "completed"
    },
    "tags": []
   },
   "outputs": [
    {
     "name": "stdout",
     "output_type": "stream",
     "text": [
      "Fitting 5 folds for each of 15 candidates, totalling 75 fits\n"
     ]
    }
   ],
   "source": [
    "random_grid = {'alpha': np.logspace(-6, 1,25)}\n",
    "cls = Lasso(alpha =0.1)\n",
    "cls_random = RandomizedSearchCV(estimator = cls, param_distributions = random_grid,\n",
    "                               n_iter = 15, cv = 5, verbose=1, random_state=42, n_jobs = -1)\n",
    "cls_best = cls_random.fit(X_train, y_train)"
   ]
  },
  {
   "cell_type": "code",
   "execution_count": 16,
   "id": "3debde61-4279-4b53-a321-89e50bf55e40",
   "metadata": {
    "execution": {
     "iopub.execute_input": "2022-02-02T14:13:02.207391Z",
     "iopub.status.busy": "2022-02-02T14:13:02.205397Z",
     "iopub.status.idle": "2022-02-02T14:13:02.224404Z",
     "shell.execute_reply": "2022-02-02T14:13:02.224404Z"
    },
    "papermill": {
     "duration": 0.033969,
     "end_time": "2022-02-02T14:13:02.224404",
     "exception": false,
     "start_time": "2022-02-02T14:13:02.190435",
     "status": "completed"
    },
    "tags": []
   },
   "outputs": [
    {
     "data": {
      "text/plain": [
       "0\n",
       "log_corrcoef      0.811661\n",
       "corrcoef          0.688332\n",
       "rmse            108.750615\n",
       "log_rmse          0.422964\n",
       "Name: 1, dtype: float64"
      ]
     },
     "execution_count": 16,
     "metadata": {},
     "output_type": "execute_result"
    }
   ],
   "source": [
    "val_metrics, y_hat_val = eval_metrics(X_val, y_val, cls_best)\n",
    "test_metrics, y_hat_test = eval_metrics(X_test, y_test, cls_best)\n",
    "test_metrics"
   ]
  },
  {
   "cell_type": "code",
   "execution_count": 17,
   "id": "0f6b23d8-28ce-4b0b-9a34-6b29390d6dc5",
   "metadata": {
    "execution": {
     "iopub.execute_input": "2022-02-02T14:13:02.254323Z",
     "iopub.status.busy": "2022-02-02T14:13:02.253354Z",
     "iopub.status.idle": "2022-02-02T14:13:02.269739Z",
     "shell.execute_reply": "2022-02-02T14:13:02.269739Z"
    },
    "papermill": {
     "duration": 0.031343,
     "end_time": "2022-02-02T14:13:02.269739",
     "exception": false,
     "start_time": "2022-02-02T14:13:02.238396",
     "status": "completed"
    },
    "tags": []
   },
   "outputs": [],
   "source": [
    "val_metrics.to_csv('./results/Lasso_hyperparameter_val.csv')\n",
    "test_metrics.to_csv('./results/Lasso_hyparameter_test.csv')"
   ]
  }
 ],
 "metadata": {
  "kernelspec": {
   "display_name": "Python 3 (ipykernel)",
   "language": "python",
   "name": "python3"
  },
  "language_info": {
   "codemirror_mode": {
    "name": "ipython",
    "version": 3
   },
   "file_extension": ".py",
   "mimetype": "text/x-python",
   "name": "python",
   "nbconvert_exporter": "python",
   "pygments_lexer": "ipython3",
   "version": "3.9.7"
  },
  "papermill": {
   "default_parameters": {},
   "duration": 118.264044,
   "end_time": "2022-02-02T14:13:02.832251",
   "environment_variables": {},
   "exception": null,
   "input_path": "./notebooks/RandomForestCV.ipynb",
   "output_path": "./notebooks/RandomForestCV.ipynb",
   "parameters": {},
   "start_time": "2022-02-02T14:11:04.568207",
   "version": "2.3.4"
  }
 },
 "nbformat": 4,
 "nbformat_minor": 5
}