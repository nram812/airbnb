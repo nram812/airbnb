{
 "cells": [
  {
   "cell_type": "code",
   "execution_count": 1,
   "id": "7a24dc0e-4b58-4175-8854-fff01af71e4f",
   "metadata": {
    "execution": {
     "iopub.execute_input": "2022-02-02T14:16:33.689728Z",
     "iopub.status.busy": "2022-02-02T14:16:33.689728Z",
     "iopub.status.idle": "2022-02-02T14:16:35.157711Z",
     "shell.execute_reply": "2022-02-02T14:16:35.157711Z"
    },
    "papermill": {
     "duration": 1.502867,
     "end_time": "2022-02-02T14:16:35.157711",
     "exception": false,
     "start_time": "2022-02-02T14:16:33.654844",
     "status": "completed"
    },
    "tags": []
   },
   "outputs": [],
   "source": [
    "import pandas as pd\n",
    "import numpy as np\n",
    "import seaborn as sns\n",
    "from sklearn.model_selection import train_test_split\n",
    "import dask.dataframe as dd\n",
    "import matplotlib.pyplot as plt\n",
    "import os\n"
   ]
  },
  {
   "cell_type": "code",
   "execution_count": 2,
   "id": "86501015-5b77-4c8f-95ce-b7f3aee3037d",
   "metadata": {
    "execution": {
     "iopub.execute_input": "2022-02-02T14:16:35.210628Z",
     "iopub.status.busy": "2022-02-02T14:16:35.209630Z",
     "iopub.status.idle": "2022-02-02T14:16:35.219907Z",
     "shell.execute_reply": "2022-02-02T14:16:35.219907Z"
    },
    "papermill": {
     "duration": 0.036238,
     "end_time": "2022-02-02T14:16:35.219907",
     "exception": false,
     "start_time": "2022-02-02T14:16:35.183669",
     "status": "completed"
    },
    "tags": []
   },
   "outputs": [],
   "source": [
    "if not os.path.exists('./preprocessed'):\n",
    "    os.makedirs('./preprocessed')"
   ]
  },
  {
   "cell_type": "markdown",
   "id": "35af9db0-2c5e-4a44-a77c-68b7046c8711",
   "metadata": {
    "papermill": {
     "duration": 0.024934,
     "end_time": "2022-02-02T14:16:35.269802",
     "exception": false,
     "start_time": "2022-02-02T14:16:35.244868",
     "status": "completed"
    },
    "tags": []
   },
   "source": [
    "## Table of Contents:\n",
    "* [Initial Screening and Cleaning](#first-bullet)\n",
    "* [Feature Selection](#second-bullet)\n",
    "* [Variable Relationships](#third-bullet)\n",
    "* [Categorical Representation](#fourth-bullet)\n",
    "* [Further Exploration of Output Data](#fifth-bullet)\n",
    "* [Saving Data](#sixth-bullet)"
   ]
  },
  {
   "cell_type": "markdown",
   "id": "03b37375-4bb7-4606-96b4-8bcb3fdf207e",
   "metadata": {
    "papermill": {
     "duration": 0.023965,
     "end_time": "2022-02-02T14:16:35.318755",
     "exception": false,
     "start_time": "2022-02-02T14:16:35.294790",
     "status": "completed"
    },
    "tags": []
   },
   "source": [
    "## Preprocessing \n",
    "This notebook preprocess the data given for the spark ML Engineer Tech Test. \n",
    "This notebook was executed through using $\\textbf{Papermill}$.\n",
    "\n",
    "Pipelines can also be setup through $\\textbf{snakemake}$\n",
    "\n",
    "### Comments\n",
    "Because there is no provided documentation about the data (which is 99% of the case with my work), \n",
    "there were several assumptions / decisions that I made with the data. In many applications, I'd explore the\n",
    "data in a bit more detail here, but to speed things up I've made some educated assumptions. \n",
    "\n",
    "1. Complex features such as amenities, were removed from the analysis, this is primarily because some\n",
    "    owners are perhaps more likely to document everything rather than others, this could be misleading. This conclusion was reached by investigation.  \n",
    "2. Data was cleaned so that nan values were removed, this results in the removal of some features.\n",
    "3. Features like \"availibility_60\" and so on were not used, this is primarily because what if the house had not been rented for a long time, data could be bad. \n",
    "4. Feature like latitude and longitude - neighbourhood classes capture this information.\n",
    "5. Host specific information was removed, as it likely has a weak effect on the outcome.\n",
    "6. Review scores are used as a feature, but have some limitation as newer houses will have fewer reviews. "
   ]
  },
  {
   "cell_type": "markdown",
   "id": "47699520-19b6-4238-9d1e-adc6d27060aa",
   "metadata": {
    "papermill": {
     "duration": 0.024939,
     "end_time": "2022-02-02T14:16:35.368627",
     "exception": false,
     "start_time": "2022-02-02T14:16:35.343688",
     "status": "completed"
    },
    "tags": []
   },
   "source": [
    "## Initial Screening <a class=\"anchor\" id=\"first-bullet\"></a>\n",
    "Here, we will briefly screen the features within the data. \n",
    "\n",
    "\n",
    "We will select features based on several criteria such as the number of missing values, \n",
    "unique values and the overall cleanliness of the data"
   ]
  },
  {
   "cell_type": "code",
   "execution_count": 3,
   "id": "5d0bb9a4-3228-470d-bbc8-c5e06129187a",
   "metadata": {
    "execution": {
     "iopub.execute_input": "2022-02-02T14:16:35.420455Z",
     "iopub.status.busy": "2022-02-02T14:16:35.419488Z",
     "iopub.status.idle": "2022-02-02T14:16:35.786053Z",
     "shell.execute_reply": "2022-02-02T14:16:35.786053Z"
    },
    "papermill": {
     "duration": 0.392498,
     "end_time": "2022-02-02T14:16:35.786053",
     "exception": false,
     "start_time": "2022-02-02T14:16:35.393555",
     "status": "completed"
    },
    "tags": []
   },
   "outputs": [],
   "source": [
    "df = pd.read_csv(r'./Spark 64 ML Engineer Tech Test Dataset.csv', low_memory = False)\n",
    "# I tend to prefer to use dask, or xarray due to using large datasets and paralelization, however for exploration I'll use pandas\n",
    "#df = dd.read_csv(r'./Spark 64 ML Engineer Tech Test Dataset.csv')\n"
   ]
  },
  {
   "cell_type": "code",
   "execution_count": 4,
   "id": "ba853fb9-5e1e-40a9-9912-cdbaf7bc1779",
   "metadata": {
    "execution": {
     "iopub.execute_input": "2022-02-02T14:16:35.837914Z",
     "iopub.status.busy": "2022-02-02T14:16:35.837914Z",
     "iopub.status.idle": "2022-02-02T14:16:35.847511Z",
     "shell.execute_reply": "2022-02-02T14:16:35.847511Z"
    },
    "papermill": {
     "duration": 0.036494,
     "end_time": "2022-02-02T14:16:35.847511",
     "exception": false,
     "start_time": "2022-02-02T14:16:35.811017",
     "status": "completed"
    },
    "tags": []
   },
   "outputs": [
    {
     "name": "stdout",
     "output_type": "stream",
     "text": [
      "Total number of features :63\n"
     ]
    }
   ],
   "source": [
    "print(f\"Total number of features :{len(df.columns)}\")"
   ]
  },
  {
   "cell_type": "code",
   "execution_count": 5,
   "id": "069570f7-7472-45cd-bfa6-5f685e27f656",
   "metadata": {
    "execution": {
     "iopub.execute_input": "2022-02-02T14:16:35.899375Z",
     "iopub.status.busy": "2022-02-02T14:16:35.899375Z",
     "iopub.status.idle": "2022-02-02T14:16:35.910391Z",
     "shell.execute_reply": "2022-02-02T14:16:35.910391Z"
    },
    "papermill": {
     "duration": 0.037944,
     "end_time": "2022-02-02T14:16:35.910391",
     "exception": false,
     "start_time": "2022-02-02T14:16:35.872447",
     "status": "completed"
    },
    "tags": []
   },
   "outputs": [
    {
     "name": "stdout",
     "output_type": "stream",
     "text": [
      "Index(['name', 'description', 'neighborhood_overview', 'host_id', 'host_since',\n",
      "       'host_location', 'host_about', 'host_response_time',\n",
      "       'host_response_rate', 'host_acceptance_rate', 'host_is_superhost',\n",
      "       'host_neighbourhood', 'host_listings_count',\n",
      "       'host_total_listings_count', 'host_verifications',\n",
      "       'host_has_profile_pic', 'host_identity_verified', 'neighbourhood',\n",
      "       'neighbourhood_cleansed', 'neighbourhood_group_cleansed', 'latitude',\n",
      "       'longitude', 'property_type', 'room_type', 'accommodates', 'bathrooms',\n",
      "       'bathrooms_text', 'bedrooms', 'beds', 'amenities', 'price',\n",
      "       'minimum_nights', 'maximum_nights', 'minimum_minimum_nights',\n",
      "       'maximum_minimum_nights', 'minimum_maximum_nights',\n",
      "       'maximum_maximum_nights', 'minimum_nights_avg_ntm',\n",
      "       'maximum_nights_avg_ntm', 'has_availability', 'availability_30',\n",
      "       'availability_60', 'availability_90', 'availability_365',\n",
      "       'number_of_reviews', 'number_of_reviews_ltm', 'number_of_reviews_l30d',\n",
      "       'first_review', 'last_review', 'review_scores_rating',\n",
      "       'review_scores_accuracy', 'review_scores_cleanliness',\n",
      "       'review_scores_checkin', 'review_scores_communication',\n",
      "       'review_scores_location', 'review_scores_value', 'license',\n",
      "       'instant_bookable', 'calculated_host_listings_count',\n",
      "       'calculated_host_listings_count_entire_homes',\n",
      "       'calculated_host_listings_count_private_rooms',\n",
      "       'calculated_host_listings_count_shared_rooms', 'reviews_per_month'],\n",
      "      dtype='object')\n"
     ]
    }
   ],
   "source": [
    "print(df.columns)"
   ]
  },
  {
   "cell_type": "markdown",
   "id": "e0c906e9-23e4-4496-bce6-bf1ed7e30bbd",
   "metadata": {
    "papermill": {
     "duration": 0.024933,
     "end_time": "2022-02-02T14:16:35.960257",
     "exception": false,
     "start_time": "2022-02-02T14:16:35.935324",
     "status": "completed"
    },
    "tags": []
   },
   "source": [
    "### Determining the Number of Invalid Values in Data\n",
    "This step easily enables us to determine what columns to remove, as we require enough training data for our model."
   ]
  },
  {
   "cell_type": "code",
   "execution_count": 6,
   "id": "d6ec8254-f7be-4af6-8246-64ed84d4f38d",
   "metadata": {
    "execution": {
     "iopub.execute_input": "2022-02-02T14:16:36.018074Z",
     "iopub.status.busy": "2022-02-02T14:16:36.017105Z",
     "iopub.status.idle": "2022-02-02T14:16:36.738757Z",
     "shell.execute_reply": "2022-02-02T14:16:36.738757Z"
    },
    "papermill": {
     "duration": 0.753567,
     "end_time": "2022-02-02T14:16:36.738757",
     "exception": false,
     "start_time": "2022-02-02T14:16:35.985190",
     "status": "completed"
    },
    "tags": []
   },
   "outputs": [
    {
     "data": {
      "text/plain": [
       "<matplotlib.legend.Legend at 0x20fa9a38790>"
      ]
     },
     "execution_count": 6,
     "metadata": {},
     "output_type": "execute_result"
    },
    {
     "data": {
      "image/png": "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\n",
      "text/plain": [
       "<Figure size 864x576 with 1 Axes>"
      ]
     },
     "metadata": {
      "needs_background": "light"
     },
     "output_type": "display_data"
    }
   ],
   "source": [
    "fig, ax = plt.subplots(figsize =(12,8))\n",
    "df.isnull().sum().plot.bar(ax = ax)\n",
    "ax.axhline(len(df), color ='k', ls ='--', label ='Number of Data Points')\n",
    "ax.legend()"
   ]
  },
  {
   "cell_type": "markdown",
   "id": "b752bcf1-1f5e-4de7-9c8a-2820c3d5ae25",
   "metadata": {
    "papermill": {
     "duration": 0.026927,
     "end_time": "2022-02-02T14:16:36.792612",
     "exception": false,
     "start_time": "2022-02-02T14:16:36.765685",
     "status": "completed"
    },
    "tags": []
   },
   "source": [
    "## Checking for the number of Unique values\n",
    "While regression based variables have many unique values, if a categorical model has too many values it \n",
    "can be a challenge to learn relationships between that particular variable. Given that we have a limited amount of training data\n",
    "we probably want to use variables with fewer categories"
   ]
  },
  {
   "cell_type": "code",
   "execution_count": 7,
   "id": "d9e0c33f-37ca-4c2c-a6b2-bb0a2f6ef4d2",
   "metadata": {
    "execution": {
     "iopub.execute_input": "2022-02-02T14:16:36.863423Z",
     "iopub.status.busy": "2022-02-02T14:16:36.863423Z",
     "iopub.status.idle": "2022-02-02T14:16:37.536792Z",
     "shell.execute_reply": "2022-02-02T14:16:37.536792Z"
    },
    "papermill": {
     "duration": 0.71822,
     "end_time": "2022-02-02T14:16:37.536792",
     "exception": false,
     "start_time": "2022-02-02T14:16:36.818572",
     "status": "completed"
    },
    "tags": []
   },
   "outputs": [
    {
     "data": {
      "text/plain": [
       "(0.0, 500.0)"
      ]
     },
     "execution_count": 7,
     "metadata": {},
     "output_type": "execute_result"
    },
    {
     "data": {
      "image/png": "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\n",
      "text/plain": [
       "<Figure size 864x576 with 1 Axes>"
      ]
     },
     "metadata": {
      "needs_background": "light"
     },
     "output_type": "display_data"
    }
   ],
   "source": [
    "unique_numbers = [len(pd.unique(df[col])) for col in df.columns]\n",
    "fig, ax = plt.subplots(figsize =(12,8))\n",
    "df_unique = pd.DataFrame(data = unique_numbers, index = df.columns)\n",
    "df_unique.plot.bar(ax = ax)\n",
    "ax.set_ylim(0, 500)"
   ]
  },
  {
   "cell_type": "code",
   "execution_count": 8,
   "id": "1a95b948-937f-44f6-857b-99f836958652",
   "metadata": {
    "execution": {
     "iopub.execute_input": "2022-02-02T14:16:37.594665Z",
     "iopub.status.busy": "2022-02-02T14:16:37.593668Z",
     "iopub.status.idle": "2022-02-02T14:16:37.600721Z",
     "shell.execute_reply": "2022-02-02T14:16:37.600721Z"
    },
    "papermill": {
     "duration": 0.035976,
     "end_time": "2022-02-02T14:16:37.600721",
     "exception": false,
     "start_time": "2022-02-02T14:16:37.564745",
     "status": "completed"
    },
    "tags": []
   },
   "outputs": [
    {
     "data": {
      "text/plain": [
       "Index(['name', 'description', 'neighborhood_overview', 'host_id', 'host_since',\n",
       "       'host_location', 'host_about', 'host_response_time',\n",
       "       'host_response_rate', 'host_acceptance_rate', 'host_is_superhost',\n",
       "       'host_neighbourhood', 'host_listings_count',\n",
       "       'host_total_listings_count', 'host_verifications',\n",
       "       'host_has_profile_pic', 'host_identity_verified', 'neighbourhood',\n",
       "       'neighbourhood_cleansed', 'neighbourhood_group_cleansed', 'latitude',\n",
       "       'longitude', 'property_type', 'room_type', 'accommodates', 'bathrooms',\n",
       "       'bathrooms_text', 'bedrooms', 'beds', 'amenities', 'price',\n",
       "       'minimum_nights', 'maximum_nights', 'minimum_minimum_nights',\n",
       "       'maximum_minimum_nights', 'minimum_maximum_nights',\n",
       "       'maximum_maximum_nights', 'minimum_nights_avg_ntm',\n",
       "       'maximum_nights_avg_ntm', 'has_availability', 'availability_30',\n",
       "       'availability_60', 'availability_90', 'availability_365',\n",
       "       'number_of_reviews', 'number_of_reviews_ltm', 'number_of_reviews_l30d',\n",
       "       'first_review', 'last_review', 'review_scores_rating',\n",
       "       'review_scores_accuracy', 'review_scores_cleanliness',\n",
       "       'review_scores_checkin', 'review_scores_communication',\n",
       "       'review_scores_location', 'review_scores_value', 'license',\n",
       "       'instant_bookable', 'calculated_host_listings_count',\n",
       "       'calculated_host_listings_count_entire_homes',\n",
       "       'calculated_host_listings_count_private_rooms',\n",
       "       'calculated_host_listings_count_shared_rooms', 'reviews_per_month'],\n",
       "      dtype='object')"
      ]
     },
     "execution_count": 8,
     "metadata": {},
     "output_type": "execute_result"
    }
   ],
   "source": [
    "df.columns"
   ]
  },
  {
   "cell_type": "markdown",
   "id": "3cece939-bf5c-4031-a813-55081b045062",
   "metadata": {
    "papermill": {
     "duration": 0.04485,
     "end_time": "2022-02-02T14:16:37.673498",
     "exception": false,
     "start_time": "2022-02-02T14:16:37.628648",
     "status": "completed"
    },
    "tags": []
   },
   "source": [
    "# Feature Selection <a class=\"anchor\" id=\"second-bullet\"></a>\n",
    "Here is the part where we decide what features to keep and use. The following is a list of features that I've decided to keep. \n",
    "Note this is the $\\textbf{first cut}$ of the feature selection.\n",
    "## Comments\n",
    "1. Neighbour will be an important predictor. Here you can see that there are too many unique values, even neighbourhood cleansed has lots of unique values. In this scenario, we will remove neighbour hood cleansed - with 200 + values, and use neighbourhood_group_cleansed. Too many suburbs could cause the model to poorly generalize. \n",
    "2. Don't fully understand the minimum maximum nights features, so I'll remove them from the predictor dataset. Minimum_nights_av_ntm could be useful, as long term stays tend to pay less. \n",
    "3"
   ]
  },
  {
   "cell_type": "code",
   "execution_count": null,
   "id": "9e9b5d26-f6a8-4b17-aa8b-43ec15c82776",
   "metadata": {
    "execution": {
     "iopub.execute_input": "2022-02-02T14:10:41.726820Z",
     "iopub.status.busy": "2022-02-02T14:10:41.726820Z",
     "iopub.status.idle": "2022-02-02T14:10:42.268939Z",
     "shell.execute_reply": "2022-02-02T14:10:42.268939Z"
    },
    "papermill": {
     "duration": null,
     "end_time": null,
     "exception": false,
     "start_time": "2022-02-02T14:16:37.702421",
     "status": "running"
    },
    "tags": []
   },
   "outputs": [],
   "source": [
    "# Leveraging some features such as maximum nights avg_ntm could be challenging due its complex distribution\n",
    "# This is primarily due the peak at 1,2 and 3 months\n",
    "fig, ax = plt.subplots()\n",
    "sns.distplot(df['maximum_nights_avg_ntm'], ax = ax, bins = np.arange(0,100,5))\n",
    "ax.set_xlim(0,200)"
   ]
  },
  {
   "cell_type": "code",
   "execution_count": null,
   "id": "43ee1b55-b7ad-4aa8-9389-d0b57c0545e1",
   "metadata": {
    "execution": {
     "iopub.execute_input": "2022-02-02T14:10:42.330801Z",
     "iopub.status.busy": "2022-02-02T14:10:42.330801Z",
     "iopub.status.idle": "2022-02-02T14:10:42.612025Z",
     "shell.execute_reply": "2022-02-02T14:10:42.612025Z"
    },
    "papermill": {
     "duration": null,
     "end_time": null,
     "exception": null,
     "start_time": null,
     "status": "pending"
    },
    "tags": []
   },
   "outputs": [],
   "source": [
    "fig, ax = plt.subplots()\n",
    "sns.distplot(df['minimum_nights_avg_ntm'], ax = ax, bins = np.arange(0,100,5))\n",
    "ax.set_xlim(0,200)"
   ]
  },
  {
   "cell_type": "code",
   "execution_count": null,
   "id": "89e69322-4973-4aba-be50-ce7da3349189",
   "metadata": {
    "execution": {
     "iopub.execute_input": "2022-02-02T14:10:42.677360Z",
     "iopub.status.busy": "2022-02-02T14:10:42.674857Z",
     "iopub.status.idle": "2022-02-02T14:10:42.690005Z",
     "shell.execute_reply": "2022-02-02T14:10:42.690005Z"
    },
    "papermill": {
     "duration": null,
     "end_time": null,
     "exception": null,
     "start_time": null,
     "status": "pending"
    },
    "tags": []
   },
   "outputs": [],
   "source": [
    "pd.value_counts(df.bathrooms_text)\n",
    "# there are some differences between shared and half baths here, which prompts more investigation.\n",
    "# This likely indicates that this might not be the best variable - also given that there are few outside the first class"
   ]
  },
  {
   "cell_type": "code",
   "execution_count": null,
   "id": "d4f68194-8dbc-48f1-a377-2d463998a80a",
   "metadata": {
    "execution": {
     "iopub.execute_input": "2022-02-02T14:10:42.753864Z",
     "iopub.status.busy": "2022-02-02T14:10:42.753864Z",
     "iopub.status.idle": "2022-02-02T14:10:42.768944Z",
     "shell.execute_reply": "2022-02-02T14:10:42.768944Z"
    },
    "papermill": {
     "duration": null,
     "end_time": null,
     "exception": null,
     "start_time": null,
     "status": "pending"
    },
    "tags": []
   },
   "outputs": [],
   "source": [
    "# Property type would be another useful variables - this requires a bit of cleaning up, defining into other categories (e.g. Hotel)\n",
    "pd.value_counts(df.property_type)"
   ]
  },
  {
   "cell_type": "code",
   "execution_count": null,
   "id": "746c452b-c278-424c-8332-8b8f50239d89",
   "metadata": {
    "execution": {
     "iopub.execute_input": "2022-02-02T14:10:42.833620Z",
     "iopub.status.busy": "2022-02-02T14:10:42.833620Z",
     "iopub.status.idle": "2022-02-02T14:10:42.847629Z",
     "shell.execute_reply": "2022-02-02T14:10:42.847629Z"
    },
    "papermill": {
     "duration": null,
     "end_time": null,
     "exception": null,
     "start_time": null,
     "status": "pending"
    },
    "tags": []
   },
   "outputs": [],
   "source": [
    "# Property type would be another useful variables - this requires a bit of cleaning up, defining into other categories (e.g. Hotel)\n",
    "pd.value_counts(df.room_type)"
   ]
  },
  {
   "cell_type": "code",
   "execution_count": null,
   "id": "935c6456-6d0c-4b47-a862-c9311e98211d",
   "metadata": {
    "execution": {
     "iopub.execute_input": "2022-02-02T14:10:42.912455Z",
     "iopub.status.busy": "2022-02-02T14:10:42.911457Z",
     "iopub.status.idle": "2022-02-02T14:10:42.925765Z",
     "shell.execute_reply": "2022-02-02T14:10:42.925765Z"
    },
    "papermill": {
     "duration": null,
     "end_time": null,
     "exception": null,
     "start_time": null,
     "status": "pending"
    },
    "tags": []
   },
   "outputs": [],
   "source": [
    "categorical_variables = ['host_identity_verified','accommodates','bathrooms_text',\n",
    "        'room_type','bedrooms','beds','instant_bookable',\n",
    "        'neighbourhood_group_cleansed',\n",
    "        'host_has_profile_pic',\n",
    "        'host_response_time',\n",
    "        'host_is_superhost']\n",
    "regression_variables = ['review_scores_rating',\n",
    "        'review_scores_accuracy','review_scores_cleanliness', \n",
    "        'review_scores_checkin','review_scores_communication',\n",
    "        'review_scores_location',\n",
    "       'review_scores_value','host_response_rate','host_acceptance_rate']\n",
    "output_variable =['price']\n",
    "print(f\"number of categorical features : {len(categorical_variables)}, \\n\"\\\n",
    "      f\"number of regression variables : {len(regression_variables)}\")"
   ]
  },
  {
   "cell_type": "code",
   "execution_count": null,
   "id": "7a32cef7-8b80-43dd-9065-5b892891c5cc",
   "metadata": {
    "execution": {
     "iopub.execute_input": "2022-02-02T14:10:42.999462Z",
     "iopub.status.busy": "2022-02-02T14:10:42.996470Z",
     "iopub.status.idle": "2022-02-02T14:10:43.252923Z",
     "shell.execute_reply": "2022-02-02T14:10:43.252923Z"
    },
    "papermill": {
     "duration": null,
     "end_time": null,
     "exception": null,
     "start_time": null,
     "status": "pending"
    },
    "tags": []
   },
   "outputs": [],
   "source": [
    "fig, ax = plt.subplots()\n",
    "sns.distplot(df['maximum_nights_avg_ntm'], ax = ax, bins = np.arange(0,100,5))\n",
    "ax.set_xlim(0,200)"
   ]
  },
  {
   "cell_type": "markdown",
   "id": "d4505f04-f553-4696-a077-c8f615a610d1",
   "metadata": {
    "papermill": {
     "duration": null,
     "end_time": null,
     "exception": null,
     "start_time": null,
     "status": "pending"
    },
    "tags": []
   },
   "source": [
    "# Variable Relationships <a class=\"anchor\" id=\"third-bullet\"></a>\n",
    "While each of the reviews clearly has its own value, there are correlations between the input and outputs of the data. \n",
    "Multi-colinearity is an issue for Linear Regression, and require a normalization / dimensionality reduction strategy for this. \n",
    "RandomForest models should be okay to handle this data by itself (the distributions are not normal), so I'm not going to use dimensionality reduction here - but it could be useful."
   ]
  },
  {
   "cell_type": "code",
   "execution_count": null,
   "id": "fb45c215-59da-4b1c-a34c-bcb02a079c02",
   "metadata": {
    "execution": {
     "iopub.execute_input": "2022-02-02T14:10:43.383573Z",
     "iopub.status.busy": "2022-02-02T14:10:43.383573Z",
     "iopub.status.idle": "2022-02-02T14:10:43.534531Z",
     "shell.execute_reply": "2022-02-02T14:10:43.533532Z"
    },
    "papermill": {
     "duration": null,
     "end_time": null,
     "exception": null,
     "start_time": null,
     "status": "pending"
    },
    "tags": []
   },
   "outputs": [],
   "source": [
    "sns.heatmap(df[regression_variables].corr())"
   ]
  },
  {
   "cell_type": "code",
   "execution_count": null,
   "id": "e0bf6a33-4b6c-4bbd-81c8-e075ed2d38c0",
   "metadata": {
    "execution": {
     "iopub.execute_input": "2022-02-02T14:10:43.603769Z",
     "iopub.status.busy": "2022-02-02T14:10:43.601773Z",
     "iopub.status.idle": "2022-02-02T14:10:50.912244Z",
     "shell.execute_reply": "2022-02-02T14:10:50.912244Z"
    },
    "papermill": {
     "duration": null,
     "end_time": null,
     "exception": null,
     "start_time": null,
     "status": "pending"
    },
    "tags": []
   },
   "outputs": [],
   "source": [
    "sns.pairplot(df[['review_scores_rating',\n",
    "        'review_scores_accuracy','review_scores_cleanliness', \n",
    "        'review_scores_checkin','review_scores_communication',\n",
    "        'review_scores_location',\n",
    "       'review_scores_value']])"
   ]
  },
  {
   "cell_type": "markdown",
   "id": "05be9e4a-e4c8-4a77-ad2f-971a12b63daf",
   "metadata": {
    "papermill": {
     "duration": null,
     "end_time": null,
     "exception": null,
     "start_time": null,
     "status": "pending"
    },
    "tags": []
   },
   "source": [
    "# Exploration of a potential transform of the data to help prediction\n",
    "This normalization is as follows:\n",
    "$ y = \\log(5 - x +\\delta)$"
   ]
  },
  {
   "cell_type": "code",
   "execution_count": null,
   "id": "725dde63-c2e5-4d4a-93d8-7d8ebe1259a9",
   "metadata": {
    "execution": {
     "iopub.execute_input": "2022-02-02T14:10:51.071817Z",
     "iopub.status.busy": "2022-02-02T14:10:51.070819Z",
     "iopub.status.idle": "2022-02-02T14:10:56.811219Z",
     "shell.execute_reply": "2022-02-02T14:10:56.811219Z"
    },
    "papermill": {
     "duration": null,
     "end_time": null,
     "exception": null,
     "start_time": null,
     "status": "pending"
    },
    "tags": []
   },
   "outputs": [],
   "source": [
    "sns.pairplot((5 - df[['review_scores_rating',\n",
    "        'review_scores_accuracy','review_scores_cleanliness', \n",
    "        'review_scores_checkin','review_scores_communication',\n",
    "        'review_scores_location',\n",
    "       'review_scores_value']]).apply(lambda a: np.log(a +0.1)))"
   ]
  },
  {
   "cell_type": "code",
   "execution_count": null,
   "id": "03f92721-babc-4d3d-8076-6ede5dcf25a6",
   "metadata": {
    "execution": {
     "iopub.execute_input": "2022-02-02T14:10:56.950812Z",
     "iopub.status.busy": "2022-02-02T14:10:56.938844Z",
     "iopub.status.idle": "2022-02-02T14:10:57.737912Z",
     "shell.execute_reply": "2022-02-02T14:10:57.737912Z"
    },
    "papermill": {
     "duration": null,
     "end_time": null,
     "exception": null,
     "start_time": null,
     "status": "pending"
    },
    "tags": []
   },
   "outputs": [],
   "source": [
    "sns.pairplot(df[['beds','bedrooms']])\n",
    "# Some rooms with an extra bed could cost more - hence while these variables are clearly correlated we will keep them here"
   ]
  },
  {
   "cell_type": "markdown",
   "id": "a98a2065-97db-4672-a3af-a4ccc74875f3",
   "metadata": {
    "papermill": {
     "duration": null,
     "end_time": null,
     "exception": null,
     "start_time": null,
     "status": "pending"
    },
    "tags": []
   },
   "source": [
    "# Categorical Representation <a class=\"anchor\" id=\"fourth-bullet\"></a>\n",
    "It is likely that the host acceptance rate, response time and response rate are not \n",
    "useful variables to use as there are too many nan values. Same with the bathrooms text field\n",
    "\n",
    "\n",
    "They would be likely useful to try in further updates. We will keep them in the mix for current testing purposes"
   ]
  },
  {
   "cell_type": "code",
   "execution_count": null,
   "id": "3e03504c-8ed1-4c3c-b0c5-6f7c80b6d6de",
   "metadata": {
    "execution": {
     "iopub.execute_input": "2022-02-02T14:10:57.947322Z",
     "iopub.status.busy": "2022-02-02T14:10:57.946325Z",
     "iopub.status.idle": "2022-02-02T14:10:57.960212Z",
     "shell.execute_reply": "2022-02-02T14:10:57.960212Z"
    },
    "papermill": {
     "duration": null,
     "end_time": null,
     "exception": null,
     "start_time": null,
     "status": "pending"
    },
    "tags": []
   },
   "outputs": [],
   "source": [
    "df_categorical = df[categorical_variables]\n",
    "df_regression = df[regression_variables]\n",
    "price = df[output_variable]"
   ]
  },
  {
   "cell_type": "code",
   "execution_count": null,
   "id": "68dc9a1f-42bd-4d90-bf33-dd4b04822271",
   "metadata": {
    "execution": {
     "iopub.execute_input": "2022-02-02T14:10:58.079196Z",
     "iopub.status.busy": "2022-02-02T14:10:58.065262Z",
     "iopub.status.idle": "2022-02-02T14:10:58.083929Z",
     "shell.execute_reply": "2022-02-02T14:10:58.082929Z"
    },
    "papermill": {
     "duration": null,
     "end_time": null,
     "exception": null,
     "start_time": null,
     "status": "pending"
    },
    "tags": []
   },
   "outputs": [],
   "source": [
    "df_categorical.isnull().sum()\n"
   ]
  },
  {
   "cell_type": "code",
   "execution_count": null,
   "id": "194b0913-2c7e-4877-a056-59b48c73560a",
   "metadata": {
    "execution": {
     "iopub.execute_input": "2022-02-02T14:10:58.188648Z",
     "iopub.status.busy": "2022-02-02T14:10:58.187651Z",
     "iopub.status.idle": "2022-02-02T14:10:58.206749Z",
     "shell.execute_reply": "2022-02-02T14:10:58.206749Z"
    },
    "papermill": {
     "duration": null,
     "end_time": null,
     "exception": null,
     "start_time": null,
     "status": "pending"
    },
    "tags": []
   },
   "outputs": [],
   "source": [
    "df_regression.isnull().sum()"
   ]
  },
  {
   "cell_type": "code",
   "execution_count": null,
   "id": "6fa72835-280b-49e3-ab1b-1be261b8dd72",
   "metadata": {
    "execution": {
     "iopub.execute_input": "2022-02-02T14:10:58.314490Z",
     "iopub.status.busy": "2022-02-02T14:10:58.314490Z",
     "iopub.status.idle": "2022-02-02T14:10:58.316393Z",
     "shell.execute_reply": "2022-02-02T14:10:58.316393Z"
    },
    "papermill": {
     "duration": null,
     "end_time": null,
     "exception": null,
     "start_time": null,
     "status": "pending"
    },
    "tags": []
   },
   "outputs": [],
   "source": [
    "def categorical_transform(df:pd.Series):\n",
    "    \"\"\"\n",
    "    df: a pandas series object pd.Series - also may work on pd.DataFrame - not tested\n",
    "    Takes a series with categories with strings, will raise an error for numerical data\n",
    "    \"\"\"\n",
    "    assert df.dtype == 'O'\n",
    "    # copy the dataframe for convienience\n",
    "    codes_df = df.copy()\n",
    "    categories = [category for category in df.unique()\n",
    "                  if category is not np.nan]\n",
    "    # assigns categories for the pandas categorical function\n",
    "    convert_to_codes = pd.Categorical(df, categories).codes.astype('float32')\n",
    "    convert_to_codes[convert_to_codes ==-1] = np.nan\n",
    "    # Discarding the nan values, which are assigned as -1 as a default\n",
    "    \n",
    "    \n",
    "    assert len(categories) == np.unique(convert_to_codes[convert_to_codes >=0]).shape[0]\n",
    "    # check that the number of categories aligns with input number of categories, excluding the nans\n",
    "    return convert_to_codes\n",
    "    "
   ]
  },
  {
   "cell_type": "code",
   "execution_count": null,
   "id": "641342e0-c08c-4521-b451-ed1c8db17576",
   "metadata": {
    "execution": {
     "iopub.execute_input": "2022-02-02T14:10:58.424106Z",
     "iopub.status.busy": "2022-02-02T14:10:58.424106Z",
     "iopub.status.idle": "2022-02-02T14:10:58.519512Z",
     "shell.execute_reply": "2022-02-02T14:10:58.518483Z"
    },
    "papermill": {
     "duration": null,
     "end_time": null,
     "exception": null,
     "start_time": null,
     "status": "pending"
    },
    "tags": []
   },
   "outputs": [],
   "source": [
    "df_categorical.host_is_superhost = categorical_transform(df_categorical.host_is_superhost)\n",
    "df_categorical.host_response_time = categorical_transform(df_categorical.host_response_time)\n",
    "df_categorical.room_type= categorical_transform(df_categorical.room_type)\n",
    "df_categorical.bathrooms_text= categorical_transform(df_categorical.bathrooms_text)\n",
    "df_categorical.host_has_profile_pic = categorical_transform(df_categorical.host_has_profile_pic)\n",
    "df_categorical.neighbourhood_group_cleansed = categorical_transform(df_categorical.neighbourhood_group_cleansed)\n",
    "df_categorical.instant_bookable = categorical_transform(df_categorical.instant_bookable)\n",
    "df_categorical.host_identity_verified = categorical_transform(df_categorical.host_identity_verified)\n",
    "# these values  are already in interger form and do not need further processing. \n",
    "df_categorical.beds +=-1\n",
    "df_categorical.bedrooms +=-1\n",
    "df_categorical.accommodates +=-1"
   ]
  },
  {
   "cell_type": "code",
   "execution_count": null,
   "id": "30dc9c84-7769-41f0-88c1-3dde0fc8970f",
   "metadata": {
    "execution": {
     "iopub.execute_input": "2022-02-02T14:10:58.625199Z",
     "iopub.status.busy": "2022-02-02T14:10:58.624201Z",
     "iopub.status.idle": "2022-02-02T14:10:58.703491Z",
     "shell.execute_reply": "2022-02-02T14:10:58.703491Z"
    },
    "papermill": {
     "duration": null,
     "end_time": null,
     "exception": null,
     "start_time": null,
     "status": "pending"
    },
    "tags": []
   },
   "outputs": [],
   "source": [
    "price.price  = (price['price'].str.replace(r'[^-+\\d.]', '').astype(float))\n",
    "df_regression.host_response_rate = (df_regression['host_response_rate'].str.replace(r'[^-+\\d.]', '').astype(float))\n",
    "df_regression.host_acceptance_rate= (df_regression['host_acceptance_rate'].str.replace(r'[^-+\\d.]', '').astype(float))\n",
    "\n"
   ]
  },
  {
   "cell_type": "markdown",
   "id": "7ec956fe-a8e5-4433-8969-186b393b68c0",
   "metadata": {
    "papermill": {
     "duration": null,
     "end_time": null,
     "exception": null,
     "start_time": null,
     "status": "pending"
    },
    "tags": []
   },
   "source": [
    "# Further Exploration of Output Data <a class=\"anchor\" id=\"fifth-bullet\"></a>\n",
    "Transforming the data is very important for learning in ML. \n",
    "We can embed a logarithmic loss / distributional loss by writing a custom loss function, but for simplicity we will just compute the logaritm of the data.\n",
    "\n",
    "Here we briefly explore some relationships between price and log price and some of the input variances.\n",
    "This is particularly useful for understanding model sensitivity and if something goes wrong."
   ]
  },
  {
   "cell_type": "code",
   "execution_count": null,
   "id": "420856b1-0b46-4907-bc51-f278c2c25711",
   "metadata": {
    "execution": {
     "iopub.execute_input": "2022-02-02T14:10:58.914960Z",
     "iopub.status.busy": "2022-02-02T14:10:58.914960Z",
     "iopub.status.idle": "2022-02-02T14:10:59.206475Z",
     "shell.execute_reply": "2022-02-02T14:10:59.205476Z"
    },
    "papermill": {
     "duration": null,
     "end_time": null,
     "exception": null,
     "start_time": null,
     "status": "pending"
    },
    "tags": []
   },
   "outputs": [],
   "source": [
    "fig, (ax,ax2) = plt.subplots(1,2, figsize =(6,4), sharey =True)\n",
    "sns.histplot(price.values, ax = ax, bins = np.arange(0,500,10))\n",
    "sns.histplot(price.apply(np.log).values, ax = ax2, bins =50)\n",
    "ax.set_title('Price')\n",
    "ax2.set_title('Log Price')\n"
   ]
  },
  {
   "cell_type": "code",
   "execution_count": null,
   "id": "2c18180a-6cfa-4d05-98aa-f46d23187e11",
   "metadata": {
    "execution": {
     "iopub.execute_input": "2022-02-02T14:10:59.316154Z",
     "iopub.status.busy": "2022-02-02T14:10:59.316154Z",
     "iopub.status.idle": "2022-02-02T14:10:59.330280Z",
     "shell.execute_reply": "2022-02-02T14:10:59.330280Z"
    },
    "papermill": {
     "duration": null,
     "end_time": null,
     "exception": null,
     "start_time": null,
     "status": "pending"
    },
    "tags": []
   },
   "outputs": [],
   "source": [
    "price.loc[:,'log_price'] = price.apply(np.log)"
   ]
  },
  {
   "cell_type": "code",
   "execution_count": null,
   "id": "ce10f8c6-ae60-4d47-8bc2-b8e581170f7f",
   "metadata": {
    "execution": {
     "iopub.execute_input": "2022-02-02T14:10:59.440021Z",
     "iopub.status.busy": "2022-02-02T14:10:59.440021Z",
     "iopub.status.idle": "2022-02-02T14:10:59.533435Z",
     "shell.execute_reply": "2022-02-02T14:10:59.533435Z"
    },
    "papermill": {
     "duration": null,
     "end_time": null,
     "exception": null,
     "start_time": null,
     "status": "pending"
    },
    "tags": []
   },
   "outputs": [],
   "source": [
    "price['price'].groupby(df_categorical.bedrooms).median().plot(ls ='--', marker ='o')\n",
    "price['price'].groupby(df_categorical.bedrooms).quantile(q =.7).plot(ls ='--', marker ='o')\n",
    "price['price'].groupby(df_categorical.bedrooms).quantile(q =.3).plot(ls ='--', marker ='o')"
   ]
  },
  {
   "cell_type": "code",
   "execution_count": null,
   "id": "c0c0fad8-c81f-42d7-b166-ed7bcaebaa18",
   "metadata": {
    "execution": {
     "iopub.execute_input": "2022-02-02T14:10:59.644140Z",
     "iopub.status.busy": "2022-02-02T14:10:59.644140Z",
     "iopub.status.idle": "2022-02-02T14:10:59.738362Z",
     "shell.execute_reply": "2022-02-02T14:10:59.738362Z"
    },
    "papermill": {
     "duration": null,
     "end_time": null,
     "exception": null,
     "start_time": null,
     "status": "pending"
    },
    "tags": []
   },
   "outputs": [],
   "source": [
    "price['log_price'].groupby(df_categorical.bedrooms).median().plot(ls ='--', marker ='o')\n",
    "price['log_price'].groupby(df_categorical.bedrooms).quantile(q =.7).plot(ls ='--', marker ='o')\n",
    "price['log_price'].groupby(df_categorical.bedrooms).quantile(q =.3).plot(ls ='--', marker ='o')"
   ]
  },
  {
   "cell_type": "code",
   "execution_count": null,
   "id": "e1c9b0cf-4305-48d2-988e-63fb160da180",
   "metadata": {
    "execution": {
     "iopub.execute_input": "2022-02-02T14:10:59.850064Z",
     "iopub.status.busy": "2022-02-02T14:10:59.850064Z",
     "iopub.status.idle": "2022-02-02T14:11:00.065219Z",
     "shell.execute_reply": "2022-02-02T14:11:00.065219Z"
    },
    "papermill": {
     "duration": null,
     "end_time": null,
     "exception": null,
     "start_time": null,
     "status": "pending"
    },
    "tags": []
   },
   "outputs": [],
   "source": [
    "price['price'].groupby(df_categorical.beds).median().plot(ls ='--', marker ='o')\n",
    "price['price'].groupby(df_categorical.beds).quantile(q =0.7).plot(ls ='--', marker ='o')\n",
    "price['price'].groupby(df_categorical.beds).quantile(q =0.3).plot(ls ='--', marker ='o')"
   ]
  },
  {
   "cell_type": "code",
   "execution_count": null,
   "id": "1ea3a62c-147a-4192-b104-e1bbbf279b0b",
   "metadata": {
    "execution": {
     "iopub.execute_input": "2022-02-02T14:11:00.180911Z",
     "iopub.status.busy": "2022-02-02T14:11:00.179942Z",
     "iopub.status.idle": "2022-02-02T14:11:00.284996Z",
     "shell.execute_reply": "2022-02-02T14:11:00.284996Z"
    },
    "papermill": {
     "duration": null,
     "end_time": null,
     "exception": null,
     "start_time": null,
     "status": "pending"
    },
    "tags": []
   },
   "outputs": [],
   "source": [
    "price['log_price'].groupby(df_categorical.beds).median().plot(ls ='--', marker ='o')\n",
    "price['log_price'].groupby(df_categorical.beds).quantile(q =0.7).plot(ls ='--', marker ='o')\n",
    "price['log_price'].groupby(df_categorical.beds).quantile(q =0.3).plot(ls ='--', marker ='o')"
   ]
  },
  {
   "cell_type": "code",
   "execution_count": null,
   "id": "c6ac9f08-bfe5-4073-921a-cd4b1398c713",
   "metadata": {
    "execution": {
     "iopub.execute_input": "2022-02-02T14:11:00.400685Z",
     "iopub.status.busy": "2022-02-02T14:11:00.399691Z",
     "iopub.status.idle": "2022-02-02T14:11:00.488076Z",
     "shell.execute_reply": "2022-02-02T14:11:00.488076Z"
    },
    "papermill": {
     "duration": null,
     "end_time": null,
     "exception": null,
     "start_time": null,
     "status": "pending"
    },
    "tags": []
   },
   "outputs": [],
   "source": [
    "price.log_price.groupby(df.neighbourhood_group_cleansed).median().plot(ls ='--', marker ='o')"
   ]
  },
  {
   "cell_type": "code",
   "execution_count": null,
   "id": "ddbd01c7-f75b-46fc-80d2-f1014f892212",
   "metadata": {
    "execution": {
     "iopub.execute_input": "2022-02-02T14:11:00.604764Z",
     "iopub.status.busy": "2022-02-02T14:11:00.604764Z",
     "iopub.status.idle": "2022-02-02T14:11:00.613172Z",
     "shell.execute_reply": "2022-02-02T14:11:00.613172Z"
    },
    "papermill": {
     "duration": null,
     "end_time": null,
     "exception": null,
     "start_time": null,
     "status": "pending"
    },
    "tags": []
   },
   "outputs": [],
   "source": [
    "price.log_price.groupby(df.bathrooms_text).mean().index"
   ]
  },
  {
   "cell_type": "markdown",
   "id": "8d900f0d-aedb-45a7-9be1-97e76d8d8122",
   "metadata": {
    "papermill": {
     "duration": null,
     "end_time": null,
     "exception": null,
     "start_time": null,
     "status": "pending"
    },
    "tags": []
   },
   "source": [
    "### Investigating relationships with bath size could be interesting.\n",
    "1. Here we will not use baths, it appears that there is a good relationship for baths, but not so good for shared baths."
   ]
  },
  {
   "cell_type": "code",
   "execution_count": null,
   "id": "cc7bd6af-809e-4140-b462-8a75370939b7",
   "metadata": {
    "execution": {
     "iopub.execute_input": "2022-02-02T14:11:00.848516Z",
     "iopub.status.busy": "2022-02-02T14:11:00.841567Z",
     "iopub.status.idle": "2022-02-02T14:11:00.968196Z",
     "shell.execute_reply": "2022-02-02T14:11:00.968196Z"
    },
    "papermill": {
     "duration": null,
     "end_time": null,
     "exception": null,
     "start_time": null,
     "status": "pending"
    },
    "tags": []
   },
   "outputs": [],
   "source": [
    "fig, ax = plt.subplots(figsize =(8,6))\n",
    "ax = price.price.groupby(df.bathrooms_text).median().plot(ls ='--', marker ='o',ax =ax)\n",
    "ticks =price.price.groupby(df.bathrooms_text).median().index\n",
    "ax.set_xticks(np.arange(len(ticks)))\n",
    "ax.set_xticklabels(ticks, rotation =90)"
   ]
  },
  {
   "cell_type": "markdown",
   "id": "f2c6cb46-52f6-4cc9-8f44-8610e9c49657",
   "metadata": {
    "papermill": {
     "duration": null,
     "end_time": null,
     "exception": null,
     "start_time": null,
     "status": "pending"
    },
    "tags": []
   },
   "source": [
    "# Saving Data <a class=\"anchor\" id=\"sixth-bullet\"></a>\n",
    "Change each categorical variable to a sequence - this is required for using for deep learning algorithms"
   ]
  },
  {
   "cell_type": "code",
   "execution_count": null,
   "id": "30c95c31-693a-46df-b16d-8a60c7a691b3",
   "metadata": {
    "execution": {
     "iopub.execute_input": "2022-02-02T14:11:01.205590Z",
     "iopub.status.busy": "2022-02-02T14:11:01.204591Z",
     "iopub.status.idle": "2022-02-02T14:11:01.364137Z",
     "shell.execute_reply": "2022-02-02T14:11:01.363157Z"
    },
    "papermill": {
     "duration": null,
     "end_time": null,
     "exception": null,
     "start_time": null,
     "status": "pending"
    },
    "tags": []
   },
   "outputs": [],
   "source": [
    "df_categorical.to_csv('./preprocessed/categorical_raw.csv')\n",
    "df_regression.to_csv('./preprocessed/regression_raw.csv')"
   ]
  },
  {
   "cell_type": "code",
   "execution_count": null,
   "id": "f7fdf0cc-16da-4d17-b8ad-26bab2393329",
   "metadata": {
    "execution": {
     "iopub.execute_input": "2022-02-02T14:11:01.482819Z",
     "iopub.status.busy": "2022-02-02T14:11:01.482819Z",
     "iopub.status.idle": "2022-02-02T14:11:01.487906Z",
     "shell.execute_reply": "2022-02-02T14:11:01.487906Z"
    },
    "papermill": {
     "duration": null,
     "end_time": null,
     "exception": null,
     "start_time": null,
     "status": "pending"
    },
    "tags": []
   },
   "outputs": [],
   "source": [
    "def rename_categorical(df, col_name):\n",
    "    output = pd.get_dummies(df[col_name])\n",
    "    output[df[col_name].isnull()] = np.nan\n",
    "    output.columns = [col_name+'_' +str(int(col)) for col in output.columns]\n",
    "    return output"
   ]
  },
  {
   "cell_type": "code",
   "execution_count": null,
   "id": "11e79bfc-739c-4ce4-9075-30faa67c6e44",
   "metadata": {
    "execution": {
     "iopub.execute_input": "2022-02-02T14:11:01.609582Z",
     "iopub.status.busy": "2022-02-02T14:11:01.609582Z",
     "iopub.status.idle": "2022-02-02T14:11:01.690838Z",
     "shell.execute_reply": "2022-02-02T14:11:01.690838Z"
    },
    "papermill": {
     "duration": null,
     "end_time": null,
     "exception": null,
     "start_time": null,
     "status": "pending"
    },
    "tags": []
   },
   "outputs": [],
   "source": [
    "categorical_postprocessed = pd.concat([rename_categorical(df_categorical, col) for col in df_categorical.columns], axis =1)\n",
    "categorical_postprocessed.dropna()"
   ]
  },
  {
   "cell_type": "code",
   "execution_count": null,
   "id": "e3fed79e-8acc-44f8-8e63-233257481e93",
   "metadata": {
    "execution": {
     "iopub.execute_input": "2022-02-02T14:11:01.813509Z",
     "iopub.status.busy": "2022-02-02T14:11:01.812512Z",
     "iopub.status.idle": "2022-02-02T14:11:02.331916Z",
     "shell.execute_reply": "2022-02-02T14:11:02.331916Z"
    },
    "papermill": {
     "duration": null,
     "end_time": null,
     "exception": null,
     "start_time": null,
     "status": "pending"
    },
    "tags": []
   },
   "outputs": [],
   "source": [
    "categorical_postprocessed.to_csv('./preprocessed/categorical_binary.csv')"
   ]
  },
  {
   "cell_type": "code",
   "execution_count": null,
   "id": "42928fc1-3d9c-496f-89ac-1d54f04a9d75",
   "metadata": {
    "execution": {
     "iopub.execute_input": "2022-02-02T14:11:02.454588Z",
     "iopub.status.busy": "2022-02-02T14:11:02.453591Z",
     "iopub.status.idle": "2022-02-02T14:11:02.613111Z",
     "shell.execute_reply": "2022-02-02T14:11:02.613111Z"
    },
    "papermill": {
     "duration": null,
     "end_time": null,
     "exception": null,
     "start_time": null,
     "status": "pending"
    },
    "tags": []
   },
   "outputs": [],
   "source": [
    "transformed_cols = ['review_scores_rating',\n",
    "        'review_scores_accuracy','review_scores_cleanliness', \n",
    "        'review_scores_checkin','review_scores_communication',\n",
    "        'review_scores_location',\n",
    "       'review_scores_value']\n",
    "for col in transformed_cols:\n",
    "    df_regression['transformed_' + col] = df_regression[col].apply(lambda a: np.log(5-a +0.001))"
   ]
  },
  {
   "cell_type": "code",
   "execution_count": null,
   "id": "b0d69a02-f264-495e-8821-0ef128d4fea2",
   "metadata": {
    "execution": {
     "iopub.execute_input": "2022-02-02T14:11:02.749769Z",
     "iopub.status.busy": "2022-02-02T14:11:02.733816Z",
     "iopub.status.idle": "2022-02-02T14:11:02.847438Z",
     "shell.execute_reply": "2022-02-02T14:11:02.847438Z"
    },
    "papermill": {
     "duration": null,
     "end_time": null,
     "exception": null,
     "start_time": null,
     "status": "pending"
    },
    "tags": []
   },
   "outputs": [],
   "source": [
    "sns.histplot(df_regression['transformed_review_scores_accuracy'])"
   ]
  },
  {
   "cell_type": "code",
   "execution_count": null,
   "id": "79b36e74-e150-4b83-983d-f260b0efca69",
   "metadata": {
    "execution": {
     "iopub.execute_input": "2022-02-02T14:11:02.972106Z",
     "iopub.status.busy": "2022-02-02T14:11:02.971144Z",
     "iopub.status.idle": "2022-02-02T14:11:03.221633Z",
     "shell.execute_reply": "2022-02-02T14:11:03.221633Z"
    },
    "papermill": {
     "duration": null,
     "end_time": null,
     "exception": null,
     "start_time": null,
     "status": "pending"
    },
    "tags": []
   },
   "outputs": [],
   "source": [
    "df_regression.to_csv('./preprocessed/regression_transformed.csv')\n",
    "price.to_csv('./preprocessed/price.csv')"
   ]
  },
  {
   "cell_type": "markdown",
   "id": "7f73aafd-26a7-4406-b8a1-fe7c839f9c9e",
   "metadata": {
    "papermill": {
     "duration": null,
     "end_time": null,
     "exception": null,
     "start_time": null,
     "status": "pending"
    },
    "tags": []
   },
   "source": [
    "# Assembling the training and testing data periods\n",
    "1. In this case we use the first 70% of the data for training.\n",
    "2. the last 30% is used for testing and validation"
   ]
  },
  {
   "cell_type": "code",
   "execution_count": null,
   "id": "53b2957e-be19-481f-8772-3fe1e42f86f7",
   "metadata": {
    "execution": {
     "iopub.execute_input": "2022-02-02T14:11:03.466007Z",
     "iopub.status.busy": "2022-02-02T14:11:03.465023Z",
     "iopub.status.idle": "2022-02-02T14:11:03.472217Z",
     "shell.execute_reply": "2022-02-02T14:11:03.472217Z"
    },
    "papermill": {
     "duration": null,
     "end_time": null,
     "exception": null,
     "start_time": null,
     "status": "pending"
    },
    "tags": []
   },
   "outputs": [],
   "source": [
    "index = pd.DataFrame(data =df.index, index =df.index, columns =['dset'])"
   ]
  },
  {
   "cell_type": "code",
   "execution_count": null,
   "id": "5bc26120-06ba-40fd-a238-9c256c168385",
   "metadata": {
    "execution": {
     "iopub.execute_input": "2022-02-02T14:11:03.596911Z",
     "iopub.status.busy": "2022-02-02T14:11:03.595893Z",
     "iopub.status.idle": "2022-02-02T14:11:03.611290Z",
     "shell.execute_reply": "2022-02-02T14:11:03.611290Z"
    },
    "papermill": {
     "duration": null,
     "end_time": null,
     "exception": null,
     "start_time": null,
     "status": "pending"
    },
    "tags": []
   },
   "outputs": [],
   "source": [
    "index.iloc[0:np.int(0.7 * len(index))] = 'train'\n",
    "index.iloc[np.int(0.7 * len(index)):np.int(0.85 * len(index))] = 'validation'\n",
    "index.iloc[np.int(0.85 * len(index)):] = 'test'"
   ]
  },
  {
   "cell_type": "code",
   "execution_count": null,
   "id": "57145d6b-4b68-44a8-b2e3-3a5042efd63b",
   "metadata": {
    "execution": {
     "iopub.execute_input": "2022-02-02T14:11:03.732993Z",
     "iopub.status.busy": "2022-02-02T14:11:03.732993Z",
     "iopub.status.idle": "2022-02-02T14:11:03.768473Z",
     "shell.execute_reply": "2022-02-02T14:11:03.768473Z"
    },
    "papermill": {
     "duration": null,
     "end_time": null,
     "exception": null,
     "start_time": null,
     "status": "pending"
    },
    "tags": []
   },
   "outputs": [],
   "source": [
    "index.to_csv('./preprocessed/benchmark_datasets_index.csv')"
   ]
  }
 ],
 "metadata": {
  "kernelspec": {
   "display_name": "Python 3 (ipykernel)",
   "language": "python",
   "name": "python3"
  },
  "language_info": {
   "codemirror_mode": {
    "name": "ipython",
    "version": 3
   },
   "file_extension": ".py",
   "mimetype": "text/x-python",
   "name": "python",
   "nbconvert_exporter": "python",
   "pygments_lexer": "ipython3",
   "version": "3.9.7"
  },
  "papermill": {
   "default_parameters": {},
   "duration": null,
   "end_time": null,
   "environment_variables": {},
   "exception": null,
   "input_path": "./notebooks/preprocessing.ipynb",
   "output_path": "./notebooks/preprocessing.ipynb",
   "parameters": {},
   "start_time": "2022-02-02T14:16:31.827489",
   "version": "2.3.