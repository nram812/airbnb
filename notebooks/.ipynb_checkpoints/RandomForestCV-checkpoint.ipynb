{
 "cells": [
  {
   "cell_type": "code",
   "execution_count": 79,
   "id": "63432555-7f4b-487b-8b88-9dc523b06352",
   "metadata": {},
   "outputs": [],
   "source": [
    "import pandas as pd\n",
    "import numpy as np\n",
    "import seaborn as sns\n",
    "from sklearn.model_selection import train_test_split\n",
    "import matplotlib.pyplot as plt\n",
    "import os\n",
    "from sklearn.ensemble import RandomForestRegressor, ExtraTreesRegressor\n",
    "from sklearn.linear_model import Lasso\n",
    "from sklearn.model_selection import RandomizedSearchCV\n",
    "import sys\n",
    "sys.path.append('./src')\n",
    "from funcs import *\n",
    "# Random Search CV tends to be better"
   ]
  },
  {
   "cell_type": "code",
   "execution_count": 2,
   "id": "1c70d253-6e06-4057-833f-646fc2aa69bc",
   "metadata": {},
   "outputs": [],
   "source": [
    "if not os.path.exists('./results'):\n",
    "    os.makedirs('./results')"
   ]
  },
  {
   "cell_type": "markdown",
   "id": "d4408f9b-fb8c-4fc5-af49-ee875393519f",
   "metadata": {},
   "source": [
    "## Training a Random Forest Model"
   ]
  },
  {
   "cell_type": "markdown",
   "id": "475d47cc-1ee2-445a-ac4d-5f61ca7b9838",
   "metadata": {},
   "source": [
    "## Table of Contents:\n",
    "* [Loading Preprocessed Data](#first-bullet)\n",
    "* [Training an Estimator](#second-bullet)\n",
    "* [Hyperparameter Tuning](#third-bullet)\n",
    "* [Hyperparameter Tuning for Lasso](#fourth-bullet)\n",
    "* [Further Exploration of Output Data](#fifth-bullet)\n",
    "* [Saving Data](#sixth-bullet)"
   ]
  },
  {
   "cell_type": "markdown",
   "id": "9c52812a-f0dc-4af8-9d24-86349ce1c4a5",
   "metadata": {},
   "source": [
    "## Loading Preprocessed Data <a class=\"anchor\" id=\"first-bullet\"></a>"
   ]
  },
  {
   "cell_type": "code",
   "execution_count": 150,
   "id": "2b0c204a-3e8b-47a1-95d6-774c811ff080",
   "metadata": {},
   "outputs": [],
   "source": [
    "import os\n",
    "# binary data is used for the Lasso Model\n",
    "categorical_binary = pd.read_csv(r'./preprocessed/categorical_binary.csv', index_col =0)\n",
    "categorical_raw = pd.read_csv(r'./preprocessed/categorical_raw.csv', index_col =0)\n",
    "regression_data = pd.read_csv(r'./preprocessed/regression_transformed.csv', index_col =0)\n",
    "regression_cols = regression_data.columns\n",
    "index = pd.read_csv('./preprocessed/benchmark_datasets_index.csv', index_col =0)\n",
    "price = pd.read_csv('./preprocessed/price.csv', index_col =0)"
   ]
  },
  {
   "cell_type": "code",
   "execution_count": 118,
   "id": "7c7ee653-8a62-46c8-95bf-7f8bb3ff2350",
   "metadata": {},
   "outputs": [],
   "source": [
    "regression_cols = ['host_response_rate', 'host_acceptance_rate',\n",
    "       'transformed_review_scores_rating',\n",
    "       'transformed_review_scores_accuracy',\n",
    "       'transformed_review_scores_cleanliness',\n",
    "       'transformed_review_scores_checkin',\n",
    "       'transformed_review_scores_communication',\n",
    "       'transformed_review_scores_location',\n",
    "       'transformed_review_scores_value']\n",
    "# note remove bathrooms text as a predictor"
   ]
  },
  {
   "cell_type": "code",
   "execution_count": 141,
   "id": "10e1a955-069b-4ba7-ad7d-a11da74e96f6",
   "metadata": {},
   "outputs": [],
   "source": [
    "X_train, X_test, X_val, y_train, y_test, y_val = create_training_dataset(categorical_raw, regression_data,\n",
    "                                                                         price, index, regression_cols,\n",
    "                                                                         norm_reg = True)"
   ]
  },
  {
   "cell_type": "code",
   "execution_count": 149,
   "id": "60a83367-b901-4df2-a4a1-efa946799e28",
   "metadata": {},
   "outputs": [
    {
     "data": {
      "text/html": [
       "<div>\n",
       "<style scoped>\n",
       "    .dataframe tbody tr th:only-of-type {\n",
       "        vertical-align: middle;\n",
       "    }\n",
       "\n",
       "    .dataframe tbody tr th {\n",
       "        vertical-align: top;\n",
       "    }\n",
       "\n",
       "    .dataframe thead th {\n",
       "        text-align: right;\n",
       "    }\n",
       "</style>\n",
       "<table border=\"1\" class=\"dataframe\">\n",
       "  <thead>\n",
       "    <tr style=\"text-align: right;\">\n",
       "      <th></th>\n",
       "      <th>host_identity_verified_0</th>\n",
       "      <th>host_identity_verified_1</th>\n",
       "      <th>accommodates_0</th>\n",
       "      <th>accommodates_1</th>\n",
       "      <th>accommodates_2</th>\n",
       "      <th>accommodates_3</th>\n",
       "      <th>accommodates_4</th>\n",
       "      <th>accommodates_5</th>\n",
       "      <th>accommodates_6</th>\n",
       "      <th>accommodates_7</th>\n",
       "      <th>...</th>\n",
       "      <th>neighbourhood_group_cleansed_3</th>\n",
       "      <th>neighbourhood_group_cleansed_4</th>\n",
       "      <th>host_has_profile_pic_0</th>\n",
       "      <th>host_has_profile_pic_1</th>\n",
       "      <th>host_response_time_0</th>\n",
       "      <th>host_response_time_1</th>\n",
       "      <th>host_response_time_2</th>\n",
       "      <th>host_response_time_3</th>\n",
       "      <th>host_is_superhost_0</th>\n",
       "      <th>host_is_superhost_1</th>\n",
       "    </tr>\n",
       "  </thead>\n",
       "  <tbody>\n",
       "    <tr>\n",
       "      <th>0</th>\n",
       "      <td>1</td>\n",
       "      <td>0</td>\n",
       "      <td>1</td>\n",
       "      <td>0</td>\n",
       "      <td>0</td>\n",
       "      <td>0</td>\n",
       "      <td>0</td>\n",
       "      <td>0</td>\n",
       "      <td>0</td>\n",
       "      <td>0</td>\n",
       "      <td>...</td>\n",
       "      <td>0</td>\n",
       "      <td>0</td>\n",
       "      <td>1</td>\n",
       "      <td>0</td>\n",
       "      <td>1</td>\n",
       "      <td>0</td>\n",
       "      <td>0</td>\n",
       "      <td>0</td>\n",
       "      <td>1</td>\n",
       "      <td>0</td>\n",
       "    </tr>\n",
       "    <tr>\n",
       "      <th>1</th>\n",
       "      <td>1</td>\n",
       "      <td>0</td>\n",
       "      <td>0</td>\n",
       "      <td>0</td>\n",
       "      <td>1</td>\n",
       "      <td>0</td>\n",
       "      <td>0</td>\n",
       "      <td>0</td>\n",
       "      <td>0</td>\n",
       "      <td>0</td>\n",
       "      <td>...</td>\n",
       "      <td>0</td>\n",
       "      <td>0</td>\n",
       "      <td>1</td>\n",
       "      <td>0</td>\n",
       "      <td>0</td>\n",
       "      <td>1</td>\n",
       "      <td>0</td>\n",
       "      <td>0</td>\n",
       "      <td>1</td>\n",
       "      <td>0</td>\n",
       "    </tr>\n",
       "    <tr>\n",
       "      <th>2</th>\n",
       "      <td>1</td>\n",
       "      <td>0</td>\n",
       "      <td>0</td>\n",
       "      <td>1</td>\n",
       "      <td>0</td>\n",
       "      <td>0</td>\n",
       "      <td>0</td>\n",
       "      <td>0</td>\n",
       "      <td>0</td>\n",
       "      <td>0</td>\n",
       "      <td>...</td>\n",
       "      <td>0</td>\n",
       "      <td>0</td>\n",
       "      <td>1</td>\n",
       "      <td>0</td>\n",
       "      <td>0</td>\n",
       "      <td>0</td>\n",
       "      <td>1</td>\n",
       "      <td>0</td>\n",
       "      <td>1</td>\n",
       "      <td>0</td>\n",
       "    </tr>\n",
       "    <tr>\n",
       "      <th>3</th>\n",
       "      <td>1</td>\n",
       "      <td>0</td>\n",
       "      <td>0</td>\n",
       "      <td>0</td>\n",
       "      <td>0</td>\n",
       "      <td>1</td>\n",
       "      <td>0</td>\n",
       "      <td>0</td>\n",
       "      <td>0</td>\n",
       "      <td>0</td>\n",
       "      <td>...</td>\n",
       "      <td>0</td>\n",
       "      <td>0</td>\n",
       "      <td>1</td>\n",
       "      <td>0</td>\n",
       "      <td>0</td>\n",
       "      <td>0</td>\n",
       "      <td>0</td>\n",
       "      <td>0</td>\n",
       "      <td>1</td>\n",
       "      <td>0</td>\n",
       "    </tr>\n",
       "    <tr>\n",
       "      <th>4</th>\n",
       "      <td>0</td>\n",
       "      <td>1</td>\n",
       "      <td>0</td>\n",
       "      <td>1</td>\n",
       "      <td>0</td>\n",
       "      <td>0</td>\n",
       "      <td>0</td>\n",
       "      <td>0</td>\n",
       "      <td>0</td>\n",
       "      <td>0</td>\n",
       "      <td>...</td>\n",
       "      <td>0</td>\n",
       "      <td>0</td>\n",
       "      <td>1</td>\n",
       "      <td>0</td>\n",
       "      <td>0</td>\n",
       "      <td>0</td>\n",
       "      <td>0</td>\n",
       "      <td>1</td>\n",
       "      <td>1</td>\n",
       "      <td>0</td>\n",
       "    </tr>\n",
       "    <tr>\n",
       "      <th>...</th>\n",
       "      <td>...</td>\n",
       "      <td>...</td>\n",
       "      <td>...</td>\n",
       "      <td>...</td>\n",
       "      <td>...</td>\n",
       "      <td>...</td>\n",
       "      <td>...</td>\n",
       "      <td>...</td>\n",
       "      <td>...</td>\n",
       "      <td>...</td>\n",
       "      <td>...</td>\n",
       "      <td>...</td>\n",
       "      <td>...</td>\n",
       "      <td>...</td>\n",
       "      <td>...</td>\n",
       "      <td>...</td>\n",
       "      <td>...</td>\n",
       "      <td>...</td>\n",
       "      <td>...</td>\n",
       "      <td>...</td>\n",
       "      <td>...</td>\n",
       "    </tr>\n",
       "    <tr>\n",
       "      <th>19994</th>\n",
       "      <td>1</td>\n",
       "      <td>0</td>\n",
       "      <td>0</td>\n",
       "      <td>1</td>\n",
       "      <td>0</td>\n",
       "      <td>0</td>\n",
       "      <td>0</td>\n",
       "      <td>0</td>\n",
       "      <td>0</td>\n",
       "      <td>0</td>\n",
       "      <td>...</td>\n",
       "      <td>0</td>\n",
       "      <td>0</td>\n",
       "      <td>1</td>\n",
       "      <td>0</td>\n",
       "      <td>0</td>\n",
       "      <td>1</td>\n",
       "      <td>0</td>\n",
       "      <td>0</td>\n",
       "      <td>1</td>\n",
       "      <td>0</td>\n",
       "    </tr>\n",
       "    <tr>\n",
       "      <th>19995</th>\n",
       "      <td>1</td>\n",
       "      <td>0</td>\n",
       "      <td>0</td>\n",
       "      <td>0</td>\n",
       "      <td>0</td>\n",
       "      <td>0</td>\n",
       "      <td>0</td>\n",
       "      <td>1</td>\n",
       "      <td>0</td>\n",
       "      <td>0</td>\n",
       "      <td>...</td>\n",
       "      <td>0</td>\n",
       "      <td>0</td>\n",
       "      <td>1</td>\n",
       "      <td>0</td>\n",
       "      <td>0</td>\n",
       "      <td>0</td>\n",
       "      <td>0</td>\n",
       "      <td>0</td>\n",
       "      <td>1</td>\n",
       "      <td>0</td>\n",
       "    </tr>\n",
       "    <tr>\n",
       "      <th>19996</th>\n",
       "      <td>1</td>\n",
       "      <td>0</td>\n",
       "      <td>0</td>\n",
       "      <td>1</td>\n",
       "      <td>0</td>\n",
       "      <td>0</td>\n",
       "      <td>0</td>\n",
       "      <td>0</td>\n",
       "      <td>0</td>\n",
       "      <td>0</td>\n",
       "      <td>...</td>\n",
       "      <td>0</td>\n",
       "      <td>0</td>\n",
       "      <td>1</td>\n",
       "      <td>0</td>\n",
       "      <td>0</td>\n",
       "      <td>0</td>\n",
       "      <td>0</td>\n",
       "      <td>1</td>\n",
       "      <td>1</td>\n",
       "      <td>0</td>\n",
       "    </tr>\n",
       "    <tr>\n",
       "      <th>19997</th>\n",
       "      <td>0</td>\n",
       "      <td>1</td>\n",
       "      <td>0</td>\n",
       "      <td>0</td>\n",
       "      <td>1</td>\n",
       "      <td>0</td>\n",
       "      <td>0</td>\n",
       "      <td>0</td>\n",
       "      <td>0</td>\n",
       "      <td>0</td>\n",
       "      <td>...</td>\n",
       "      <td>0</td>\n",
       "      <td>0</td>\n",
       "      <td>1</td>\n",
       "      <td>0</td>\n",
       "      <td>0</td>\n",
       "      <td>0</td>\n",
       "      <td>1</td>\n",
       "      <td>0</td>\n",
       "      <td>0</td>\n",
       "      <td>1</td>\n",
       "    </tr>\n",
       "    <tr>\n",
       "      <th>19998</th>\n",
       "      <td>1</td>\n",
       "      <td>0</td>\n",
       "      <td>0</td>\n",
       "      <td>0</td>\n",
       "      <td>0</td>\n",
       "      <td>1</td>\n",
       "      <td>0</td>\n",
       "      <td>0</td>\n",
       "      <td>0</td>\n",
       "      <td>0</td>\n",
       "      <td>...</td>\n",
       "      <td>0</td>\n",
       "      <td>0</td>\n",
       "      <td>1</td>\n",
       "      <td>0</td>\n",
       "      <td>0</td>\n",
       "      <td>0</td>\n",
       "      <td>0</td>\n",
       "      <td>0</td>\n",
       "      <td>1</td>\n",
       "      <td>0</td>\n",
       "    </tr>\n",
       "  </tbody>\n",
       "</table>\n",
       "<p>19999 rows × 85 columns</p>\n",
       "</div>"
      ],
      "text/plain": [
       "       host_identity_verified_0  host_identity_verified_1  accommodates_0  \\\n",
       "0                             1                         0               1   \n",
       "1                             1                         0               0   \n",
       "2                             1                         0               0   \n",
       "3                             1                         0               0   \n",
       "4                             0                         1               0   \n",
       "...                         ...                       ...             ...   \n",
       "19994                         1                         0               0   \n",
       "19995                         1                         0               0   \n",
       "19996                         1                         0               0   \n",
       "19997                         0                         1               0   \n",
       "19998                         1                         0               0   \n",
       "\n",
       "       accommodates_1  accommodates_2  accommodates_3  accommodates_4  \\\n",
       "0                   0               0               0               0   \n",
       "1                   0               1               0               0   \n",
       "2                   1               0               0               0   \n",
       "3                   0               0               1               0   \n",
       "4                   1               0               0               0   \n",
       "...               ...             ...             ...             ...   \n",
       "19994               1               0               0               0   \n",
       "19995               0               0               0               0   \n",
       "19996               1               0               0               0   \n",
       "19997               0               1               0               0   \n",
       "19998               0               0               1               0   \n",
       "\n",
       "       accommodates_5  accommodates_6  accommodates_7  ...  \\\n",
       "0                   0               0               0  ...   \n",
       "1                   0               0               0  ...   \n",
       "2                   0               0               0  ...   \n",
       "3                   0               0               0  ...   \n",
       "4                   0               0               0  ...   \n",
       "...               ...             ...             ...  ...   \n",
       "19994               0               0               0  ...   \n",
       "19995               1               0               0  ...   \n",
       "19996               0               0               0  ...   \n",
       "19997               0               0               0  ...   \n",
       "19998               0               0               0  ...   \n",
       "\n",
       "       neighbourhood_group_cleansed_3  neighbourhood_group_cleansed_4  \\\n",
       "0                                   0                               0   \n",
       "1                                   0                               0   \n",
       "2                                   0                               0   \n",
       "3                                   0                               0   \n",
       "4                                   0                               0   \n",
       "...                               ...                             ...   \n",
       "19994                               0                               0   \n",
       "19995                               0                               0   \n",
       "19996                               0                               0   \n",
       "19997                               0                               0   \n",
       "19998                               0                               0   \n",
       "\n",
       "       host_has_profile_pic_0  host_has_profile_pic_1  host_response_time_0  \\\n",
       "0                           1                       0                     1   \n",
       "1                           1                       0                     0   \n",
       "2                           1                       0                     0   \n",
       "3                           1                       0                     0   \n",
       "4                           1                       0                     0   \n",
       "...                       ...                     ...                   ...   \n",
       "19994                       1                       0                     0   \n",
       "19995                       1                       0                     0   \n",
       "19996                       1                       0                     0   \n",
       "19997                       1                       0                     0   \n",
       "19998                       1                       0                     0   \n",
       "\n",
       "       host_response_time_1  host_response_time_2  host_response_time_3  \\\n",
       "0                         0                     0                     0   \n",
       "1                         1                     0                     0   \n",
       "2                         0                     1                     0   \n",
       "3                         0                     0                     0   \n",
       "4                         0                     0                     1   \n",
       "...                     ...                   ...                   ...   \n",
       "19994                     1                     0                     0   \n",
       "19995                     0                     0                     0   \n",
       "19996                     0                     0                     1   \n",
       "19997                     0                     1                     0   \n",
       "19998                     0                     0                     0   \n",
       "\n",
       "       host_is_superhost_0  host_is_superhost_1  \n",
       "0                        1                    0  \n",
       "1                        1                    0  \n",
       "2                        1                    0  \n",
       "3                        1                    0  \n",
       "4                        1                    0  \n",
       "...                    ...                  ...  \n",
       "19994                    1                    0  \n",
       "19995                    1                    0  \n",
       "19996                    1                    0  \n",
       "19997                    0                    1  \n",
       "19998                    1                    0  \n",
       "\n",
       "[19999 rows x 85 columns]"
      ]
     },
     "execution_count": 149,
     "metadata": {},
     "output_type": "execute_result"
    }
   ],
   "source": [
    "categorical_binary.dropna()"
   ]
  },
  {
   "cell_type": "markdown",
   "id": "16065b9d-f329-4e6d-b71f-0d17c2e6dacd",
   "metadata": {},
   "source": [
    "## Training an Estimator <a class=\"anchor\" id=\"second-bullet\"></a>"
   ]
  },
  {
   "cell_type": "code",
   "execution_count": 126,
   "id": "74455ab6-bba9-4707-a4ab-ba2070731d43",
   "metadata": {},
   "outputs": [
    {
     "data": {
      "text/plain": [
       "RandomForestRegressor(max_depth=10, max_features=5)"
      ]
     },
     "execution_count": 126,
     "metadata": {},
     "output_type": "execute_result"
    }
   ],
   "source": [
    "rf = RandomForestRegressor(max_features =5, max_depth =10)\n",
    "rf.fit(X_train, y_train)"
   ]
  },
  {
   "cell_type": "code",
   "execution_count": 127,
   "id": "f71b6375-f38e-4597-a16f-1c30cd030918",
   "metadata": {},
   "outputs": [
    {
     "data": {
      "text/plain": [
       "<AxesSubplot:>"
      ]
     },
     "execution_count": 127,
     "metadata": {},
     "output_type": "execute_result"
    },
    {
     "data": {
      "image/png": "[encoded data removed]",
      "text/plain": [
       "<Figure size 432x288 with 1 Axes>"
      ]
     },
     "metadata": {
      "needs_background": "light"
     },
     "output_type": "display_data"
    }
   ],
   "source": [
    "df_feature = pd.DataFrame(data = rf.feature_importances_, index = X_train.columns)\n",
    "df_feature[0].plot.bar()"
   ]
  },
  {
   "cell_type": "code",
   "execution_count": 130,
   "id": "fd923b9d-4692-41eb-96c2-3a422bdaec41",
   "metadata": {},
   "outputs": [],
   "source": [
    "val_metrics, y_hat_val = eval_metrics(X_val, y_val, rf)\n",
    "test_metrics, y_hat_val = eval_metrics(X_test, y_test, rf)\n",
    "val_metrics.to_csv('./results/RF_val.csv')\n",
    "test_metrics.to_csv('./results/RF_test.csv')"
   ]
  },
  {
   "cell_type": "code",
   "execution_count": 131,
   "id": "0ba4086e-05ab-4c5c-99cb-1aae874b9be5",
   "metadata": {},
   "outputs": [
    {
     "data": {
      "text/plain": [
       "[<matplotlib.lines.Line2D at 0x1b3c29385e0>]"
      ]
     },
     "execution_count": 131,
     "metadata": {},
     "output_type": "execute_result"
    },
    {
     "data": {
      "image/png": "[encoded data removed]",
      "text/plain": [
       "<Figure size 432x288 with 1 Axes>"
      ]
     },
     "metadata": {
      "needs_background": "light"
     },
     "output_type": "display_data"
    }
   ],
   "source": [
    "fig, ax = plt.subplots()\n",
    "ax.plot(y_hat_val.log_price,y_hat_val.predictions,'rx')"
   ]
  },
  {
   "cell_type": "markdown",
   "id": "7bf04f16-dc26-47f6-8a21-6cfefeaac2b9",
   "metadata": {},
   "source": [
    "# Hyperparameter Tuning <a class=\"anchor\" id=\"third-bullet\"></a>\n",
    "1. Creating a set of paramters to loop over for the random forest estimator"
   ]
  },
  {
   "cell_type": "code",
   "execution_count": 71,
   "id": "c3bece07-bbc3-426f-8d67-1373e9a09b93",
   "metadata": {},
   "outputs": [],
   "source": [
    "\n",
    "# Number of trees in random forest\n",
    "n_estimators = [int(x) for x in np.linspace(start = 20, stop = 500, num = 10)]\n",
    "# Number of features to consider at every split\n",
    "max_features = ['auto', 'sqrt']\n",
    "# Maximum number of levels in tree\n",
    "max_depth = [int(x) for x in np.linspace(10, 80, num = 9)]\n",
    "max_depth.append(None)\n",
    "# Minimum number of samples required to split a node\n",
    "min_samples_split = [2, 5, 10]\n",
    "# Minimum number of samples required at each leaf node\n",
    "min_samples_leaf = [1, 2, 4]\n",
    "# Method of selecting samples for training each tree\n",
    "bootstrap = [True, False]\n",
    "# Create the random grid\n",
    "random_grid = {'n_estimators': n_estimators,\n",
    "               'max_features': max_features,\n",
    "               'max_depth': max_depth,\n",
    "               'min_samples_split': min_samples_split,\n",
    "               'min_samples_leaf': min_samples_leaf,\n",
    "               'bootstrap': bootstrap}\n"
   ]
  },
  {
   "cell_type": "code",
   "execution_count": null,
   "id": "8d6fd147-854e-4cd2-8a2e-be7e266aa709",
   "metadata": {},
   "outputs": [
    {
     "name": "stderr",
     "output_type": "stream",
     "text": [
      "C:\\Users\\user\\anaconda3\\envs\\spark64\\lib\\site-packages\\sklearn\\model_selection\\_search.py:292: UserWarning: The total space of parameters 25 is smaller than n_iter=50. Running 25 iterations. For exhaustive searches, use GridSearchCV.\n",
      "  warnings.warn(\n"
     ]
    },
    {
     "name": "stdout",
     "output_type": "stream",
     "text": [
      "Fitting 5 folds for each of 25 candidates, totalling 125 fits\n"
     ]
    }
   ],
   "source": [
    "rf = RandomForestRegressor()\n",
    "# Random search of parameters, using 3 fold cross validation, \n",
    "# search across 50 different combinations, and use all available cores\n",
    "rf_random = RandomizedSearchCV(estimator = rf, param_distributions = random_grid,\n",
    "                               n_iter = 50, cv = 5, verbose=1, random_state=42, n_jobs = -1)\n",
    "# Fit the random search model\n",
    "best_rf = rf_random.fit(X_train, y_train)"
   ]
  },
  {
   "cell_type": "code",
   "execution_count": 133,
   "id": "b545dd79-a104-42c6-95cc-188f7547a53a",
   "metadata": {},
   "outputs": [],
   "source": [
    "val_metrics, y_hat_val = eval_metrics(X_val, y_val, best_rf)\n",
    "test_metrics, y_hat_test = eval_metrics(X_test, y_test, best_rf)\n",
    "val_metrics.to_csv('./results/RF_hyperparameter_val.csv')\n",
    "test_metrics.to_csv('./results/RF_hyparameter_test.csv')"
   ]
  },
  {
   "cell_type": "markdown",
   "id": "a87ada8e-02d2-4fa3-a072-324cf452f948",
   "metadata": {},
   "source": [
    "# Hyperparameter Tuning for Lasso <a class=\"anchor\" id=\"fourth-bullet\"></a>\n",
    "1. Creating a set of paramters to loop over for the random forest estimator"
   ]
  },
  {
   "cell_type": "code",
   "execution_count": 151,
   "id": "840c4c02-eb94-4191-abcf-de6b2af9ca00",
   "metadata": {},
   "outputs": [],
   "source": [
    "X_train, X_test, X_val, y_train, y_test, y_val = create_training_dataset(categorical_binary, regression_data,\n",
    "                                                                         price, index, regression_cols,\n",
    "                                                                         norm_reg = True)"
   ]
  },
  {
   "cell_type": "code",
   "execution_count": 152,
   "id": "f2e7da0d-900c-47c9-b978-328281b133af",
   "metadata": {},
   "outputs": [
    {
     "name": "stdout",
     "output_type": "stream",
     "text": [
      "Fitting 10 folds for each of 25 candidates, totalling 250 fits\n"
     ]
    }
   ],
   "source": [
    "random_grid = {'alpha': np.logspace(-6, 1,25)}\n",
    "cls = Lasso(alpha =0.1)\n",
    "cls_random = RandomizedSearchCV(estimator = cls, param_distributions = random_grid,\n",
    "                               n_iter = 15, cv = 5, verbose=1, random_state=42, n_jobs = -1)\n",
    "cls_best = cls_random.fit(X_train, y_train)"
   ]
  },
  {
   "cell_type": "code",
   "execution_count": 154,
   "id": "3debde61-4279-4b53-a321-89e50bf55e40",
   "metadata": {},
   "outputs": [
    {
     "data": {
      "text/plain": [
       "0\n",
       "log_corrcoef      0.810873\n",
       "corrcoef          0.681259\n",
       "rmse            109.083676\n",
       "log_rmse          0.423565\n",
       "Name: 1, dtype: float64"
      ]
     },
     "execution_count": 154,
     "metadata": {},
     "output_type": "execute_result"
    }
   ],
   "source": [
    "val_metrics, y_hat_val = eval_metrics(X_val, y_val, cls_best)\n",
    "test_metrics, y_hat_test = eval_metrics(X_test, y_test, cls_best)\n",
    "test_metrics"
   ]
  },
  {
   "cell_type": "code",
   "execution_count": 155,
   "id": "0f6b23d8-28ce-4b0b-9a34-6b29390d6dc5",
   "metadata": {},
   "outputs": [],
   "source": [
    "val_metrics.to_csv('./results/Lasso_hyperparameter_val.csv')\n",
    "test_metrics.to_csv('./results/Lasso_hyparameter_test.csv')"
   ]
  }
 ],
 "metadata": {
  "kernelspec": {
   "display_name": "Python 3 (ipykernel)",
   "language": "python",
   "name": "python3"
  },
  "language_info": {
   "codemirror_mode": {
    "name": "ipython",
    "version": 3
   },
   "file_extension": ".py",
   "mimetype": "text/x-python",
   "name": "python",
   "nbconvert_exporter": "python",
   "pygments_lexer": "ipython3",
   "version": "3.9.7"
  }
 },
 "nbformat": 4,
 "nbformat_minor": 5
}
