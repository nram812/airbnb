{
 "cells": [
  {
   "cell_type": "code",
   "execution_count": 1,
   "id": "d8faa799-187b-42e6-97b8-3f61740b4aa9",
   "metadata": {},
   "outputs": [
    {
     "name": "stderr",
     "output_type": "stream",
     "text": [
      "COMET WARNING: As you are running in a Jupyter environment, you will need to call `experiment.end()` when finished to ensure all metrics and code are logged before exiting.\n",
      "COMET INFO: Couldn't find a Git repository in 'C:\\\\Users\\\\user\\\\Desktop\\\\repositories' nor in any parent directory. You can override where Comet is looking for a Git Patch by setting the configuration `COMET_GIT_DIRECTORY`\n",
      "COMET INFO: Experiment is live on comet.ml https://www.comet.ml/nram8122/airbnb/acdcf4388e1246c7800617995f1d5a83\n",
      "\n"
     ]
    }
   ],
   "source": [
    "from comet_ml import Experiment\n",
    "experiment = Experiment(\n",
    "    api_key=\"VQ78p7UKivJgj8TU2KWKkCJNj\",\n",
    "    project_name=\"airbnb\",\n",
    "    workspace=\"nram8122\",\n",
    ")\n",
    "import tensorflow as tf\n",
    "import sys\n",
    "sys.path.append('./src')\n",
    "from funcs import *\n",
    "import pandas as pd\n",
    "import numpy as np\n",
    "import seaborn as sns"
   ]
  },
  {
   "cell_type": "markdown",
   "id": "2fab3a03-6b5d-4bab-888a-776aed71339a",
   "metadata": {},
   "source": [
    "## Experiments are Logged on Comet Ml\n",
    "1. Click on the link to see the outputs"
   ]
  },
  {
   "cell_type": "code",
   "execution_count": 2,
   "id": "caaeea72-b1bc-4b71-8a1e-5db3132321c6",
   "metadata": {},
   "outputs": [],
   "source": [
    "\n",
    "# binary data is used for the Lasso Model\n",
    "categorical_binary = pd.read_csv(r'./preprocessed/categorical_binary.csv', index_col =0)\n",
    "categorical_raw = pd.read_csv(r'./preprocessed/categorical_raw.csv', index_col =0)\n",
    "regression_data = pd.read_csv(r'./preprocessed/regression_transformed.csv', index_col =0)\n",
    "regression_cols = regression_data.columns\n",
    "index = pd.read_csv('./preprocessed/benchmark_datasets_index.csv', index_col =0)\n",
    "price = pd.read_csv('./preprocessed/price.csv', index_col =0)"
   ]
  },
  {
   "cell_type": "code",
   "execution_count": 3,
   "id": "7ee9cf76-44ab-4a65-8ecd-41c1ffcd129a",
   "metadata": {},
   "outputs": [],
   "source": [
    "X_train, X_test, X_val, y_train, y_test, y_val = create_training_dataset(categorical_binary, regression_data,\n",
    "                                                                         price, index, regression_cols,\n",
    "                                                                         norm_reg = True)"
   ]
  },
  {
   "cell_type": "code",
   "execution_count": 4,
   "id": "284fd977-4cd0-4206-89fe-32233e8791b4",
   "metadata": {},
   "outputs": [],
   "source": [
    "regression_cols = ['host_response_rate', 'host_acceptance_rate',\n",
    "       'transformed_review_scores_rating',\n",
    "       'transformed_review_scores_accuracy',\n",
    "       'transformed_review_scores_cleanliness',\n",
    "       'transformed_review_scores_checkin',\n",
    "       'transformed_review_scores_communication',\n",
    "       'transformed_review_scores_location',\n",
    "       'transformed_review_scores_value']"
   ]
  },
  {
   "cell_type": "code",
   "execution_count": 5,
   "id": "1d913f19-de6a-4cb2-8d51-85aae42fa8ab",
   "metadata": {},
   "outputs": [],
   "source": [
    "reducelr = tf.keras.callbacks.ReduceLROnPlateau(\n",
    "    monitor='val_loss', factor=0.2, patience=5, verbose=0,\n",
    "    mode='auto', min_delta=0.0001, cooldown=0, min_lr=0\n",
    ")\n",
    "early_stopping = tf.keras.callbacks.EarlyStopping(\n",
    "    monitor='val_loss', min_delta=0, patience=10, verbose=0,\n",
    "    mode='auto', baseline=None, restore_best_weights=False\n",
    ")\n",
    "callbacks = [reducelr, early_stopping]"
   ]
  },
  {
   "cell_type": "markdown",
   "id": "445dba1a-15a4-488d-bdb3-3dd88df58d55",
   "metadata": {},
   "source": [
    "# Here a simple MLP\n",
    "Suggestions for improvement\n",
    "1. Use a multi input MLP - one branch for regression and the other for classification\n",
    "2. Use tensorflow probability for mean, std estimates - very easy use case"
   ]
  },
  {
   "cell_type": "code",
   "execution_count": 6,
   "id": "a9fce1cb-8a96-467a-b486-e97fd309a17f",
   "metadata": {},
   "outputs": [],
   "source": [
    "import tensorflow as tf\n",
    "input_layer = tf.keras.layers.Input(X_train.shape[1:])\n",
    "intermediate_layer = tf.keras.layers.Dense(32, activation ='sigmoid')(input_layer)\n",
    "dropout = tf.keras.layers.Dropout(0.3)(intermediate_layer)\n",
    "output = tf.keras.layers.Dense(1, activation ='linear')(intermediate_layer)"
   ]
  },
  {
   "cell_type": "code",
   "execution_count": 7,
   "id": "1699a164-89e2-4161-b6a2-c190be234fb7",
   "metadata": {},
   "outputs": [],
   "source": [
    "model = tf.keras.models.Model(input_layer, output)\n",
    "model.compile(loss ='huber', optimizer ='adam', metrics =['mse'])\n"
   ]
  },
  {
   "cell_type": "code",
   "execution_count": 8,
   "id": "fe49c0cb-9049-4dfe-8b8c-8726e4442033",
   "metadata": {},
   "outputs": [
    {
     "name": "stderr",
     "output_type": "stream",
     "text": [
      "COMET INFO: Ignoring automatic log_parameter('verbose') because 'keras:verbose' is in COMET_LOGGING_PARAMETERS_IGNORE\n",
      "COMET INFO: ignoring tensorflow summary log of metrics because of keras; set `comet_ml.loggers.tensorboard_logger.LOG_METRICS = True` to override\n"
     ]
    },
    {
     "name": "stdout",
     "output_type": "stream",
     "text": [
      "Epoch 1/100\n",
      "48/48 - 1s - loss: 3.6185 - mse: 17.7236 - val_loss: 2.6494 - val_mse: 10.4763 - lr: 0.0010 - 812ms/epoch - 17ms/step\n",
      "Epoch 2/100\n",
      "48/48 - 0s - loss: 1.8983 - mse: 6.5178 - val_loss: 1.0205 - val_mse: 2.8238 - lr: 0.0010 - 114ms/epoch - 2ms/step\n",
      "Epoch 3/100\n",
      "48/48 - 0s - loss: 0.5495 - mse: 1.3883 - val_loss: 0.2530 - val_mse: 0.5827 - lr: 0.0010 - 111ms/epoch - 2ms/step\n",
      "Epoch 4/100\n",
      "48/48 - 0s - loss: 0.1985 - mse: 0.4468 - val_loss: 0.1961 - val_mse: 0.4221 - lr: 0.0010 - 113ms/epoch - 2ms/step\n",
      "Epoch 5/100\n",
      "48/48 - 0s - loss: 0.1597 - mse: 0.3512 - val_loss: 0.1670 - val_mse: 0.3539 - lr: 0.0010 - 112ms/epoch - 2ms/step\n",
      "Epoch 6/100\n",
      "48/48 - 0s - loss: 0.1376 - mse: 0.3010 - val_loss: 0.1464 - val_mse: 0.3074 - lr: 0.0010 - 111ms/epoch - 2ms/step\n",
      "Epoch 7/100\n",
      "48/48 - 0s - loss: 0.1223 - mse: 0.2668 - val_loss: 0.1316 - val_mse: 0.2752 - lr: 0.0010 - 112ms/epoch - 2ms/step\n",
      "Epoch 8/100\n",
      "48/48 - 0s - loss: 0.1120 - mse: 0.2435 - val_loss: 0.1209 - val_mse: 0.2521 - lr: 0.0010 - 113ms/epoch - 2ms/step\n",
      "Epoch 9/100\n",
      "48/48 - 0s - loss: 0.1053 - mse: 0.2281 - val_loss: 0.1138 - val_mse: 0.2370 - lr: 0.0010 - 112ms/epoch - 2ms/step\n",
      "Epoch 10/100\n",
      "48/48 - 0s - loss: 0.1011 - mse: 0.2189 - val_loss: 0.1087 - val_mse: 0.2255 - lr: 0.0010 - 113ms/epoch - 2ms/step\n",
      "Epoch 11/100\n",
      "48/48 - 0s - loss: 0.0983 - mse: 0.2122 - val_loss: 0.1048 - val_mse: 0.2172 - lr: 0.0010 - 111ms/epoch - 2ms/step\n",
      "Epoch 12/100\n",
      "48/48 - 0s - loss: 0.0960 - mse: 0.2073 - val_loss: 0.1027 - val_mse: 0.2126 - lr: 0.0010 - 112ms/epoch - 2ms/step\n",
      "Epoch 13/100\n",
      "48/48 - 0s - loss: 0.0943 - mse: 0.2031 - val_loss: 0.1002 - val_mse: 0.2072 - lr: 0.0010 - 118ms/epoch - 2ms/step\n",
      "Epoch 14/100\n",
      "48/48 - 0s - loss: 0.0928 - mse: 0.1997 - val_loss: 0.0984 - val_mse: 0.2033 - lr: 0.0010 - 115ms/epoch - 2ms/step\n",
      "Epoch 15/100\n",
      "48/48 - 0s - loss: 0.0917 - mse: 0.1969 - val_loss: 0.0968 - val_mse: 0.1997 - lr: 0.0010 - 115ms/epoch - 2ms/step\n",
      "Epoch 16/100\n",
      "48/48 - 0s - loss: 0.0907 - mse: 0.1949 - val_loss: 0.0958 - val_mse: 0.1975 - lr: 0.0010 - 112ms/epoch - 2ms/step\n",
      "Epoch 17/100\n",
      "48/48 - 0s - loss: 0.0897 - mse: 0.1925 - val_loss: 0.0949 - val_mse: 0.1954 - lr: 0.0010 - 110ms/epoch - 2ms/step\n",
      "Epoch 18/100\n",
      "48/48 - 0s - loss: 0.0888 - mse: 0.1902 - val_loss: 0.0937 - val_mse: 0.1928 - lr: 0.0010 - 110ms/epoch - 2ms/step\n",
      "Epoch 19/100\n",
      "48/48 - 0s - loss: 0.0882 - mse: 0.1889 - val_loss: 0.0938 - val_mse: 0.1928 - lr: 0.0010 - 110ms/epoch - 2ms/step\n",
      "Epoch 20/100\n",
      "48/48 - 0s - loss: 0.0876 - mse: 0.1872 - val_loss: 0.0920 - val_mse: 0.1892 - lr: 0.0010 - 110ms/epoch - 2ms/step\n",
      "Epoch 21/100\n",
      "48/48 - 0s - loss: 0.0867 - mse: 0.1855 - val_loss: 0.0927 - val_mse: 0.1905 - lr: 0.0010 - 112ms/epoch - 2ms/step\n",
      "Epoch 22/100\n",
      "48/48 - 0s - loss: 0.0861 - mse: 0.1838 - val_loss: 0.0908 - val_mse: 0.1868 - lr: 0.0010 - 113ms/epoch - 2ms/step\n",
      "Epoch 23/100\n",
      "48/48 - 0s - loss: 0.0856 - mse: 0.1828 - val_loss: 0.0903 - val_mse: 0.1857 - lr: 0.0010 - 110ms/epoch - 2ms/step\n",
      "Epoch 24/100\n",
      "48/48 - 0s - loss: 0.0849 - mse: 0.1814 - val_loss: 0.0899 - val_mse: 0.1847 - lr: 0.0010 - 112ms/epoch - 2ms/step\n",
      "Epoch 25/100\n",
      "48/48 - 0s - loss: 0.0845 - mse: 0.1803 - val_loss: 0.0900 - val_mse: 0.1846 - lr: 0.0010 - 115ms/epoch - 2ms/step\n",
      "Epoch 26/100\n",
      "48/48 - 0s - loss: 0.0840 - mse: 0.1792 - val_loss: 0.0895 - val_mse: 0.1835 - lr: 0.0010 - 115ms/epoch - 2ms/step\n",
      "Epoch 27/100\n",
      "48/48 - 0s - loss: 0.0836 - mse: 0.1782 - val_loss: 0.0894 - val_mse: 0.1835 - lr: 0.0010 - 115ms/epoch - 2ms/step\n",
      "Epoch 28/100\n",
      "48/48 - 0s - loss: 0.0830 - mse: 0.1772 - val_loss: 0.0891 - val_mse: 0.1828 - lr: 0.0010 - 112ms/epoch - 2ms/step\n",
      "Epoch 29/100\n",
      "48/48 - 0s - loss: 0.0828 - mse: 0.1763 - val_loss: 0.0883 - val_mse: 0.1813 - lr: 0.0010 - 111ms/epoch - 2ms/step\n",
      "Epoch 30/100\n",
      "48/48 - 0s - loss: 0.0822 - mse: 0.1751 - val_loss: 0.0886 - val_mse: 0.1817 - lr: 0.0010 - 111ms/epoch - 2ms/step\n",
      "Epoch 31/100\n",
      "48/48 - 0s - loss: 0.0818 - mse: 0.1743 - val_loss: 0.0877 - val_mse: 0.1802 - lr: 0.0010 - 111ms/epoch - 2ms/step\n",
      "Epoch 32/100\n",
      "48/48 - 0s - loss: 0.0817 - mse: 0.1741 - val_loss: 0.0882 - val_mse: 0.1810 - lr: 0.0010 - 111ms/epoch - 2ms/step\n",
      "Epoch 33/100\n",
      "48/48 - 0s - loss: 0.0811 - mse: 0.1728 - val_loss: 0.0895 - val_mse: 0.1834 - lr: 0.0010 - 113ms/epoch - 2ms/step\n",
      "Epoch 34/100\n",
      "48/48 - 0s - loss: 0.0808 - mse: 0.1718 - val_loss: 0.0877 - val_mse: 0.1802 - lr: 0.0010 - 116ms/epoch - 2ms/step\n",
      "Epoch 35/100\n",
      "48/48 - 0s - loss: 0.0804 - mse: 0.1711 - val_loss: 0.0880 - val_mse: 0.1804 - lr: 0.0010 - 116ms/epoch - 2ms/step\n",
      "Epoch 36/100\n",
      "48/48 - 0s - loss: 0.0801 - mse: 0.1703 - val_loss: 0.0877 - val_mse: 0.1801 - lr: 0.0010 - 112ms/epoch - 2ms/step\n",
      "Epoch 37/100\n",
      "48/48 - 0s - loss: 0.0796 - mse: 0.1693 - val_loss: 0.0878 - val_mse: 0.1803 - lr: 2.0000e-04 - 111ms/epoch - 2ms/step\n",
      "Epoch 38/100\n",
      "48/48 - 0s - loss: 0.0795 - mse: 0.1691 - val_loss: 0.0878 - val_mse: 0.1803 - lr: 2.0000e-04 - 115ms/epoch - 2ms/step\n",
      "Epoch 39/100\n",
      "48/48 - 0s - loss: 0.0794 - mse: 0.1689 - val_loss: 0.0879 - val_mse: 0.1804 - lr: 2.0000e-04 - 116ms/epoch - 2ms/step\n",
      "Epoch 40/100\n",
      "48/48 - 0s - loss: 0.0793 - mse: 0.1687 - val_loss: 0.0878 - val_mse: 0.1802 - lr: 2.0000e-04 - 115ms/epoch - 2ms/step\n",
      "Epoch 41/100\n",
      "48/48 - 0s - loss: 0.0793 - mse: 0.1686 - val_loss: 0.0881 - val_mse: 0.1807 - lr: 2.0000e-04 - 111ms/epoch - 2ms/step\n",
      "Epoch 42/100\n",
      "48/48 - 0s - loss: 0.0792 - mse: 0.1684 - val_loss: 0.0880 - val_mse: 0.1806 - lr: 4.0000e-05 - 111ms/epoch - 2ms/step\n",
      "Epoch 43/100\n",
      "48/48 - 0s - loss: 0.0791 - mse: 0.1683 - val_loss: 0.0880 - val_mse: 0.1806 - lr: 4.0000e-05 - 115ms/epoch - 2ms/step\n",
      "Epoch 44/100\n",
      "48/48 - 0s - loss: 0.0791 - mse: 0.1683 - val_loss: 0.0879 - val_mse: 0.1804 - lr: 4.0000e-05 - 117ms/epoch - 2ms/step\n",
      "Epoch 45/100\n",
      "48/48 - 0s - loss: 0.0791 - mse: 0.1682 - val_loss: 0.0879 - val_mse: 0.1804 - lr: 4.0000e-05 - 112ms/epoch - 2ms/step\n",
      "Epoch 46/100\n",
      "48/48 - 0s - loss: 0.0791 - mse: 0.1682 - val_loss: 0.0878 - val_mse: 0.1803 - lr: 4.0000e-05 - 112ms/epoch - 2ms/step\n"
     ]
    }
   ],
   "source": [
    "history = model.fit(X_train, y_train, validation_data =(X_test, y_test),\n",
    "                    epochs =100, batch_size =100, verbose =2, callbacks = callbacks)"
   ]
  },
  {
   "cell_type": "code",
   "execution_count": 10,
   "id": "b6ab9cd4-be87-4883-a25f-7340863dbc9d",
   "metadata": {},
   "outputs": [],
   "source": [
    "val_metrics, y_hat_val = eval_metrics(X_val, y_val, model)\n",
    "test_metrics, y_hat_val = eval_metrics(X_test, y_test, model)\n",
    "val_metrics.to_csv('./results/MLP_hyperparameter_val.csv')\n",
    "test_metrics.to_csv('./results/MLP_hyparameter_test.csv')"
   ]
  }
 ],
 "metadata": {
  "kernelspec": {
   "display_name": "Python 3 (ipykernel)",
   "language": "python",
   "name": "python3"
  },
  "language_info": {
   "codemirror_mode": {
    "name": "ipython",
    "version": 3
   },
   "file_extension": ".py",
   "mimetype": "text/x-python",
   "name": "python",
   "nbconvert_exporter": "python",
   "pygments_lexer": "ipython3",
   "version": "3.9.7"
  }
 },
 "nbformat": 4,
 "nbformat_minor": 5
}
