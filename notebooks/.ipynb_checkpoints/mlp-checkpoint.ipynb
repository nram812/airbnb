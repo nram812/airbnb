{
 "cells": [
  {
   "cell_type": "markdown",
   "id": "c131359d",
   "metadata": {
    "tags": [
     "papermill-error-cell-tag"
    ]
   },
   "source": [
    "<span style=\"color:red; font-family:Helvetica Neue, Helvetica, Arial, sans-serif; font-size:2em;\">An Exception was encountered at '<a href=\"#papermill-error-cell\">In [8]</a>'.</span>"
   ]
  },
  {
   "cell_type": "code",
   "execution_count": null,
   "id": "d8faa799-187b-42e6-97b8-3f61740b4aa9",
   "metadata": {
    "papermill": {
     "duration": 10.927363,
     "end_time": "2022-02-02T13:54:07.458777",
     "exception": false,
     "start_time": "2022-02-02T13:53:56.531414",
     "status": "completed"
    },
    "tags": []
   },
   "outputs": [
    {
     "name": "stderr",
     "output_type": "stream",
     "text": [
      "COMET INFO: ---------------------------\n",
      "COMET INFO: Comet.ml Experiment Summary\n",
      "COMET INFO: ---------------------------\n",
      "COMET INFO:   Data:\n",
      "COMET INFO:     display_summary_level : 1\n",
      "COMET INFO:     url                   : https://www.comet.ml/nram8122/airbnb/514fe1b78d87495998f723a611c684d7\n",
      "COMET INFO:   Uploads:\n",
      "COMET INFO:     environment details      : 1\n",
      "COMET INFO:     filename                 : 1\n",
      "COMET INFO:     git metadata             : 1\n",
      "COMET INFO:     git-patch (uncompressed) : 1 (72.56 MB)\n",
      "COMET INFO:     installed packages       : 1\n",
      "COMET INFO:     notebook                 : 1\n",
      "COMET INFO:     source_code              : 1\n",
      "COMET INFO: ---------------------------\n",
      "COMET WARNING: As you are running in a Jupyter environment, you will need to call `experiment.end()` when finished to ensure all metrics and code are logged before exiting.\n"
     ]
    }
   ],
   "source": [
    "from comet_ml import Experiment\n",
    "experiment = Experiment(\n",
    "    api_key=\"VQ78p7UKivJgj8TU2KWKkCJNj\",\n",
    "    project_name=\"airbnb\",\n",
    "    workspace=\"nram8122\",\n",
    ")\n",
    "import os\n",
    "os.environ[\"CUDA_VISIBLE_DEVICES\"]=\"-1\"  \n",
    "import tensorflow as tf\n",
    "import sys\n",
    "sys.path.append('./src')\n",
    "from funcs import *\n",
    "import pandas as pd\n",
    "import numpy as np\n",
    "import seaborn as sns\n",
    "  "
   ]
  },
  {
   "cell_type": "markdown",
   "id": "2fab3a03-6b5d-4bab-888a-776aed71339a",
   "metadata": {
    "papermill": {
     "duration": 0.00801,
     "end_time": "2022-02-02T13:54:07.480715",
     "exception": false,
     "start_time": "2022-02-02T13:54:07.472705",
     "status": "completed"
    },
    "tags": []
   },
   "source": [
    "## Experiments are Logged on Comet Ml\n",
    "1. Click on the link to see the outputs"
   ]
  },
  {
   "cell_type": "code",
   "execution_count": 2,
   "id": "caaeea72-b1bc-4b71-8a1e-5db3132321c6",
   "metadata": {
    "execution": {
     "iopub.execute_input": "2022-02-02T13:54:07.497642Z",
     "iopub.status.busy": "2022-02-02T13:54:07.497642Z",
     "iopub.status.idle": "2022-02-02T13:54:07.641539Z",
     "shell.execute_reply": "2022-02-02T13:54:07.641539Z"
    },
    "papermill": {
     "duration": 0.152846,
     "end_time": "2022-02-02T13:54:07.641539",
     "exception": false,
     "start_time": "2022-02-02T13:54:07.488693",
     "status": "completed"
    },
    "tags": []
   },
   "outputs": [],
   "source": [
    "\n",
    "# binary data is used for the Lasso Model\n",
    "categorical_binary = pd.read_csv(r'./preprocessed/categorical_binary.csv', index_col =0)\n",
    "categorical_raw = pd.read_csv(r'./preprocessed/categorical_raw.csv', index_col =0)\n",
    "regression_data = pd.read_csv(r'./preprocessed/regression_transformed.csv', index_col =0)\n",
    "regression_cols = regression_data.columns\n",
    "index = pd.read_csv('./preprocessed/benchmark_datasets_index.csv', index_col =0)\n",
    "price = pd.read_csv('./preprocessed/price.csv', index_col =0)"
   ]
  },
  {
   "cell_type": "code",
   "execution_count": 3,
   "id": "7ee9cf76-44ab-4a65-8ecd-41c1ffcd129a",
   "metadata": {
    "execution": {
     "iopub.execute_input": "2022-02-02T13:54:07.655529Z",
     "iopub.status.busy": "2022-02-02T13:54:07.655529Z",
     "iopub.status.idle": "2022-02-02T13:54:07.718560Z",
     "shell.execute_reply": "2022-02-02T13:54:07.718560Z"
    },
    "papermill": {
     "duration": 0.07101,
     "end_time": "2022-02-02T13:54:07.718560",
     "exception": false,
     "start_time": "2022-02-02T13:54:07.647550",
     "status": "completed"
    },
    "tags": []
   },
   "outputs": [],
   "source": [
    "X_train, X_test, X_val, y_train, y_test, y_val = create_training_dataset(categorical_binary, regression_data,\n",
    "                                                                         price, index, regression_cols,\n",
    "                                                                         norm_reg = True)"
   ]
  },
  {
   "cell_type": "code",
   "execution_count": 4,
   "id": "284fd977-4cd0-4206-89fe-32233e8791b4",
   "metadata": {
    "execution": {
     "iopub.execute_input": "2022-02-02T13:54:07.732560Z",
     "iopub.status.busy": "2022-02-02T13:54:07.732560Z",
     "iopub.status.idle": "2022-02-02T13:54:07.749015Z",
     "shell.execute_reply": "2022-02-02T13:54:07.749015Z"
    },
    "papermill": {
     "duration": 0.025498,
     "end_time": "2022-02-02T13:54:07.750042",
     "exception": false,
     "start_time": "2022-02-02T13:54:07.724544",
     "status": "completed"
    },
    "tags": []
   },
   "outputs": [],
   "source": [
    "regression_cols = ['host_response_rate', 'host_acceptance_rate',\n",
    "       'transformed_review_scores_rating',\n",
    "       'transformed_review_scores_accuracy',\n",
    "       'transformed_review_scores_cleanliness',\n",
    "       'transformed_review_scores_checkin',\n",
    "       'transformed_review_scores_communication',\n",
    "       'transformed_review_scores_location',\n",
    "       'transformed_review_scores_value']"
   ]
  },
  {
   "cell_type": "code",
   "execution_count": 5,
   "id": "1d913f19-de6a-4cb2-8d51-85aae42fa8ab",
   "metadata": {
    "execution": {
     "iopub.execute_input": "2022-02-02T13:54:07.764016Z",
     "iopub.status.busy": "2022-02-02T13:54:07.764016Z",
     "iopub.status.idle": "2022-02-02T13:54:07.780086Z",
     "shell.execute_reply": "2022-02-02T13:54:07.780086Z"
    },
    "papermill": {
     "duration": 0.025078,
     "end_time": "2022-02-02T13:54:07.781085",
     "exception": false,
     "start_time": "2022-02-02T13:54:07.756007",
     "status": "completed"
    },
    "tags": []
   },
   "outputs": [],
   "source": [
    "reducelr = tf.keras.callbacks.ReduceLROnPlateau(\n",
    "    monitor='val_loss', factor=0.2, patience=5, verbose=0,\n",
    "    mode='auto', min_delta=0.0001, cooldown=0, min_lr=0\n",
    ")\n",
    "early_stopping = tf.keras.callbacks.EarlyStopping(\n",
    "    monitor='val_loss', min_delta=0, patience=10, verbose=0,\n",
    "    mode='auto', baseline=None, restore_best_weights=False\n",
    ")\n",
    "callbacks = [reducelr, early_stopping]"
   ]
  },
  {
   "cell_type": "markdown",
   "id": "445dba1a-15a4-488d-bdb3-3dd88df58d55",
   "metadata": {
    "papermill": {
     "duration": 0.005984,
     "end_time": "2022-02-02T13:54:07.793054",
     "exception": false,
     "start_time": "2022-02-02T13:54:07.787070",
     "status": "completed"
    },
    "tags": []
   },
   "source": [
    "# Here a simple MLP\n",
    "Suggestions for improvement\n",
    "1. Use a multi input MLP - one branch for regression and the other for classification\n",
    "2. Use tensorflow probability for mean, std estimates - very easy use case"
   ]
  },
  {
   "cell_type": "code",
   "execution_count": 6,
   "id": "a9fce1cb-8a96-467a-b486-e97fd309a17f",
   "metadata": {
    "execution": {
     "iopub.execute_input": "2022-02-02T13:54:07.807066Z",
     "iopub.status.busy": "2022-02-02T13:54:07.807066Z",
     "iopub.status.idle": "2022-02-02T13:54:09.205050Z",
     "shell.execute_reply": "2022-02-02T13:54:09.205050Z"
    },
    "papermill": {
     "duration": 1.406012,
     "end_time": "2022-02-02T13:54:09.205050",
     "exception": false,
     "start_time": "2022-02-02T13:54:07.799038",
     "status": "completed"
    },
    "tags": []
   },
   "outputs": [],
   "source": [
    "import tensorflow as tf\n",
    "input_layer = tf.keras.layers.Input(X_train.shape[1:])\n",
    "intermediate_layer = tf.keras.layers.Dense(32, activation ='sigmoid')(input_layer)\n",
    "dropout = tf.keras.layers.Dropout(0.3)(intermediate_layer)\n",
    "output = tf.keras.layers.Dense(1, activation ='linear')(intermediate_layer)"
   ]
  },
  {
   "cell_type": "code",
   "execution_count": 7,
   "id": "1699a164-89e2-4161-b6a2-c190be234fb7",
   "metadata": {
    "execution": {
     "iopub.execute_input": "2022-02-02T13:54:09.220010Z",
     "iopub.status.busy": "2022-02-02T13:54:09.219015Z",
     "iopub.status.idle": "2022-02-02T13:54:09.235967Z",
     "shell.execute_reply": "2022-02-02T13:54:09.235967Z"
    },
    "papermill": {
     "duration": 0.024933,
     "end_time": "2022-02-02T13:54:09.235967",
     "exception": false,
     "start_time": "2022-02-02T13:54:09.211034",
     "status": "completed"
    },
    "tags": []
   },
   "outputs": [],
   "source": [
    "model = tf.keras.models.Model(input_layer, output)\n",
    "model.compile(loss ='huber', optimizer ='adam', metrics =['mse'])\n"
   ]
  },
  {
   "cell_type": "markdown",
   "id": "76c515ca",
   "metadata": {
    "tags": [
     "papermill-error-cell-tag"
    ]
   },
   "source": [
    "<span id=\"papermill-error-cell\" style=\"color:red; font-family:Helvetica Neue, Helvetica, Arial, sans-serif; font-size:2em;\">Execution using papermill encountered an exception here and stopped:</span>"
   ]
  },
  {
   "cell_type": "code",
   "execution_count": 8,
   "id": "fe49c0cb-9049-4dfe-8b8c-8726e4442033",
   "metadata": {
    "execution": {
     "iopub.execute_input": "2022-02-02T13:54:09.249930Z",
     "iopub.status.busy": "2022-02-02T13:54:09.249930Z",
     "iopub.status.idle": "2022-02-02T13:54:11.383836Z",
     "shell.execute_reply": "2022-02-02T13:54:11.382837Z"
    },
    "papermill": {
     "duration": 2.141885,
     "end_time": "2022-02-02T13:54:11.383836",
     "exception": true,
     "start_time": "2022-02-02T13:54:09.241951",
     "status": "failed"
    },
    "tags": []
   },
   "outputs": [
    {
     "name": "stderr",
     "output_type": "stream",
     "text": [
      "COMET INFO: Ignoring automatic log_parameter('verbose') because 'keras:verbose' is in COMET_LOGGING_PARAMETERS_IGNORE\n",
      "COMET INFO: ignoring tensorflow summary log of metrics because of keras; set `comet_ml.loggers.tensorboard_logger.LOG_METRICS = True` to override\n"
     ]
    },
    {
     "name": "stdout",
     "output_type": "stream",
     "text": [
      "Epoch 1/100\n"
     ]
    },
    {
     "ename": "InternalError",
     "evalue": " Attempting to perform BLAS operation using StreamExecutor without BLAS support\n\t [[node model/dense/MatMul\n (defined at C:\\Users\\user\\anaconda3\\envs\\spark64\\lib\\site-packages\\keras\\layers\\core\\dense.py:199)\n]] [Op:__inference_train_function_686]\n\nErrors may have originated from an input operation.\nInput Source operations connected to node model/dense/MatMul:\nIn[0] IteratorGetNext (defined at C:\\Users\\user\\anaconda3\\envs\\spark64\\lib\\site-packages\\keras\\engine\\training.py:866)\t\nIn[1] model/dense/MatMul/ReadVariableOp:\n\nOperation defined at: (most recent call last)\n>>>   File \"C:\\Users\\user\\anaconda3\\envs\\spark64\\lib\\runpy.py\", line 197, in _run_module_as_main\n>>>     return _run_code(code, main_globals, None,\n>>> \n>>>   File \"C:\\Users\\user\\anaconda3\\envs\\spark64\\lib\\runpy.py\", line 87, in _run_code\n>>>     exec(code, run_globals)\n>>> \n>>>   File \"C:\\Users\\user\\anaconda3\\envs\\spark64\\lib\\site-packages\\ipykernel_launcher.py\", line 16, in <module>\n>>>     app.launch_new_instance()\n>>> \n>>>   File \"C:\\Users\\user\\anaconda3\\envs\\spark64\\lib\\site-packages\\traitlets\\config\\application.py\", line 846, in launch_instance\n>>>     app.start()\n>>> \n>>>   File \"C:\\Users\\user\\anaconda3\\envs\\spark64\\lib\\site-packages\\ipykernel\\kernelapp.py\", line 677, in start\n>>>     self.io_loop.start()\n>>> \n>>>   File \"C:\\Users\\user\\anaconda3\\envs\\spark64\\lib\\site-packages\\tornado\\platform\\asyncio.py\", line 199, in start\n>>>     self.asyncio_loop.run_forever()\n>>> \n>>>   File \"C:\\Users\\user\\anaconda3\\envs\\spark64\\lib\\asyncio\\base_events.py\", line 596, in run_forever\n>>>     self._run_once()\n>>> \n>>>   File \"C:\\Users\\user\\anaconda3\\envs\\spark64\\lib\\asyncio\\base_events.py\", line 1890, in _run_once\n>>>     handle._run()\n>>> \n>>>   File \"C:\\Users\\user\\anaconda3\\envs\\spark64\\lib\\asyncio\\events.py\", line 80, in _run\n>>>     self._context.run(self._callback, *self._args)\n>>> \n>>>   File \"C:\\Users\\user\\anaconda3\\envs\\spark64\\lib\\site-packages\\ipykernel\\kernelbase.py\", line 461, in dispatch_queue\n>>>     await self.process_one()\n>>> \n>>>   File \"C:\\Users\\user\\anaconda3\\envs\\spark64\\lib\\site-packages\\ipykernel\\kernelbase.py\", line 450, in process_one\n>>>     await dispatch(*args)\n>>> \n>>>   File \"C:\\Users\\user\\anaconda3\\envs\\spark64\\lib\\site-packages\\ipykernel\\kernelbase.py\", line 357, in dispatch_shell\n>>>     await result\n>>> \n>>>   File \"C:\\Users\\user\\anaconda3\\envs\\spark64\\lib\\site-packages\\ipykernel\\kernelbase.py\", line 652, in execute_request\n>>>     reply_content = await reply_content\n>>> \n>>>   File \"C:\\Users\\user\\anaconda3\\envs\\spark64\\lib\\site-packages\\ipykernel\\ipkernel.py\", line 353, in do_execute\n>>>     res = shell.run_cell(code, store_history=store_history, silent=silent)\n>>> \n>>>   File \"C:\\Users\\user\\anaconda3\\envs\\spark64\\lib\\site-packages\\ipykernel\\zmqshell.py\", line 532, in run_cell\n>>>     return super().run_cell(*args, **kwargs)\n>>> \n>>>   File \"C:\\Users\\user\\anaconda3\\envs\\spark64\\lib\\site-packages\\IPython\\core\\interactiveshell.py\", line 2768, in run_cell\n>>>     result = self._run_cell(\n>>> \n>>>   File \"C:\\Users\\user\\anaconda3\\envs\\spark64\\lib\\site-packages\\IPython\\core\\interactiveshell.py\", line 2814, in _run_cell\n>>>     return runner(coro)\n>>> \n>>>   File \"C:\\Users\\user\\anaconda3\\envs\\spark64\\lib\\site-packages\\IPython\\core\\async_helpers.py\", line 129, in _pseudo_sync_runner\n>>>     coro.send(None)\n>>> \n>>>   File \"C:\\Users\\user\\anaconda3\\envs\\spark64\\lib\\site-packages\\IPython\\core\\interactiveshell.py\", line 3012, in run_cell_async\n>>>     has_raised = await self.run_ast_nodes(code_ast.body, cell_name,\n>>> \n>>>   File \"C:\\Users\\user\\anaconda3\\envs\\spark64\\lib\\site-packages\\IPython\\core\\interactiveshell.py\", line 3191, in run_ast_nodes\n>>>     if await self.run_code(code, result, async_=asy):\n>>> \n>>>   File \"C:\\Users\\user\\anaconda3\\envs\\spark64\\lib\\site-packages\\IPython\\core\\interactiveshell.py\", line 3251, in run_code\n>>>     exec(code_obj, self.user_global_ns, self.user_ns)\n>>> \n>>>   File \"C:\\Users\\user\\AppData\\Local\\Temp\\ipykernel_5356\\3692997175.py\", line 1, in <module>\n>>>     history = model.fit(X_train.values, y_train.values, validation_data =(X_test.values, y_test.values),\n>>> \n>>>   File \"C:\\Users\\user\\anaconda3\\envs\\spark64\\lib\\site-packages\\comet_ml\\monkey_patching.py\", line 312, in wrapper\n>>>     return_value = original(*args, **kwargs)\n>>> \n>>>   File \"C:\\Users\\user\\anaconda3\\envs\\spark64\\lib\\site-packages\\keras\\utils\\traceback_utils.py\", line 64, in error_handler\n>>>     return fn(*args, **kwargs)\n>>> \n>>>   File \"C:\\Users\\user\\anaconda3\\envs\\spark64\\lib\\site-packages\\keras\\engine\\training.py\", line 1216, in fit\n>>>     tmp_logs = self.train_function(iterator)\n>>> \n>>>   File \"C:\\Users\\user\\anaconda3\\envs\\spark64\\lib\\site-packages\\keras\\engine\\training.py\", line 878, in train_function\n>>>     return step_function(self, iterator)\n>>> \n>>>   File \"C:\\Users\\user\\anaconda3\\envs\\spark64\\lib\\site-packages\\keras\\engine\\training.py\", line 867, in step_function\n>>>     outputs = model.distribute_strategy.run(run_step, args=(data,))\n>>> \n>>>   File \"C:\\Users\\user\\anaconda3\\envs\\spark64\\lib\\site-packages\\keras\\engine\\training.py\", line 860, in run_step\n>>>     outputs = model.train_step(data)\n>>> \n>>>   File \"C:\\Users\\user\\anaconda3\\envs\\spark64\\lib\\site-packages\\keras\\engine\\training.py\", line 808, in train_step\n>>>     y_pred = self(x, training=True)\n>>> \n>>>   File \"C:\\Users\\user\\anaconda3\\envs\\spark64\\lib\\site-packages\\keras\\utils\\traceback_utils.py\", line 64, in error_handler\n>>>     return fn(*args, **kwargs)\n>>> \n>>>   File \"C:\\Users\\user\\anaconda3\\envs\\spark64\\lib\\site-packages\\keras\\engine\\base_layer.py\", line 1083, in __call__\n>>>     outputs = call_fn(inputs, *args, **kwargs)\n>>> \n>>>   File \"C:\\Users\\user\\anaconda3\\envs\\spark64\\lib\\site-packages\\keras\\utils\\traceback_utils.py\", line 92, in error_handler\n>>>     return fn(*args, **kwargs)\n>>> \n>>>   File \"C:\\Users\\user\\anaconda3\\envs\\spark64\\lib\\site-packages\\keras\\engine\\functional.py\", line 451, in call\n>>>     return self._run_internal_graph(\n>>> \n>>>   File \"C:\\Users\\user\\anaconda3\\envs\\spark64\\lib\\site-packages\\keras\\engine\\functional.py\", line 589, in _run_internal_graph\n>>>     outputs = node.layer(*args, **kwargs)\n>>> \n>>>   File \"C:\\Users\\user\\anaconda3\\envs\\spark64\\lib\\site-packages\\keras\\utils\\traceback_utils.py\", line 64, in error_handler\n>>>     return fn(*args, **kwargs)\n>>> \n>>>   File \"C:\\Users\\user\\anaconda3\\envs\\spark64\\lib\\site-packages\\keras\\engine\\base_layer.py\", line 1083, in __call__\n>>>     outputs = call_fn(inputs, *args, **kwargs)\n>>> \n>>>   File \"C:\\Users\\user\\anaconda3\\envs\\spark64\\lib\\site-packages\\keras\\utils\\traceback_utils.py\", line 92, in error_handler\n>>>     return fn(*args, **kwargs)\n>>> \n>>>   File \"C:\\Users\\user\\anaconda3\\envs\\spark64\\lib\\site-packages\\keras\\layers\\core\\dense.py\", line 199, in call\n>>>     outputs = tf.matmul(a=inputs, b=self.kernel)\n>>> ",
     "output_type": "error",
     "traceback": [
      "\u001b[1;31m---------------------------------------------------------------------------\u001b[0m",
      "\u001b[1;31mInternalError\u001b[0m                             Traceback (most recent call last)",
      "Input \u001b[1;32mIn [8]\u001b[0m, in \u001b[0;36m<module>\u001b[1;34m\u001b[0m\n\u001b[1;32m----> 1\u001b[0m history \u001b[38;5;241m=\u001b[39m \u001b[43mmodel\u001b[49m\u001b[38;5;241;43m.\u001b[39;49m\u001b[43mfit\u001b[49m\u001b[43m(\u001b[49m\u001b[43mX_train\u001b[49m\u001b[38;5;241;43m.\u001b[39;49m\u001b[43mvalues\u001b[49m\u001b[43m,\u001b[49m\u001b[43m \u001b[49m\u001b[43my_train\u001b[49m\u001b[38;5;241;43m.\u001b[39;49m\u001b[43mvalues\u001b[49m\u001b[43m,\u001b[49m\u001b[43m \u001b[49m\u001b[43mvalidation_data\u001b[49m\u001b[43m \u001b[49m\u001b[38;5;241;43m=\u001b[39;49m\u001b[43m(\u001b[49m\u001b[43mX_test\u001b[49m\u001b[38;5;241;43m.\u001b[39;49m\u001b[43mvalues\u001b[49m\u001b[43m,\u001b[49m\u001b[43m \u001b[49m\u001b[43my_test\u001b[49m\u001b[38;5;241;43m.\u001b[39;49m\u001b[43mvalues\u001b[49m\u001b[43m)\u001b[49m\u001b[43m,\u001b[49m\n\u001b[0;32m      2\u001b[0m \u001b[43m                    \u001b[49m\u001b[43mepochs\u001b[49m\u001b[43m \u001b[49m\u001b[38;5;241;43m=\u001b[39;49m\u001b[38;5;241;43m100\u001b[39;49m\u001b[43m,\u001b[49m\u001b[43m \u001b[49m\u001b[43mbatch_size\u001b[49m\u001b[43m \u001b[49m\u001b[38;5;241;43m=\u001b[39;49m\u001b[38;5;241;43m100\u001b[39;49m\u001b[43m,\u001b[49m\u001b[43m \u001b[49m\u001b[43mverbose\u001b[49m\u001b[43m \u001b[49m\u001b[38;5;241;43m=\u001b[39;49m\u001b[38;5;241;43m2\u001b[39;49m\u001b[43m,\u001b[49m\u001b[43m \u001b[49m\u001b[43mcallbacks\u001b[49m\u001b[43m \u001b[49m\u001b[38;5;241;43m=\u001b[39;49m\u001b[43m \u001b[49m\u001b[43mcallbacks\u001b[49m\u001b[43m)\u001b[49m\n",
      "File \u001b[1;32m~\\anaconda3\\envs\\spark64\\lib\\site-packages\\comet_ml\\monkey_patching.py:312\u001b[0m, in \u001b[0;36mEntrypoint.<locals>.wrapper\u001b[1;34m(*args, **kwargs)\u001b[0m\n\u001b[0;32m    307\u001b[0m         \u001b[38;5;28;01mexcept\u001b[39;00m \u001b[38;5;167;01mException\u001b[39;00m:\n\u001b[0;32m    308\u001b[0m             LOGGER\u001b[38;5;241m.\u001b[39mdebug(\n\u001b[0;32m    309\u001b[0m                 \u001b[38;5;124m\"\u001b[39m\u001b[38;5;124mException calling before callback \u001b[39m\u001b[38;5;132;01m%r\u001b[39;00m\u001b[38;5;124m\"\u001b[39m, callback, exc_info\u001b[38;5;241m=\u001b[39m\u001b[38;5;28;01mTrue\u001b[39;00m\n\u001b[0;32m    310\u001b[0m             )\n\u001b[1;32m--> 312\u001b[0m return_value \u001b[38;5;241m=\u001b[39m original(\u001b[38;5;241m*\u001b[39margs, \u001b[38;5;241m*\u001b[39m\u001b[38;5;241m*\u001b[39mkwargs)\n\u001b[0;32m    314\u001b[0m \u001b[38;5;66;03m# Call after callbacks once we have the return value\u001b[39;00m\n\u001b[0;32m    315\u001b[0m \u001b[38;5;28;01mif\u001b[39;00m should_run:\n",
      "File \u001b[1;32m~\\anaconda3\\envs\\spark64\\lib\\site-packages\\keras\\utils\\traceback_utils.py:67\u001b[0m, in \u001b[0;36mfilter_traceback.<locals>.error_handler\u001b[1;34m(*args, **kwargs)\u001b[0m\n\u001b[0;32m     65\u001b[0m \u001b[38;5;28;01mexcept\u001b[39;00m \u001b[38;5;167;01mException\u001b[39;00m \u001b[38;5;28;01mas\u001b[39;00m e:  \u001b[38;5;66;03m# pylint: disable=broad-except\u001b[39;00m\n\u001b[0;32m     66\u001b[0m   filtered_tb \u001b[38;5;241m=\u001b[39m _process_traceback_frames(e\u001b[38;5;241m.\u001b[39m__traceback__)\n\u001b[1;32m---> 67\u001b[0m   \u001b[38;5;28;01mraise\u001b[39;00m e\u001b[38;5;241m.\u001b[39mwith_traceback(filtered_tb) \u001b[38;5;28;01mfrom\u001b[39;00m \u001b[38;5;28mNone\u001b[39m\n\u001b[0;32m     68\u001b[0m \u001b[38;5;28;01mfinally\u001b[39;00m:\n\u001b[0;32m     69\u001b[0m   \u001b[38;5;28;01mdel\u001b[39;00m filtered_tb\n",
      "File \u001b[1;32m~\\anaconda3\\envs\\spark64\\lib\\site-packages\\tensorflow\\python\\eager\\execute.py:58\u001b[0m, in \u001b[0;36mquick_execute\u001b[1;34m(op_name, num_outputs, inputs, attrs, ctx, name)\u001b[0m\n\u001b[0;32m     56\u001b[0m \u001b[38;5;28;01mtry\u001b[39;00m:\n\u001b[0;32m     57\u001b[0m   ctx\u001b[38;5;241m.\u001b[39mensure_initialized()\n\u001b[1;32m---> 58\u001b[0m   tensors \u001b[38;5;241m=\u001b[39m pywrap_tfe\u001b[38;5;241m.\u001b[39mTFE_Py_Execute(ctx\u001b[38;5;241m.\u001b[39m_handle, device_name, op_name,\n\u001b[0;32m     59\u001b[0m                                       inputs, attrs, num_outputs)\n\u001b[0;32m     60\u001b[0m \u001b[38;5;28;01mexcept\u001b[39;00m core\u001b[38;5;241m.\u001b[39m_NotOkStatusException \u001b[38;5;28;01mas\u001b[39;00m e:\n\u001b[0;32m     61\u001b[0m   \u001b[38;5;28;01mif\u001b[39;00m name \u001b[38;5;129;01mis\u001b[39;00m \u001b[38;5;129;01mnot\u001b[39;00m \u001b[38;5;28;01mNone\u001b[39;00m:\n",
      "\u001b[1;31mInternalError\u001b[0m:  Attempting to perform BLAS operation using StreamExecutor without BLAS support\n\t [[node model/dense/MatMul\n (defined at C:\\Users\\user\\anaconda3\\envs\\spark64\\lib\\site-packages\\keras\\layers\\core\\dense.py:199)\n]] [Op:__inference_train_function_686]\n\nErrors may have originated from an input operation.\nInput Source operations connected to node model/dense/MatMul:\nIn[0] IteratorGetNext (defined at C:\\Users\\user\\anaconda3\\envs\\spark64\\lib\\site-packages\\keras\\engine\\training.py:866)\t\nIn[1] model/dense/MatMul/ReadVariableOp:\n\nOperation defined at: (most recent call last)\n>>>   File \"C:\\Users\\user\\anaconda3\\envs\\spark64\\lib\\runpy.py\", line 197, in _run_module_as_main\n>>>     return _run_code(code, main_globals, None,\n>>> \n>>>   File \"C:\\Users\\user\\anaconda3\\envs\\spark64\\lib\\runpy.py\", line 87, in _run_code\n>>>     exec(code, run_globals)\n>>> \n>>>   File \"C:\\Users\\user\\anaconda3\\envs\\spark64\\lib\\site-packages\\ipykernel_launcher.py\", line 16, in <module>\n>>>     app.launch_new_instance()\n>>> \n>>>   File \"C:\\Users\\user\\anaconda3\\envs\\spark64\\lib\\site-packages\\traitlets\\config\\application.py\", line 846, in launch_instance\n>>>     app.start()\n>>> \n>>>   File \"C:\\Users\\user\\anaconda3\\envs\\spark64\\lib\\site-packages\\ipykernel\\kernelapp.py\", line 677, in start\n>>>     self.io_loop.start()\n>>> \n>>>   File \"C:\\Users\\user\\anaconda3\\envs\\spark64\\lib\\site-packages\\tornado\\platform\\asyncio.py\", line 199, in start\n>>>     self.asyncio_loop.run_forever()\n>>> \n>>>   File \"C:\\Users\\user\\anaconda3\\envs\\spark64\\lib\\asyncio\\base_events.py\", line 596, in run_forever\n>>>     self._run_once()\n>>> \n>>>   File \"C:\\Users\\user\\anaconda3\\envs\\spark64\\lib\\asyncio\\base_events.py\", line 1890, in _run_once\n>>>     handle._run()\n>>> \n>>>   File \"C:\\Users\\user\\anaconda3\\envs\\spark64\\lib\\asyncio\\events.py\", line 80, in _run\n>>>     self._context.run(self._callback, *self._args)\n>>> \n>>>   File \"C:\\Users\\user\\anaconda3\\envs\\spark64\\lib\\site-packages\\ipykernel\\kernelbase.py\", line 461, in dispatch_queue\n>>>     await self.process_one()\n>>> \n>>>   File \"C:\\Users\\user\\anaconda3\\envs\\spark64\\lib\\site-packages\\ipykernel\\kernelbase.py\", line 450, in process_one\n>>>     await dispatch(*args)\n>>> \n>>>   File \"C:\\Users\\user\\anaconda3\\envs\\spark64\\lib\\site-packages\\ipykernel\\kernelbase.py\", line 357, in dispatch_shell\n>>>     await result\n>>> \n>>>   File \"C:\\Users\\user\\anaconda3\\envs\\spark64\\lib\\site-packages\\ipykernel\\kernelbase.py\", line 652, in execute_request\n>>>     reply_content = await reply_content\n>>> \n>>>   File \"C:\\Users\\user\\anaconda3\\envs\\spark64\\lib\\site-packages\\ipykernel\\ipkernel.py\", line 353, in do_execute\n>>>     res = shell.run_cell(code, store_history=store_history, silent=silent)\n>>> \n>>>   File \"C:\\Users\\user\\anaconda3\\envs\\spark64\\lib\\site-packages\\ipykernel\\zmqshell.py\", line 532, in run_cell\n>>>     return super().run_cell(*args, **kwargs)\n>>> \n>>>   File \"C:\\Users\\user\\anaconda3\\envs\\spark64\\lib\\site-packages\\IPython\\core\\interactiveshell.py\", line 2768, in run_cell\n>>>     result = self._run_cell(\n>>> \n>>>   File \"C:\\Users\\user\\anaconda3\\envs\\spark64\\lib\\site-packages\\IPython\\core\\interactiveshell.py\", line 2814, in _run_cell\n>>>     return runner(coro)\n>>> \n>>>   File \"C:\\Users\\user\\anaconda3\\envs\\spark64\\lib\\site-packages\\IPython\\core\\async_helpers.py\", line 129, in _pseudo_sync_runner\n>>>     coro.send(None)\n>>> \n>>>   File \"C:\\Users\\user\\anaconda3\\envs\\spark64\\lib\\site-packages\\IPython\\core\\interactiveshell.py\", line 3012, in run_cell_async\n>>>     has_raised = await self.run_ast_nodes(code_ast.body, cell_name,\n>>> \n>>>   File \"C:\\Users\\user\\anaconda3\\envs\\spark64\\lib\\site-packages\\IPython\\core\\interactiveshell.py\", line 3191, in run_ast_nodes\n>>>     if await self.run_code(code, result, async_=asy):\n>>> \n>>>   File \"C:\\Users\\user\\anaconda3\\envs\\spark64\\lib\\site-packages\\IPython\\core\\interactiveshell.py\", line 3251, in run_code\n>>>     exec(code_obj, self.user_global_ns, self.user_ns)\n>>> \n>>>   File \"C:\\Users\\user\\AppData\\Local\\Temp\\ipykernel_5356\\3692997175.py\", line 1, in <module>\n>>>     history = model.fit(X_train.values, y_train.values, validation_data =(X_test.values, y_test.values),\n>>> \n>>>   File \"C:\\Users\\user\\anaconda3\\envs\\spark64\\lib\\site-packages\\comet_ml\\monkey_patching.py\", line 312, in wrapper\n>>>     return_value = original(*args, **kwargs)\n>>> \n>>>   File \"C:\\Users\\user\\anaconda3\\envs\\spark64\\lib\\site-packages\\keras\\utils\\traceback_utils.py\", line 64, in error_handler\n>>>     return fn(*args, **kwargs)\n>>> \n>>>   File \"C:\\Users\\user\\anaconda3\\envs\\spark64\\lib\\site-packages\\keras\\engine\\training.py\", line 1216, in fit\n>>>     tmp_logs = self.train_function(iterator)\n>>> \n>>>   File \"C:\\Users\\user\\anaconda3\\envs\\spark64\\lib\\site-packages\\keras\\engine\\training.py\", line 878, in train_function\n>>>     return step_function(self, iterator)\n>>> \n>>>   File \"C:\\Users\\user\\anaconda3\\envs\\spark64\\lib\\site-packages\\keras\\engine\\training.py\", line 867, in step_function\n>>>     outputs = model.distribute_strategy.run(run_step, args=(data,))\n>>> \n>>>   File \"C:\\Users\\user\\anaconda3\\envs\\spark64\\lib\\site-packages\\keras\\engine\\training.py\", line 860, in run_step\n>>>     outputs = model.train_step(data)\n>>> \n>>>   File \"C:\\Users\\user\\anaconda3\\envs\\spark64\\lib\\site-packages\\keras\\engine\\training.py\", line 808, in train_step\n>>>     y_pred = self(x, training=True)\n>>> \n>>>   File \"C:\\Users\\user\\anaconda3\\envs\\spark64\\lib\\site-packages\\keras\\utils\\traceback_utils.py\", line 64, in error_handler\n>>>     return fn(*args, **kwargs)\n>>> \n>>>   File \"C:\\Users\\user\\anaconda3\\envs\\spark64\\lib\\site-packages\\keras\\engine\\base_layer.py\", line 1083, in __call__\n>>>     outputs = call_fn(inputs, *args, **kwargs)\n>>> \n>>>   File \"C:\\Users\\user\\anaconda3\\envs\\spark64\\lib\\site-packages\\keras\\utils\\traceback_utils.py\", line 92, in error_handler\n>>>     return fn(*args, **kwargs)\n>>> \n>>>   File \"C:\\Users\\user\\anaconda3\\envs\\spark64\\lib\\site-packages\\keras\\engine\\functional.py\", line 451, in call\n>>>     return self._run_internal_graph(\n>>> \n>>>   File \"C:\\Users\\user\\anaconda3\\envs\\spark64\\lib\\site-packages\\keras\\engine\\functional.py\", line 589, in _run_internal_graph\n>>>     outputs = node.layer(*args, **kwargs)\n>>> \n>>>   File \"C:\\Users\\user\\anaconda3\\envs\\spark64\\lib\\site-packages\\keras\\utils\\traceback_utils.py\", line 64, in error_handler\n>>>     return fn(*args, **kwargs)\n>>> \n>>>   File \"C:\\Users\\user\\anaconda3\\envs\\spark64\\lib\\site-packages\\keras\\engine\\base_layer.py\", line 1083, in __call__\n>>>     outputs = call_fn(inputs, *args, **kwargs)\n>>> \n>>>   File \"C:\\Users\\user\\anaconda3\\envs\\spark64\\lib\\site-packages\\keras\\utils\\traceback_utils.py\", line 92, in error_handler\n>>>     return fn(*args, **kwargs)\n>>> \n>>>   File \"C:\\Users\\user\\anaconda3\\envs\\spark64\\lib\\site-packages\\keras\\layers\\core\\dense.py\", line 199, in call\n>>>     outputs = tf.matmul(a=inputs, b=self.kernel)\n>>> "
     ]
    }
   ],
   "source": [
    "history = model.fit(X_train.values, y_train.values, validation_data =(X_test.values, y_test.values),\n",
    "                    epochs =100, batch_size =100, verbose =2, callbacks = callbacks)"
   ]
  },
  {
   "cell_type": "code",
   "execution_count": null,
   "id": "b6ab9cd4-be87-4883-a25f-7340863dbc9d",
   "metadata": {
    "papermill": {
     "duration": null,
     "end_time": null,
     "exception": null,
     "start_time": null,
     "status": "pending"
    },
    "tags": []
   },
   "outputs": [],
   "source": [
    "val_metrics, y_hat_val = eval_metrics(X_val, y_val, model)\n",
    "test_metrics, y_hat_val = eval_metrics(X_test, y_test, model)\n",
    "val_metrics.to_csv('./results/MLP_hyperparameter_val.csv')\n",
    "test_metrics.to_csv('./results/MLP_hyparameter_test.csv')"
   ]
  }
 ],
 "metadata": {
  "kernelspec": {
   "display_name": "Python 3 (ipykernel)",
   "language": "python",
   "name": "python3"
  },
  "language_info": {
   "codemirror_mode": {
    "name": "ipython",
    "version": 3
   },
   "file_extension": ".py",
   "mimetype": "text/x-python",
   "name": "python",
   "nbconvert_exporter": "python",
   "pygments_lexer": "ipython3",
   "version": "3.9.7"
  },
  "papermill": {
   "default_parameters": {},
   "duration": 18.652439,
   "end_time": "2022-02-02T13:54:13.925573",
   "environment_variables": {},
   "exception": true,
   "input_path": "./notebooks/mlp.ipynb",
   "output_path": "./notebooks/mlp.ipynb",
   "parameters": {},
   "start_time": "2022-02-02T13:53:55.273134",
   "version": "2.3.4"
  }
 },
 "nbformat": 4,
 "nbformat_minor": 5
}
