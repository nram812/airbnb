{
 "cells": [
  {
   "cell_type": "code",
   "execution_count": 1,
   "id": "d8faa799-187b-42e6-97b8-3f61740b4aa9",
   "metadata": {
    "execution": {
     "iopub.execute_input": "2022-02-02T20:50:59.333700Z",
     "iopub.status.busy": "2022-02-02T20:50:59.329712Z",
     "iopub.status.idle": "2022-02-02T20:51:09.640301Z",
     "shell.execute_reply": "2022-02-02T20:51:09.640301Z"
    },
    "papermill": {
     "duration": 10.317567,
     "end_time": "2022-02-02T20:51:09.640301",
     "exception": false,
     "start_time": "2022-02-02T20:50:59.322734",
     "status": "completed"
    },
    "tags": []
   },
   "outputs": [
    {
     "name": "stderr",
     "output_type": "stream",
     "text": [
      "COMET WARNING: As you are running in a Jupyter environment, you will need to call `experiment.end()` when finished to ensure all metrics and code are logged before exiting.\n"
     ]
    },
    {
     "name": "stderr",
     "output_type": "stream",
     "text": [
      "COMET INFO: Experiment is live on comet.ml https://www.comet.ml/nram8122/airbnb/95958c72199d414e843b0d2400d3f92a\n",
      "\n"
     ]
    }
   ],
   "source": [
    "from comet_ml import Experiment\n",
    "experiment = Experiment(\n",
    "    api_key=\"VQ78p7UKivJgj8TU2KWKkCJNj\",\n",
    "    project_name=\"airbnb\",\n",
    "    workspace=\"nram8122\",\n",
    ")\n",
    "import os\n",
    "os.environ[\"CUDA_VISIBLE_DEVICES\"]=\"-1\"  \n",
    "import tensorflow as tf\n",
    "import sys\n",
    "sys.path.append('./src')\n",
    "from funcs import *\n",
    "import pandas as pd\n",
    "import numpy as np\n",
    "import seaborn as sns\n",
    "  "
   ]
  },
  {
   "cell_type": "markdown",
   "id": "2fab3a03-6b5d-4bab-888a-776aed71339a",
   "metadata": {
    "papermill": {
     "duration": 0.006011,
     "end_time": "2022-02-02T20:51:09.653265",
     "exception": false,
     "start_time": "2022-02-02T20:51:09.647254",
     "status": "completed"
    },
    "tags": []
   },
   "source": [
    "## Experiments are Logged on Comet Ml\n",
    "1. Click on the link to see the outputs"
   ]
  },
  {
   "cell_type": "code",
   "execution_count": 2,
   "id": "caaeea72-b1bc-4b71-8a1e-5db3132321c6",
   "metadata": {
    "execution": {
     "iopub.execute_input": "2022-02-02T20:51:09.667229Z",
     "iopub.status.busy": "2022-02-02T20:51:09.667229Z",
     "iopub.status.idle": "2022-02-02T20:51:09.811734Z",
     "shell.execute_reply": "2022-02-02T20:51:09.811734Z"
    },
    "papermill": {
     "duration": 0.152483,
     "end_time": "2022-02-02T20:51:09.811734",
     "exception": false,
     "start_time": "2022-02-02T20:51:09.659251",
     "status": "completed"
    },
    "tags": []
   },
   "outputs": [],
   "source": [
    "\n",
    "# binary data is used for the Lasso Model\n",
    "categorical_binary = pd.read_csv(r'./preprocessed/categorical_binary.csv', index_col =0)\n",
    "categorical_raw = pd.read_csv(r'./preprocessed/categorical_raw.csv', index_col =0)\n",
    "regression_data = pd.read_csv(r'./preprocessed/regression_transformed.csv', index_col =0)\n",
    "regression_cols = regression_data.columns\n",
    "index = pd.read_csv('./preprocessed/benchmark_datasets_index.csv', index_col =0)\n",
    "price = pd.read_csv('./preprocessed/price.csv', index_col =0)"
   ]
  },
  {
   "cell_type": "code",
   "execution_count": 3,
   "id": "7ee9cf76-44ab-4a65-8ecd-41c1ffcd129a",
   "metadata": {
    "execution": {
     "iopub.execute_input": "2022-02-02T20:51:09.826695Z",
     "iopub.status.busy": "2022-02-02T20:51:09.825699Z",
     "iopub.status.idle": "2022-02-02T20:51:09.889364Z",
     "shell.execute_reply": "2022-02-02T20:51:09.888332Z"
    },
    "papermill": {
     "duration": 0.071649,
     "end_time": "2022-02-02T20:51:09.889364",
     "exception": false,
     "start_time": "2022-02-02T20:51:09.817715",
     "status": "completed"
    },
    "tags": []
   },
   "outputs": [],
   "source": [
    "X_train, X_test, X_val, y_train, y_test, y_val = create_training_dataset(categorical_binary, regression_data,\n",
    "                                                                         price, index, regression_cols,\n",
    "                                                                         norm_reg = True)"
   ]
  },
  {
   "cell_type": "code",
   "execution_count": 4,
   "id": "284fd977-4cd0-4206-89fe-32233e8791b4",
   "metadata": {
    "execution": {
     "iopub.execute_input": "2022-02-02T20:51:09.904291Z",
     "iopub.status.busy": "2022-02-02T20:51:09.903293Z",
     "iopub.status.idle": "2022-02-02T20:51:09.923457Z",
     "shell.execute_reply": "2022-02-02T20:51:09.922460Z"
    },
    "papermill": {
     "duration": 0.028142,
     "end_time": "2022-02-02T20:51:09.923457",
     "exception": false,
     "start_time": "2022-02-02T20:51:09.895315",
     "status": "completed"
    },
    "tags": []
   },
   "outputs": [],
   "source": [
    "regression_cols = ['host_response_rate', 'host_acceptance_rate',\n",
    "       'transformed_review_scores_rating',\n",
    "       'transformed_review_scores_accuracy',\n",
    "       'transformed_review_scores_cleanliness',\n",
    "       'transformed_review_scores_checkin',\n",
    "       'transformed_review_scores_communication',\n",
    "       'transformed_review_scores_location',\n",
    "       'transformed_review_scores_value']"
   ]
  },
  {
   "cell_type": "code",
   "execution_count": 5,
   "id": "1d913f19-de6a-4cb2-8d51-85aae42fa8ab",
   "metadata": {
    "execution": {
     "iopub.execute_input": "2022-02-02T20:51:09.958365Z",
     "iopub.status.busy": "2022-02-02T20:51:09.958365Z",
     "iopub.status.idle": "2022-02-02T20:51:09.966219Z",
     "shell.execute_reply": "2022-02-02T20:51:09.965192Z"
    },
    "papermill": {
     "duration": 0.022815,
     "end_time": "2022-02-02T20:51:09.966219",
     "exception": false,
     "start_time": "2022-02-02T20:51:09.943404",
     "status": "completed"
    },
    "tags": []
   },
   "outputs": [],
   "source": [
    "reducelr = tf.keras.callbacks.ReduceLROnPlateau(\n",
    "    monitor='val_loss', factor=0.2, patience=5, verbose=0,\n",
    "    mode='auto', min_delta=0.0001, cooldown=0, min_lr=0\n",
    ")\n",
    "early_stopping = tf.keras.callbacks.EarlyStopping(\n",
    "    monitor='val_loss', min_delta=0, patience=10, verbose=0,\n",
    "    mode='auto', baseline=None, restore_best_weights=False\n",
    ")\n",
    "callbacks = [reducelr, early_stopping]"
   ]
  },
  {
   "cell_type": "markdown",
   "id": "445dba1a-15a4-488d-bdb3-3dd88df58d55",
   "metadata": {
    "papermill": {
     "duration": 0.006983,
     "end_time": "2022-02-02T20:51:09.979186",
     "exception": false,
     "start_time": "2022-02-02T20:51:09.972203",
     "status": "completed"
    },
    "tags": []
   },
   "source": [
    "# Here a simple MLP\n",
    "Suggestions for improvement\n",
    "1. Use a multi input MLP - one branch for regression and the other for classification\n",
    "2. Use tensorflow probability for mean, std estimates - very easy use case"
   ]
  },
  {
   "cell_type": "code",
   "execution_count": 6,
   "id": "a9fce1cb-8a96-467a-b486-e97fd309a17f",
   "metadata": {
    "execution": {
     "iopub.execute_input": "2022-02-02T20:51:09.994116Z",
     "iopub.status.busy": "2022-02-02T20:51:09.994116Z",
     "iopub.status.idle": "2022-02-02T20:51:10.103480Z",
     "shell.execute_reply": "2022-02-02T20:51:10.103480Z"
    },
    "papermill": {
     "duration": 0.118311,
     "end_time": "2022-02-02T20:51:10.103480",
     "exception": false,
     "start_time": "2022-02-02T20:51:09.985169",
     "status": "completed"
    },
    "tags": []
   },
   "outputs": [],
   "source": [
    "import tensorflow as tf\n",
    "input_layer = tf.keras.layers.Input(X_train.shape[1:])\n",
    "intermediate_layer = tf.keras.layers.Dense(32, activation ='sigmoid')(input_layer)\n",
    "dropout = tf.keras.layers.Dropout(0.3)(intermediate_layer)\n",
    "output = tf.keras.layers.Dense(1, activation ='linear')(intermediate_layer)"
   ]
  },
  {
   "cell_type": "code",
   "execution_count": 7,
   "id": "1699a164-89e2-4161-b6a2-c190be234fb7",
   "metadata": {
    "execution": {
     "iopub.execute_input": "2022-02-02T20:51:10.119467Z",
     "iopub.status.busy": "2022-02-02T20:51:10.118469Z",
     "iopub.status.idle": "2022-02-02T20:51:10.134910Z",
     "shell.execute_reply": "2022-02-02T20:51:10.133911Z"
    },
    "papermill": {
     "duration": 0.024421,
     "end_time": "2022-02-02T20:51:10.134910",
     "exception": false,
     "start_time": "2022-02-02T20:51:10.110489",
     "status": "completed"
    },
    "tags": []
   },
   "outputs": [],
   "source": [
    "model = tf.keras.models.Model(input_layer, output)\n",
    "model.compile(loss ='huber', optimizer ='adam', metrics =['mse'])\n"
   ]
  },
  {
   "cell_type": "code",
   "execution_count": 8,
   "id": "fe49c0cb-9049-4dfe-8b8c-8726e4442033",
   "metadata": {
    "execution": {
     "iopub.execute_input": "2022-02-02T20:51:10.149870Z",
     "iopub.status.busy": "2022-02-02T20:51:10.148900Z",
     "iopub.status.idle": "2022-02-02T20:51:12.770125Z",
     "shell.execute_reply": "2022-02-02T20:51:12.770125Z"
    },
    "papermill": {
     "duration": 2.629201,
     "end_time": "2022-02-02T20:51:12.770125",
     "exception": false,
     "start_time": "2022-02-02T20:51:10.140924",
     "status": "completed"
    },
    "tags": []
   },
   "outputs": [
    {
     "name": "stderr",
     "output_type": "stream",
     "text": [
      "COMET INFO: Ignoring automatic log_parameter('verbose') because 'keras:verbose' is in COMET_LOGGING_PARAMETERS_IGNORE\n"
     ]
    },
    {
     "name": "stderr",
     "output_type": "stream",
     "text": [
      "COMET INFO: ignoring tensorflow summary log of metrics because of keras; set `comet_ml.loggers.tensorboard_logger.LOG_METRICS = True` to override\n"
     ]
    },
    {
     "name": "stdout",
     "output_type": "stream",
     "text": [
      "Epoch 1/100\n"
     ]
    },
    {
     "name": "stdout",
     "output_type": "stream",
     "text": [
      "48/48 - 0s - loss: 3.5480 - mse: 17.2246 - val_loss: 2.4612 - val_mse: 9.3733 - lr: 0.0010 - 373ms/epoch - 8ms/step\n"
     ]
    },
    {
     "name": "stdout",
     "output_type": "stream",
     "text": [
      "Epoch 2/100\n",
      "48/48 - 0s - loss: 1.6690 - mse: 5.4878 - val_loss: 0.7506 - val_mse: 1.9843 - lr: 0.0010 - 44ms/epoch - 914us/step\n"
     ]
    },
    {
     "name": "stdout",
     "output_type": "stream",
     "text": [
      "Epoch 3/100\n",
      "48/48 - 0s - loss: 0.4070 - mse: 0.9861 - val_loss: 0.2372 - val_mse: 0.5326 - lr: 0.0010 - 45ms/epoch - 935us/step\n"
     ]
    },
    {
     "name": "stdout",
     "output_type": "stream",
     "text": [
      "Epoch 4/100\n",
      "48/48 - 0s - loss: 0.1899 - mse: 0.4202 - val_loss: 0.1907 - val_mse: 0.4090 - lr: 0.0010 - 46ms/epoch - 956us/step\n"
     ]
    },
    {
     "name": "stdout",
     "output_type": "stream",
     "text": [
      "Epoch 5/100\n",
      "48/48 - 0s - loss: 0.1527 - mse: 0.3340 - val_loss: 0.1588 - val_mse: 0.3357 - lr: 0.0010 - 45ms/epoch - 935us/step\n"
     ]
    },
    {
     "name": "stdout",
     "output_type": "stream",
     "text": [
      "Epoch 6/100\n"
     ]
    },
    {
     "name": "stdout",
     "output_type": "stream",
     "text": [
      "48/48 - 0s - loss: 0.1293 - mse: 0.2820 - val_loss: 0.1367 - val_mse: 0.2867 - lr: 0.0010 - 45ms/epoch - 935us/step\n"
     ]
    },
    {
     "name": "stdout",
     "output_type": "stream",
     "text": [
      "Epoch 7/100"
     ]
    },
    {
     "name": "stdout",
     "output_type": "stream",
     "text": [
      "\n",
      "48/48 - 0s - loss: 0.1149 - mse: 0.2497 - val_loss: 0.1227 - val_mse: 0.2564 - lr: 0.0010 - 45ms/epoch - 935us/step\n"
     ]
    },
    {
     "name": "stdout",
     "output_type": "stream",
     "text": [
      "Epoch 8/100\n"
     ]
    },
    {
     "name": "stdout",
     "output_type": "stream",
     "text": [
      "48/48 - 0s - loss: 0.1058 - mse: 0.2297 - val_loss: 0.1148 - val_mse: 0.2395 - lr: 0.0010 - 45ms/epoch - 935us/step\n"
     ]
    },
    {
     "name": "stdout",
     "output_type": "stream",
     "text": [
      "Epoch 9/100\n"
     ]
    },
    {
     "name": "stdout",
     "output_type": "stream",
     "text": [
      "48/48 - 0s - loss: 0.1005 - mse: 0.2172 - val_loss: 0.1078 - val_mse: 0.2240 - lr: 0.0010 - 44ms/epoch - 914us/step\n"
     ]
    },
    {
     "name": "stdout",
     "output_type": "stream",
     "text": [
      "Epoch 10/100\n"
     ]
    },
    {
     "name": "stdout",
     "output_type": "stream",
     "text": [
      "48/48 - 0s - loss: 0.0969 - mse: 0.2091 - val_loss: 0.1046 - val_mse: 0.2170 - lr: 0.0010 - 45ms/epoch - 935us/step\n"
     ]
    },
    {
     "name": "stdout",
     "output_type": "stream",
     "text": [
      "Epoch 11/100\n"
     ]
    },
    {
     "name": "stdout",
     "output_type": "stream",
     "text": [
      "48/48 - 0s - loss: 0.0946 - mse: 0.2036 - val_loss: 0.1019 - val_mse: 0.2111 - lr: 0.0010 - 45ms/epoch - 935us/step\n"
     ]
    },
    {
     "name": "stdout",
     "output_type": "stream",
     "text": [
      "Epoch 12/100\n",
      "48/48 - 0s - loss: 0.0929 - mse: 0.1995 - val_loss: 0.0987 - val_mse: 0.2041 - lr: 0.0010 - 45ms/epoch - 935us/step\n"
     ]
    },
    {
     "name": "stdout",
     "output_type": "stream",
     "text": [
      "Epoch 13/100\n",
      "48/48 - 0s - loss: 0.0914 - mse: 0.1962 - val_loss: 0.0968 - val_mse: 0.2000 - lr: 0.0010 - 45ms/epoch - 935us/step\n"
     ]
    },
    {
     "name": "stdout",
     "output_type": "stream",
     "text": [
      "Epoch 14/100\n",
      "48/48 - 0s - loss: 0.0901 - mse: 0.1933 - val_loss: 0.0962 - val_mse: 0.1986 - lr: 0.0010 - 45ms/epoch - 935us/step\n"
     ]
    },
    {
     "name": "stdout",
     "output_type": "stream",
     "text": [
      "Epoch 15/100\n",
      "48/48 - 0s - loss: 0.0892 - mse: 0.1908 - val_loss: 0.0944 - val_mse: 0.1944 - lr: 0.0010 - 45ms/epoch - 935us/step\n"
     ]
    },
    {
     "name": "stdout",
     "output_type": "stream",
     "text": [
      "Epoch 16/100\n",
      "48/48 - 0s - loss: 0.0881 - mse: 0.1885 - val_loss: 0.0937 - val_mse: 0.1929 - lr: 0.0010 - 44ms/epoch - 914us/step\n"
     ]
    },
    {
     "name": "stdout",
     "output_type": "stream",
     "text": [
      "Epoch 17/100\n",
      "48/48 - 0s - loss: 0.0875 - mse: 0.1873 - val_loss: 0.0931 - val_mse: 0.1917 - lr: 0.0010 - 44ms/epoch - 914us/step\n"
     ]
    },
    {
     "name": "stdout",
     "output_type": "stream",
     "text": [
      "Epoch 18/100\n",
      "48/48 - 0s - loss: 0.0867 - mse: 0.1854 - val_loss: 0.0926 - val_mse: 0.1906 - lr: 0.0010 - 44ms/epoch - 914us/step\n"
     ]
    },
    {
     "name": "stdout",
     "output_type": "stream",
     "text": [
      "Epoch 19/100\n",
      "48/48 - 0s - loss: 0.0861 - mse: 0.1841 - val_loss: 0.0920 - val_mse: 0.1893 - lr: 0.0010 - 43ms/epoch - 893us/step\n"
     ]
    },
    {
     "name": "stdout",
     "output_type": "stream",
     "text": [
      "Epoch 20/100\n",
      "48/48 - 0s - loss: 0.0856 - mse: 0.1830 - val_loss: 0.0915 - val_mse: 0.1881 - lr: 0.0010 - 43ms/epoch - 893us/step\n"
     ]
    },
    {
     "name": "stdout",
     "output_type": "stream",
     "text": [
      "Epoch 21/100\n",
      "48/48 - 0s - loss: 0.0850 - mse: 0.1816 - val_loss: 0.0914 - val_mse: 0.1878 - lr: 0.0010 - 44ms/epoch - 914us/step\n"
     ]
    },
    {
     "name": "stdout",
     "output_type": "stream",
     "text": [
      "Epoch 22/100"
     ]
    },
    {
     "name": "stdout",
     "output_type": "stream",
     "text": [
      "\n",
      "48/48 - 0s - loss: 0.0846 - mse: 0.1806 - val_loss: 0.0917 - val_mse: 0.1882 - lr: 0.0010 - 43ms/epoch - 893us/step\n"
     ]
    },
    {
     "name": "stdout",
     "output_type": "stream",
     "text": [
      "Epoch 23/100\n"
     ]
    },
    {
     "name": "stdout",
     "output_type": "stream",
     "text": [
      "48/48 - 0s - loss: 0.0842 - mse: 0.1795 - val_loss: 0.0906 - val_mse: 0.1861 - lr: 0.0010 - 43ms/epoch - 893us/step\n"
     ]
    },
    {
     "name": "stdout",
     "output_type": "stream",
     "text": [
      "Epoch 24/100\n"
     ]
    },
    {
     "name": "stdout",
     "output_type": "stream",
     "text": [
      "48/48 - 0s - loss: 0.0838 - mse: 0.1786 - val_loss: 0.0904 - val_mse: 0.1855 - lr: 0.0010 - 44ms/epoch - 914us/step\n"
     ]
    },
    {
     "name": "stdout",
     "output_type": "stream",
     "text": [
      "Epoch 25/100\n"
     ]
    },
    {
     "name": "stdout",
     "output_type": "stream",
     "text": [
      "48/48 - 0s - loss: 0.0832 - mse: 0.1774 - val_loss: 0.0904 - val_mse: 0.1857 - lr: 0.0010 - 44ms/epoch - 914us/step\n"
     ]
    },
    {
     "name": "stdout",
     "output_type": "stream",
     "text": [
      "Epoch 26/100\n"
     ]
    },
    {
     "name": "stdout",
     "output_type": "stream",
     "text": [
      "48/48 - 0s - loss: 0.0830 - mse: 0.1769 - val_loss: 0.0900 - val_mse: 0.1849 - lr: 0.0010 - 44ms/epoch - 914us/step\n"
     ]
    },
    {
     "name": "stdout",
     "output_type": "stream",
     "text": [
      "Epoch 27/100\n",
      "48/48 - 0s - loss: 0.0826 - mse: 0.1761 - val_loss: 0.0905 - val_mse: 0.1859 - lr: 0.0010 - 44ms/epoch - 914us/step\n"
     ]
    },
    {
     "name": "stdout",
     "output_type": "stream",
     "text": [
      "Epoch 28/100\n",
      "48/48 - 0s - loss: 0.0821 - mse: 0.1747 - val_loss: 0.0898 - val_mse: 0.1846 - lr: 0.0010 - 43ms/epoch - 893us/step\n"
     ]
    },
    {
     "name": "stdout",
     "output_type": "stream",
     "text": [
      "Epoch 29/100\n",
      "48/48 - 0s - loss: 0.0819 - mse: 0.1743 - val_loss: 0.0896 - val_mse: 0.1840 - lr: 0.0010 - 44ms/epoch - 914us/step\n"
     ]
    },
    {
     "name": "stdout",
     "output_type": "stream",
     "text": [
      "Epoch 30/100\n",
      "48/48 - 0s - loss: 0.0815 - mse: 0.1735 - val_loss: 0.0902 - val_mse: 0.1850 - lr: 0.0010 - 44ms/epoch - 914us/step\n"
     ]
    },
    {
     "name": "stdout",
     "output_type": "stream",
     "text": [
      "Epoch 31/100\n"
     ]
    },
    {
     "name": "stdout",
     "output_type": "stream",
     "text": [
      "48/48 - 0s - loss: 0.0812 - mse: 0.1728 - val_loss: 0.0906 - val_mse: 0.1859 - lr: 0.0010 - 44ms/epoch - 914us/step\n"
     ]
    },
    {
     "name": "stdout",
     "output_type": "stream",
     "text": [
      "Epoch 32/100\n"
     ]
    },
    {
     "name": "stdout",
     "output_type": "stream",
     "text": [
      "48/48 - 0s - loss: 0.0810 - mse: 0.1724 - val_loss: 0.0896 - val_mse: 0.1840 - lr: 0.0010 - 44ms/epoch - 914us/step\n"
     ]
    },
    {
     "name": "stdout",
     "output_type": "stream",
     "text": [
      "Epoch 33/100\n"
     ]
    },
    {
     "name": "stdout",
     "output_type": "stream",
     "text": [
      "48/48 - 0s - loss: 0.0807 - mse: 0.1717 - val_loss: 0.0894 - val_mse: 0.1837 - lr: 0.0010 - 44ms/epoch - 914us/step\n"
     ]
    },
    {
     "name": "stdout",
     "output_type": "stream",
     "text": [
      "Epoch 34/100\n"
     ]
    },
    {
     "name": "stdout",
     "output_type": "stream",
     "text": [
      "48/48 - 0s - loss: 0.0804 - mse: 0.1711 - val_loss: 0.0896 - val_mse: 0.1842 - lr: 0.0010 - 44ms/epoch - 914us/step\n"
     ]
    },
    {
     "name": "stdout",
     "output_type": "stream",
     "text": [
      "Epoch 35/100\n",
      "48/48 - 0s - loss: 0.0803 - mse: 0.1705 - val_loss: 0.0892 - val_mse: 0.1835 - lr: 0.0010 - 44ms/epoch - 914us/step\n"
     ]
    },
    {
     "name": "stdout",
     "output_type": "stream",
     "text": [
      "Epoch 36/100\n",
      "48/48 - 0s - loss: 0.0799 - mse: 0.1700 - val_loss: 0.0902 - val_mse: 0.1851 - lr: 0.0010 - 43ms/epoch - 893us/step\n"
     ]
    },
    {
     "name": "stdout",
     "output_type": "stream",
     "text": [
      "Epoch 37/100\n",
      "48/48 - 0s - loss: 0.0797 - mse: 0.1692 - val_loss: 0.0897 - val_mse: 0.1844 - lr: 0.0010 - 42ms/epoch - 873us/step\n"
     ]
    },
    {
     "name": "stdout",
     "output_type": "stream",
     "text": [
      "Epoch 38/100\n"
     ]
    },
    {
     "name": "stdout",
     "output_type": "stream",
     "text": [
      "48/48 - 0s - loss: 0.0792 - mse: 0.1684 - val_loss: 0.0910 - val_mse: 0.1869 - lr: 0.0010 - 43ms/epoch - 893us/step\n"
     ]
    },
    {
     "name": "stdout",
     "output_type": "stream",
     "text": [
      "Epoch 39/100\n"
     ]
    },
    {
     "name": "stdout",
     "output_type": "stream",
     "text": [
      "48/48 - 0s - loss: 0.0792 - mse: 0.1682 - val_loss: 0.0889 - val_mse: 0.1828 - lr: 0.0010 - 44ms/epoch - 921us/step\n"
     ]
    },
    {
     "name": "stdout",
     "output_type": "stream",
     "text": [
      "Epoch 40/100\n"
     ]
    },
    {
     "name": "stdout",
     "output_type": "stream",
     "text": [
      "48/48 - 0s - loss: 0.0790 - mse: 0.1680 - val_loss: 0.0899 - val_mse: 0.1846 - lr: 0.0010 - 45ms/epoch - 934us/step\n"
     ]
    },
    {
     "name": "stdout",
     "output_type": "stream",
     "text": [
      "Epoch 41/100\n"
     ]
    },
    {
     "name": "stdout",
     "output_type": "stream",
     "text": [
      "48/48 - 0s - loss: 0.0787 - mse: 0.1669 - val_loss: 0.0896 - val_mse: 0.1842 - lr: 0.0010 - 44ms/epoch - 914us/step\n"
     ]
    },
    {
     "name": "stdout",
     "output_type": "stream",
     "text": [
      "Epoch 42/100\n",
      "48/48 - 0s - loss: 0.0785 - mse: 0.1667 - val_loss: 0.0897 - val_mse: 0.1845 - lr: 0.0010 - 44ms/epoch - 914us/step\n"
     ]
    },
    {
     "name": "stdout",
     "output_type": "stream",
     "text": [
      "Epoch 43/100\n",
      "48/48 - 0s - loss: 0.0782 - mse: 0.1658 - val_loss: 0.0912 - val_mse: 0.1870 - lr: 0.0010 - 44ms/epoch - 914us/step\n"
     ]
    },
    {
     "name": "stdout",
     "output_type": "stream",
     "text": [
      "Epoch 44/100\n",
      "48/48 - 0s - loss: 0.0778 - mse: 0.1650 - val_loss: 0.0895 - val_mse: 0.1842 - lr: 0.0010 - 45ms/epoch - 935us/step\n"
     ]
    },
    {
     "name": "stdout",
     "output_type": "stream",
     "text": [
      "Epoch 45/100\n",
      "48/48 - 0s - loss: 0.0774 - mse: 0.1644 - val_loss: 0.0897 - val_mse: 0.1846 - lr: 2.0000e-04 - 44ms/epoch - 914us/step\n"
     ]
    },
    {
     "name": "stdout",
     "output_type": "stream",
     "text": [
      "Epoch 46/100\n",
      "48/48 - 0s - loss: 0.0774 - mse: 0.1642 - val_loss: 0.0896 - val_mse: 0.1843 - lr: 2.0000e-04 - 44ms/epoch - 914us/step\n"
     ]
    },
    {
     "name": "stdout",
     "output_type": "stream",
     "text": [
      "Epoch 47/100\n",
      "48/48 - 0s - loss: 0.0773 - mse: 0.1641 - val_loss: 0.0895 - val_mse: 0.1841 - lr: 2.0000e-04 - 45ms/epoch - 935us/step\n"
     ]
    },
    {
     "name": "stdout",
     "output_type": "stream",
     "text": [
      "Epoch 48/100\n",
      "48/48 - 0s - loss: 0.0772 - mse: 0.1640 - val_loss: 0.0895 - val_mse: 0.1842 - lr: 2.0000e-04 - 47ms/epoch - 977us/step\n"
     ]
    },
    {
     "name": "stdout",
     "output_type": "stream",
     "text": [
      "Epoch 49/100\n",
      "48/48 - 0s - loss: 0.0772 - mse: 0.1640 - val_loss: 0.0898 - val_mse: 0.1847 - lr: 2.0000e-04 - 47ms/epoch - 977us/step\n"
     ]
    }
   ],
   "source": [
    "history = model.fit(X_train.values, y_train.values, validation_data =(X_test.values, y_test.values),\n",
    "                    epochs =100, batch_size =100, verbose =2, callbacks = callbacks)"
   ]
  },
  {
   "cell_type": "code",
   "execution_count": 9,
   "id": "b6ab9cd4-be87-4883-a25f-7340863dbc9d",
   "metadata": {
    "execution": {
     "iopub.execute_input": "2022-02-02T20:51:12.811232Z",
     "iopub.status.busy": "2022-02-02T20:51:12.811232Z",
     "iopub.status.idle": "2022-02-02T20:51:12.956999Z",
     "shell.execute_reply": "2022-02-02T20:51:12.958029Z"
    },
    "papermill": {
     "duration": 0.167742,
     "end_time": "2022-02-02T20:51:12.958029",
     "exception": false,
     "start_time": "2022-02-02T20:51:12.790287",
     "status": "completed"
    },
    "tags": []
   },
   "outputs": [],
   "source": [
    "val_metrics, y_hat_val = eval_metrics(X_val, y_val, model)\n",
    "test_metrics, y_hat_val = eval_metrics(X_test, y_test, model)\n",
    "val_metrics.to_csv('./results/MLP_hyperparameter_val.csv')\n",
    "test_metrics.to_csv('./results/MLP_hyparameter_test.csv')"
   ]
  }
 ],
 "metadata": {
  "kernelspec": {
   "display_name": "Python 3 (ipykernel)",
   "language": "python",
   "name": "python3"
  },
  "language_info": {
   "codemirror_mode": {
    "name": "ipython",
    "version": 3
   },
   "file_extension": ".py",
   "mimetype": "text/x-python",
   "name": "python",
   "nbconvert_exporter": "python",
   "pygments_lexer": "ipython3",
   "version": "3.9.7"
  },
  "papermill": {
   "default_parameters": {},
   "duration": 17.556204,
   "end_time": "2022-02-02T20:51:15.607960",
   "environment_variables": {},
   "exception": null,
   "input_path": "./notebooks/mlp.ipynb",
   "output_path": "./notebooks/mlp.ipynb",
   "parameters": {},
   "start_time": "2022-02-02T20:50:58.051756",
   "version": "2.3.4"
  }
 },
 "nbformat": 4,
 "nbformat_minor": 5
}