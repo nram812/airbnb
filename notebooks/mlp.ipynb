{
 "cells": [
  {
   "cell_type": "code",
   "execution_count": 1,
   "id": "d8faa799-187b-42e6-97b8-3f61740b4aa9",
   "metadata": {
    "execution": {
     "iopub.execute_input": "2022-02-02T14:13:04.375295Z",
     "iopub.status.busy": "2022-02-02T14:13:04.375295Z",
     "iopub.status.idle": "2022-02-02T14:13:14.720865Z",
     "shell.execute_reply": "2022-02-02T14:13:14.720865Z"
    },
    "papermill": {
     "duration": 10.360488,
     "end_time": "2022-02-02T14:13:14.720865",
     "exception": false,
     "start_time": "2022-02-02T14:13:04.360377",
     "status": "completed"
    },
    "tags": []
   },
   "outputs": [
    {
     "name": "stderr",
     "output_type": "stream",
     "text": [
      "COMET WARNING: As you are running in a Jupyter environment, you will need to call `experiment.end()` when finished to ensure all metrics and code are logged before exiting.\n"
     ]
    },
    {
     "name": "stderr",
     "output_type": "stream",
     "text": [
      "COMET INFO: Experiment is live on comet.ml https://www.comet.ml/nram8122/airbnb/9463fb1d8bd94172ac7a3b287312aa9c\n",
      "\n"
     ]
    }
   ],
   "source": [
    "from comet_ml import Experiment\n",
    "experiment = Experiment(\n",
    "    api_key=\"VQ78p7UKivJgj8TU2KWKkCJNj\",\n",
    "    project_name=\"airbnb\",\n",
    "    workspace=\"nram8122\",\n",
    ")\n",
    "import os\n",
    "os.environ[\"CUDA_VISIBLE_DEVICES\"]=\"-1\"  \n",
    "import tensorflow as tf\n",
    "import sys\n",
    "sys.path.append('./src')\n",
    "from funcs import *\n",
    "import pandas as pd\n",
    "import numpy as np\n",
    "import seaborn as sns\n",
    "  "
   ]
  },
  {
   "cell_type": "markdown",
   "id": "2fab3a03-6b5d-4bab-888a-776aed71339a",
   "metadata": {
    "papermill": {
     "duration": 0.005983,
     "end_time": "2022-02-02T14:13:14.733830",
     "exception": false,
     "start_time": "2022-02-02T14:13:14.727847",
     "status": "completed"
    },
    "tags": []
   },
   "source": [
    "## Experiments are Logged on Comet Ml\n",
    "1. Click on the link to see the outputs"
   ]
  },
  {
   "cell_type": "code",
   "execution_count": 2,
   "id": "caaeea72-b1bc-4b71-8a1e-5db3132321c6",
   "metadata": {
    "execution": {
     "iopub.execute_input": "2022-02-02T14:13:14.748791Z",
     "iopub.status.busy": "2022-02-02T14:13:14.747822Z",
     "iopub.status.idle": "2022-02-02T14:13:14.892811Z",
     "shell.execute_reply": "2022-02-02T14:13:14.892811Z"
    },
    "papermill": {
     "duration": 0.152997,
     "end_time": "2022-02-02T14:13:14.892811",
     "exception": false,
     "start_time": "2022-02-02T14:13:14.739814",
     "status": "completed"
    },
    "tags": []
   },
   "outputs": [],
   "source": [
    "\n",
    "# binary data is used for the Lasso Model\n",
    "categorical_binary = pd.read_csv(r'./preprocessed/categorical_binary.csv', index_col =0)\n",
    "categorical_raw = pd.read_csv(r'./preprocessed/categorical_raw.csv', index_col =0)\n",
    "regression_data = pd.read_csv(r'./preprocessed/regression_transformed.csv', index_col =0)\n",
    "regression_cols = regression_data.columns\n",
    "index = pd.read_csv('./preprocessed/benchmark_datasets_index.csv', index_col =0)\n",
    "price = pd.read_csv('./preprocessed/price.csv', index_col =0)"
   ]
  },
  {
   "cell_type": "code",
   "execution_count": 3,
   "id": "7ee9cf76-44ab-4a65-8ecd-41c1ffcd129a",
   "metadata": {
    "execution": {
     "iopub.execute_input": "2022-02-02T14:13:14.907770Z",
     "iopub.status.busy": "2022-02-02T14:13:14.907770Z",
     "iopub.status.idle": "2022-02-02T14:13:14.969777Z",
     "shell.execute_reply": "2022-02-02T14:13:14.969777Z"
    },
    "papermill": {
     "duration": 0.069985,
     "end_time": "2022-02-02T14:13:14.969777",
     "exception": false,
     "start_time": "2022-02-02T14:13:14.899792",
     "status": "completed"
    },
    "tags": []
   },
   "outputs": [],
   "source": [
    "X_train, X_test, X_val, y_train, y_test, y_val = create_training_dataset(categorical_binary, regression_data,\n",
    "                                                                         price, index, regression_cols,\n",
    "                                                                         norm_reg = True)"
   ]
  },
  {
   "cell_type": "code",
   "execution_count": 4,
   "id": "284fd977-4cd0-4206-89fe-32233e8791b4",
   "metadata": {
    "execution": {
     "iopub.execute_input": "2022-02-02T14:13:14.983771Z",
     "iopub.status.busy": "2022-02-02T14:13:14.983771Z",
     "iopub.status.idle": "2022-02-02T14:13:15.000755Z",
     "shell.execute_reply": "2022-02-02T14:13:15.000755Z"
    },
    "papermill": {
     "duration": 0.024994,
     "end_time": "2022-02-02T14:13:15.000755",
     "exception": false,
     "start_time": "2022-02-02T14:13:14.975761",
     "status": "completed"
    },
    "tags": []
   },
   "outputs": [],
   "source": [
    "regression_cols = ['host_response_rate', 'host_acceptance_rate',\n",
    "       'transformed_review_scores_rating',\n",
    "       'transformed_review_scores_accuracy',\n",
    "       'transformed_review_scores_cleanliness',\n",
    "       'transformed_review_scores_checkin',\n",
    "       'transformed_review_scores_communication',\n",
    "       'transformed_review_scores_location',\n",
    "       'transformed_review_scores_value']"
   ]
  },
  {
   "cell_type": "code",
   "execution_count": 5,
   "id": "1d913f19-de6a-4cb2-8d51-85aae42fa8ab",
   "metadata": {
    "execution": {
     "iopub.execute_input": "2022-02-02T14:13:15.015715Z",
     "iopub.status.busy": "2022-02-02T14:13:15.015715Z",
     "iopub.status.idle": "2022-02-02T14:13:15.031379Z",
     "shell.execute_reply": "2022-02-02T14:13:15.030352Z"
    },
    "papermill": {
     "duration": 0.024609,
     "end_time": "2022-02-02T14:13:15.031379",
     "exception": false,
     "start_time": "2022-02-02T14:13:15.006770",
     "status": "completed"
    },
    "tags": []
   },
   "outputs": [],
   "source": [
    "reducelr = tf.keras.callbacks.ReduceLROnPlateau(\n",
    "    monitor='val_loss', factor=0.2, patience=5, verbose=0,\n",
    "    mode='auto', min_delta=0.0001, cooldown=0, min_lr=0\n",
    ")\n",
    "early_stopping = tf.keras.callbacks.EarlyStopping(\n",
    "    monitor='val_loss', min_delta=0, patience=10, verbose=0,\n",
    "    mode='auto', baseline=None, restore_best_weights=False\n",
    ")\n",
    "callbacks = [reducelr, early_stopping]"
   ]
  },
  {
   "cell_type": "markdown",
   "id": "445dba1a-15a4-488d-bdb3-3dd88df58d55",
   "metadata": {
    "papermill": {
     "duration": 0.006011,
     "end_time": "2022-02-02T14:13:15.043346",
     "exception": false,
     "start_time": "2022-02-02T14:13:15.037335",
     "status": "completed"
    },
    "tags": []
   },
   "source": [
    "# Here a simple MLP\n",
    "Suggestions for improvement\n",
    "1. Use a multi input MLP - one branch for regression and the other for classification\n",
    "2. Use tensorflow probability for mean, std estimates - very easy use case"
   ]
  },
  {
   "cell_type": "code",
   "execution_count": 6,
   "id": "a9fce1cb-8a96-467a-b486-e97fd309a17f",
   "metadata": {
    "execution": {
     "iopub.execute_input": "2022-02-02T14:13:15.058279Z",
     "iopub.status.busy": "2022-02-02T14:13:15.057309Z",
     "iopub.status.idle": "2022-02-02T14:13:15.112450Z",
     "shell.execute_reply": "2022-02-02T14:13:15.113447Z"
    },
    "papermill": {
     "duration": 0.064117,
     "end_time": "2022-02-02T14:13:15.113447",
     "exception": false,
     "start_time": "2022-02-02T14:13:15.049330",
     "status": "completed"
    },
    "tags": []
   },
   "outputs": [],
   "source": [
    "import tensorflow as tf\n",
    "input_layer = tf.keras.layers.Input(X_train.shape[1:])\n",
    "intermediate_layer = tf.keras.layers.Dense(32, activation ='sigmoid')(input_layer)\n",
    "dropout = tf.keras.layers.Dropout(0.3)(intermediate_layer)\n",
    "output = tf.keras.layers.Dense(1, activation ='linear')(intermediate_layer)"
   ]
  },
  {
   "cell_type": "code",
   "execution_count": 7,
   "id": "1699a164-89e2-4161-b6a2-c190be234fb7",
   "metadata": {
    "execution": {
     "iopub.execute_input": "2022-02-02T14:13:15.140373Z",
     "iopub.status.busy": "2022-02-02T14:13:15.139376Z",
     "iopub.status.idle": "2022-02-02T14:13:15.155456Z",
     "shell.execute_reply": "2022-02-02T14:13:15.155456Z"
    },
    "papermill": {
     "duration": 0.028048,
     "end_time": "2022-02-02T14:13:15.155456",
     "exception": false,
     "start_time": "2022-02-02T14:13:15.127408",
     "status": "completed"
    },
    "tags": []
   },
   "outputs": [],
   "source": [
    "model = tf.keras.models.Model(input_layer, output)\n",
    "model.compile(loss ='huber', optimizer ='adam', metrics =['mse'])\n"
   ]
  },
  {
   "cell_type": "code",
   "execution_count": 8,
   "id": "fe49c0cb-9049-4dfe-8b8c-8726e4442033",
   "metadata": {
    "execution": {
     "iopub.execute_input": "2022-02-02T14:13:15.170416Z",
     "iopub.status.busy": "2022-02-02T14:13:15.169445Z",
     "iopub.status.idle": "2022-02-02T14:13:17.609477Z",
     "shell.execute_reply": "2022-02-02T14:13:17.610476Z"
    },
    "papermill": {
     "duration": 2.449009,
     "end_time": "2022-02-02T14:13:17.610476",
     "exception": false,
     "start_time": "2022-02-02T14:13:15.161467",
     "status": "completed"
    },
    "tags": []
   },
   "outputs": [
    {
     "name": "stderr",
     "output_type": "stream",
     "text": [
      "COMET INFO: Ignoring automatic log_parameter('verbose') because 'keras:verbose' is in COMET_LOGGING_PARAMETERS_IGNORE\n"
     ]
    },
    {
     "name": "stderr",
     "output_type": "stream",
     "text": [
      "COMET INFO: ignoring tensorflow summary log of metrics because of keras; set `comet_ml.loggers.tensorboard_logger.LOG_METRICS = True` to override\n"
     ]
    },
    {
     "name": "stdout",
     "output_type": "stream",
     "text": [
      "Epoch 1/100\n"
     ]
    },
    {
     "name": "stdout",
     "output_type": "stream",
     "text": [
      "48/48 - 0s - loss: 4.4010 - mse: 24.7599 - val_loss: 3.4400 - val_mse: 16.0852 - lr: 0.0010 - 377ms/epoch - 8ms/step\n"
     ]
    },
    {
     "name": "stdout",
     "output_type": "stream",
     "text": [
      "Epoch 2/100\n",
      "48/48 - 0s - loss: 2.7633 - mse: 11.3745 - val_loss: 1.8755 - val_mse: 6.2214 - lr: 0.0010 - 45ms/epoch - 935us/step\n"
     ]
    },
    {
     "name": "stdout",
     "output_type": "stream",
     "text": [
      "Epoch 3/100\n",
      "48/48 - 0s - loss: 1.2566 - mse: 3.6972 - val_loss: 0.5910 - val_mse: 1.4970 - lr: 0.0010 - 45ms/epoch - 935us/step\n"
     ]
    },
    {
     "name": "stdout",
     "output_type": "stream",
     "text": [
      "Epoch 4/100\n",
      "48/48 - 0s - loss: 0.3610 - mse: 0.8588 - val_loss: 0.2350 - val_mse: 0.5240 - lr: 0.0010 - 45ms/epoch - 935us/step\n"
     ]
    },
    {
     "name": "stdout",
     "output_type": "stream",
     "text": [
      "Epoch 5/100\n",
      "48/48 - 0s - loss: 0.1955 - mse: 0.4351 - val_loss: 0.2042 - val_mse: 0.4372 - lr: 0.0010 - 45ms/epoch - 935us/step\n"
     ]
    },
    {
     "name": "stdout",
     "output_type": "stream",
     "text": [
      "Epoch 6/100\n",
      "48/48 - 0s - loss: 0.1676 - mse: 0.3679 - val_loss: 0.1817 - val_mse: 0.3849 - lr: 0.0010 - 49ms/epoch - 1ms/step\n"
     ]
    },
    {
     "name": "stdout",
     "output_type": "stream",
     "text": [
      "Epoch 7/100\n",
      "48/48 - 0s - loss: 0.1480 - mse: 0.3243 - val_loss: 0.1621 - val_mse: 0.3415 - lr: 0.0010 - 45ms/epoch - 935us/step\n"
     ]
    },
    {
     "name": "stdout",
     "output_type": "stream",
     "text": [
      "Epoch 8/100\n",
      "48/48 - 0s - loss: 0.1324 - mse: 0.2896 - val_loss: 0.1459 - val_mse: 0.3063 - lr: 0.0010 - 44ms/epoch - 914us/step\n"
     ]
    },
    {
     "name": "stdout",
     "output_type": "stream",
     "text": [
      "Epoch 9/100\n",
      "48/48 - 0s - loss: 0.1205 - mse: 0.2633 - val_loss: 0.1331 - val_mse: 0.2787 - lr: 0.0010 - 44ms/epoch - 926us/step\n"
     ]
    },
    {
     "name": "stdout",
     "output_type": "stream",
     "text": [
      "Epoch 10/100\n",
      "48/48 - 0s - loss: 0.1118 - mse: 0.2440 - val_loss: 0.1244 - val_mse: 0.2599 - lr: 0.0010 - 43ms/epoch - 893us/step\n"
     ]
    },
    {
     "name": "stdout",
     "output_type": "stream",
     "text": [
      "Epoch 11/100\n",
      "48/48 - 0s - loss: 0.1060 - mse: 0.2309 - val_loss: 0.1173 - val_mse: 0.2447 - lr: 0.0010 - 44ms/epoch - 914us/step\n"
     ]
    },
    {
     "name": "stdout",
     "output_type": "stream",
     "text": [
      "Epoch 12/100\n",
      "48/48 - 0s - loss: 0.1021 - mse: 0.2222 - val_loss: 0.1121 - val_mse: 0.2336 - lr: 0.0010 - 45ms/epoch - 935us/step\n"
     ]
    },
    {
     "name": "stdout",
     "output_type": "stream",
     "text": [
      "Epoch 13/100\n",
      "48/48 - 0s - loss: 0.0994 - mse: 0.2157 - val_loss: 0.1085 - val_mse: 0.2259 - lr: 0.0010 - 43ms/epoch - 893us/step\n"
     ]
    },
    {
     "name": "stdout",
     "output_type": "stream",
     "text": [
      "Epoch 14/100\n",
      "48/48 - 0s - loss: 0.0974 - mse: 0.2111 - val_loss: 0.1059 - val_mse: 0.2200 - lr: 0.0010 - 43ms/epoch - 893us/step\n"
     ]
    },
    {
     "name": "stdout",
     "output_type": "stream",
     "text": [
      "Epoch 15/100\n"
     ]
    },
    {
     "name": "stdout",
     "output_type": "stream",
     "text": [
      "48/48 - 0s - loss: 0.0959 - mse: 0.2075 - val_loss: 0.1038 - val_mse: 0.2155 - lr: 0.0010 - 43ms/epoch - 893us/step\n"
     ]
    },
    {
     "name": "stdout",
     "output_type": "stream",
     "text": [
      "Epoch 16/100\n"
     ]
    },
    {
     "name": "stdout",
     "output_type": "stream",
     "text": [
      "48/48 - 0s - loss: 0.0945 - mse: 0.2042 - val_loss: 0.1017 - val_mse: 0.2108 - lr: 0.0010 - 43ms/epoch - 893us/step\n"
     ]
    },
    {
     "name": "stdout",
     "output_type": "stream",
     "text": [
      "Epoch 17/100\n"
     ]
    },
    {
     "name": "stdout",
     "output_type": "stream",
     "text": [
      "48/48 - 0s - loss: 0.0934 - mse: 0.2014 - val_loss: 0.1003 - val_mse: 0.2080 - lr: 0.0010 - 44ms/epoch - 914us/step\n"
     ]
    },
    {
     "name": "stdout",
     "output_type": "stream",
     "text": [
      "Epoch 18/100\n"
     ]
    },
    {
     "name": "stdout",
     "output_type": "stream",
     "text": [
      "48/48 - 0s - loss: 0.0924 - mse: 0.1991 - val_loss: 0.0989 - val_mse: 0.2047 - lr: 0.0010 - 43ms/epoch - 893us/step\n"
     ]
    },
    {
     "name": "stdout",
     "output_type": "stream",
     "text": [
      "Epoch 19/100\n",
      "48/48 - 0s - loss: 0.0913 - mse: 0.1965 - val_loss: 0.0975 - val_mse: 0.2016 - lr: 0.0010 - 43ms/epoch - 893us/step\n"
     ]
    },
    {
     "name": "stdout",
     "output_type": "stream",
     "text": [
      "Epoch 20/100\n",
      "48/48 - 0s - loss: 0.0904 - mse: 0.1945 - val_loss: 0.0963 - val_mse: 0.1989 - lr: 0.0010 - 43ms/epoch - 893us/step\n"
     ]
    },
    {
     "name": "stdout",
     "output_type": "stream",
     "text": [
      "Epoch 21/100\n",
      "48/48 - 0s - loss: 0.0896 - mse: 0.1925 - val_loss: 0.0950 - val_mse: 0.1962 - lr: 0.0010 - 44ms/epoch - 914us/step\n"
     ]
    },
    {
     "name": "stdout",
     "output_type": "stream",
     "text": [
      "Epoch 22/100"
     ]
    },
    {
     "name": "stdout",
     "output_type": "stream",
     "text": [
      "\n",
      "48/48 - 0s - loss: 0.0889 - mse: 0.1910 - val_loss: 0.0942 - val_mse: 0.1946 - lr: 0.0010 - 43ms/epoch - 893us/step\n"
     ]
    },
    {
     "name": "stdout",
     "output_type": "stream",
     "text": [
      "Epoch 23/100\n"
     ]
    },
    {
     "name": "stdout",
     "output_type": "stream",
     "text": [
      "48/48 - 0s - loss: 0.0881 - mse: 0.1893 - val_loss: 0.0945 - val_mse: 0.1949 - lr: 0.0010 - 43ms/epoch - 893us/step\n"
     ]
    },
    {
     "name": "stdout",
     "output_type": "stream",
     "text": [
      "Epoch 24/100\n"
     ]
    },
    {
     "name": "stdout",
     "output_type": "stream",
     "text": [
      "48/48 - 0s - loss: 0.0875 - mse: 0.1874 - val_loss: 0.0929 - val_mse: 0.1916 - lr: 0.0010 - 43ms/epoch - 893us/step\n"
     ]
    },
    {
     "name": "stdout",
     "output_type": "stream",
     "text": [
      "Epoch 25/100\n"
     ]
    },
    {
     "name": "stdout",
     "output_type": "stream",
     "text": [
      "48/48 - 0s - loss: 0.0868 - mse: 0.1861 - val_loss: 0.0930 - val_mse: 0.1916 - lr: 0.0010 - 44ms/epoch - 914us/step\n"
     ]
    },
    {
     "name": "stdout",
     "output_type": "stream",
     "text": [
      "Epoch 26/100\n"
     ]
    },
    {
     "name": "stdout",
     "output_type": "stream",
     "text": [
      "48/48 - 0s - loss: 0.0863 - mse: 0.1848 - val_loss: 0.0922 - val_mse: 0.1898 - lr: 0.0010 - 43ms/epoch - 893us/step\n"
     ]
    },
    {
     "name": "stdout",
     "output_type": "stream",
     "text": [
      "Epoch 27/100\n",
      "48/48 - 0s - loss: 0.0858 - mse: 0.1837 - val_loss: 0.0927 - val_mse: 0.1909 - lr: 0.0010 - 44ms/epoch - 914us/step\n"
     ]
    },
    {
     "name": "stdout",
     "output_type": "stream",
     "text": [
      "Epoch 28/100\n",
      "48/48 - 0s - loss: 0.0852 - mse: 0.1821 - val_loss: 0.0918 - val_mse: 0.1887 - lr: 0.0010 - 44ms/epoch - 914us/step\n"
     ]
    },
    {
     "name": "stdout",
     "output_type": "stream",
     "text": [
      "Epoch 29/100\n",
      "48/48 - 0s - loss: 0.0847 - mse: 0.1809 - val_loss: 0.0911 - val_mse: 0.1876 - lr: 0.0010 - 43ms/epoch - 893us/step\n"
     ]
    },
    {
     "name": "stdout",
     "output_type": "stream",
     "text": [
      "Epoch 30/100\n"
     ]
    },
    {
     "name": "stdout",
     "output_type": "stream",
     "text": [
      "48/48 - 0s - loss: 0.0842 - mse: 0.1800 - val_loss: 0.0913 - val_mse: 0.1879 - lr: 0.0010 - 44ms/epoch - 914us/step\n"
     ]
    },
    {
     "name": "stdout",
     "output_type": "stream",
     "text": [
      "Epoch 31/100\n"
     ]
    },
    {
     "name": "stdout",
     "output_type": "stream",
     "text": [
      "48/48 - 0s - loss: 0.0838 - mse: 0.1790 - val_loss: 0.0902 - val_mse: 0.1857 - lr: 0.0010 - 43ms/epoch - 893us/step\n"
     ]
    },
    {
     "name": "stdout",
     "output_type": "stream",
     "text": [
      "Epoch 32/100\n"
     ]
    },
    {
     "name": "stdout",
     "output_type": "stream",
     "text": [
      "48/48 - 0s - loss: 0.0833 - mse: 0.1779 - val_loss: 0.0903 - val_mse: 0.1859 - lr: 0.0010 - 43ms/epoch - 893us/step\n"
     ]
    },
    {
     "name": "stdout",
     "output_type": "stream",
     "text": [
      "Epoch 33/100\n"
     ]
    },
    {
     "name": "stdout",
     "output_type": "stream",
     "text": [
      "48/48 - 0s - loss: 0.0828 - mse: 0.1769 - val_loss: 0.0904 - val_mse: 0.1860 - lr: 0.0010 - 43ms/epoch - 893us/step\n"
     ]
    },
    {
     "name": "stdout",
     "output_type": "stream",
     "text": [
      "Epoch 34/100\n",
      "48/48 - 0s - loss: 0.0824 - mse: 0.1756 - val_loss: 0.0894 - val_mse: 0.1841 - lr: 0.0010 - 43ms/epoch - 893us/step\n"
     ]
    },
    {
     "name": "stdout",
     "output_type": "stream",
     "text": [
      "Epoch 35/100\n",
      "48/48 - 0s - loss: 0.0820 - mse: 0.1751 - val_loss: 0.0900 - val_mse: 0.1851 - lr: 0.0010 - 42ms/epoch - 873us/step\n"
     ]
    },
    {
     "name": "stdout",
     "output_type": "stream",
     "text": [
      "Epoch 36/100\n"
     ]
    },
    {
     "name": "stdout",
     "output_type": "stream",
     "text": [
      "48/48 - 0s - loss: 0.0817 - mse: 0.1742 - val_loss: 0.0902 - val_mse: 0.1855 - lr: 0.0010 - 43ms/epoch - 893us/step\n"
     ]
    },
    {
     "name": "stdout",
     "output_type": "stream",
     "text": [
      "Epoch 37/100\n"
     ]
    },
    {
     "name": "stdout",
     "output_type": "stream",
     "text": [
      "48/48 - 0s - loss: 0.0815 - mse: 0.1736 - val_loss: 0.0902 - val_mse: 0.1855 - lr: 0.0010 - 43ms/epoch - 893us/step\n"
     ]
    },
    {
     "name": "stdout",
     "output_type": "stream",
     "text": [
      "Epoch 38/100\n",
      "48/48 - 0s - loss: 0.0810 - mse: 0.1725 - val_loss: 0.0894 - val_mse: 0.1838 - lr: 0.0010 - 44ms/epoch - 914us/step\n"
     ]
    },
    {
     "name": "stdout",
     "output_type": "stream",
     "text": [
      "Epoch 39/100\n"
     ]
    },
    {
     "name": "stdout",
     "output_type": "stream",
     "text": [
      "48/48 - 0s - loss: 0.0805 - mse: 0.1714 - val_loss: 0.0900 - val_mse: 0.1850 - lr: 0.0010 - 44ms/epoch - 914us/step\n"
     ]
    },
    {
     "name": "stdout",
     "output_type": "stream",
     "text": [
      "Epoch 40/100\n",
      "48/48 - 0s - loss: 0.0801 - mse: 0.1705 - val_loss: 0.0897 - val_mse: 0.1844 - lr: 2.0000e-04 - 44ms/epoch - 914us/step\n"
     ]
    },
    {
     "name": "stdout",
     "output_type": "stream",
     "text": [
      "Epoch 41/100\n",
      "48/48 - 0s - loss: 0.0800 - mse: 0.1704 - val_loss: 0.0895 - val_mse: 0.1841 - lr: 2.0000e-04 - 44ms/epoch - 914us/step\n"
     ]
    },
    {
     "name": "stdout",
     "output_type": "stream",
     "text": [
      "Epoch 42/100\n",
      "48/48 - 0s - loss: 0.0799 - mse: 0.1701 - val_loss: 0.0895 - val_mse: 0.1840 - lr: 2.0000e-04 - 44ms/epoch - 914us/step\n"
     ]
    },
    {
     "name": "stdout",
     "output_type": "stream",
     "text": [
      "Epoch 43/100\n",
      "48/48 - 0s - loss: 0.0799 - mse: 0.1700 - val_loss: 0.0895 - val_mse: 0.1841 - lr: 2.0000e-04 - 44ms/epoch - 914us/step\n"
     ]
    },
    {
     "name": "stdout",
     "output_type": "stream",
     "text": [
      "Epoch 44/100\n"
     ]
    },
    {
     "name": "stdout",
     "output_type": "stream",
     "text": [
      "48/48 - 0s - loss: 0.0798 - mse: 0.1698 - val_loss: 0.0897 - val_mse: 0.1843 - lr: 2.0000e-04 - 43ms/epoch - 893us/step\n"
     ]
    }
   ],
   "source": [
    "history = model.fit(X_train.values, y_train.values, validation_data =(X_test.values, y_test.values),\n",
    "                    epochs =100, batch_size =100, verbose =2, callbacks = callbacks)"
   ]
  },
  {
   "cell_type": "code",
   "execution_count": 9,
   "id": "b6ab9cd4-be87-4883-a25f-7340863dbc9d",
   "metadata": {
    "execution": {
     "iopub.execute_input": "2022-02-02T14:13:17.649378Z",
     "iopub.status.busy": "2022-02-02T14:13:17.649378Z",
     "iopub.status.idle": "2022-02-02T14:13:17.783384Z",
     "shell.execute_reply": "2022-02-02T14:13:17.783384Z"
    },
    "papermill": {
     "duration": 0.153955,
     "end_time": "2022-02-02T14:13:17.783384",
     "exception": false,
     "start_time": "2022-02-02T14:13:17.629429",
     "status": "completed"
    },
    "tags": []
   },
   "outputs": [],
   "source": [
    "val_metrics, y_hat_val = eval_metrics(X_val, y_val, model)\n",
    "test_metrics, y_hat_val = eval_metrics(X_test, y_test, model)\n",
    "val_metrics.to_csv('./results/MLP_hyperparameter_val.csv')\n",
    "test_metrics.to_csv('./results/MLP_hyparameter_test.csv')"
   ]
  }
 ],
 "metadata": {
  "kernelspec": {
   "display_name": "Python 3 (ipykernel)",
   "language": "python",
   "name": "python3"
  },
  "language_info": {
   "codemirror_mode": {
    "name": "ipython",
    "version": 3
   },
   "file_extension": ".py",
   "mimetype": "text/x-python",
   "name": "python",
   "nbconvert_exporter": "python",
   "pygments_lexer": "ipython3",
   "version": "3.9.7"
  },
  "papermill": {
   "default_parameters": {},
   "duration": 17.560124,
   "end_time": "2022-02-02T14:13:20.440219",
   "environment_variables": {},
   "exception": null,
   "input_path": "./notebooks/mlp.ipynb",
   "output_path": "./notebooks/mlp.ipynb",
   "parameters": {},
   "start_time": "2022-02-02T14:13:02.880095",
   "version": "2.3.4"
  }
 },
 "nbformat": 4,
 "nbformat_minor": 5
}