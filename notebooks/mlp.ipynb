{
 "cells": [
  {
   "cell_type": "markdown",
   "id": "c1463270",
   "metadata": {
    "tags": [
     "papermill-error-cell-tag"
    ]
   },
   "source": [
    "<span style=\"color:red; font-family:Helvetica Neue, Helvetica, Arial, sans-serif; font-size:2em;\">An Exception was encountered at '<a href=\"#papermill-error-cell\">In [8]</a>'.</span>"
   ]
  },
  {
   "cell_type": "code",
   "execution_count": 1,
   "id": "d8faa799-187b-42e6-97b8-3f61740b4aa9",
   "metadata": {
    "execution": {
     "iopub.execute_input": "2022-02-02T13:48:27.173902Z",
     "iopub.status.busy": "2022-02-02T13:48:27.173902Z",
     "iopub.status.idle": "2022-02-02T13:48:36.615169Z",
     "shell.execute_reply": "2022-02-02T13:48:36.615169Z"
    },
    "papermill": {
     "duration": 9.455233,
     "end_time": "2022-02-02T13:48:36.615169",
     "exception": false,
     "start_time": "2022-02-02T13:48:27.159936",
     "status": "completed"
    },
    "tags": []
   },
   "outputs": [
    {
     "name": "stderr",
     "output_type": "stream",
     "text": [
      "COMET WARNING: As you are running in a Jupyter environment, you will need to call `experiment.end()` when finished to ensure all metrics and code are logged before exiting.\n",
      "COMET INFO: Couldn't find a Git repository in 'C:\\\\Users\\\\user\\\\Desktop\\\\repositories' nor in any parent directory. You can override where Comet is looking for a Git Patch by setting the configuration `COMET_GIT_DIRECTORY`\n",
      "COMET INFO: Experiment is live on comet.ml https://www.comet.ml/nram8122/airbnb/7bf5763fe4ba4d19bfb1a368df3dc04d\n",
      "\n"
     ]
    }
   ],
   "source": [
    "from comet_ml import Experiment\n",
    "experiment = Experiment(\n",
    "    api_key=\"VQ78p7UKivJgj8TU2KWKkCJNj\",\n",
    "    project_name=\"airbnb\",\n",
    "    workspace=\"nram8122\",\n",
    ")\n",
    "import tensorflow as tf\n",
    "import sys\n",
    "sys.path.append('./src')\n",
    "from funcs import *\n",
    "import pandas as pd\n",
    "import numpy as np\n",
    "import seaborn as sns"
   ]
  },
  {
   "cell_type": "markdown",
   "id": "2fab3a03-6b5d-4bab-888a-776aed71339a",
   "metadata": {
    "papermill": {
     "duration": 0.005957,
     "end_time": "2022-02-02T13:48:36.627137",
     "exception": false,
     "start_time": "2022-02-02T13:48:36.621180",
     "status": "completed"
    },
    "tags": []
   },
   "source": [
    "## Experiments are Logged on Comet Ml\n",
    "1. Click on the link to see the outputs"
   ]
  },
  {
   "cell_type": "code",
   "execution_count": 2,
   "id": "caaeea72-b1bc-4b71-8a1e-5db3132321c6",
   "metadata": {
    "execution": {
     "iopub.execute_input": "2022-02-02T13:48:36.641100Z",
     "iopub.status.busy": "2022-02-02T13:48:36.641100Z",
     "iopub.status.idle": "2022-02-02T13:48:36.784724Z",
     "shell.execute_reply": "2022-02-02T13:48:36.785752Z"
    },
    "papermill": {
     "duration": 0.152613,
     "end_time": "2022-02-02T13:48:36.785752",
     "exception": false,
     "start_time": "2022-02-02T13:48:36.633139",
     "status": "completed"
    },
    "tags": []
   },
   "outputs": [],
   "source": [
    "\n",
    "# binary data is used for the Lasso Model\n",
    "categorical_binary = pd.read_csv(r'./preprocessed/categorical_binary.csv', index_col =0)\n",
    "categorical_raw = pd.read_csv(r'./preprocessed/categorical_raw.csv', index_col =0)\n",
    "regression_data = pd.read_csv(r'./preprocessed/regression_transformed.csv', index_col =0)\n",
    "regression_cols = regression_data.columns\n",
    "index = pd.read_csv('./preprocessed/benchmark_datasets_index.csv', index_col =0)\n",
    "price = pd.read_csv('./preprocessed/price.csv', index_col =0)"
   ]
  },
  {
   "cell_type": "code",
   "execution_count": 3,
   "id": "7ee9cf76-44ab-4a65-8ecd-41c1ffcd129a",
   "metadata": {
    "execution": {
     "iopub.execute_input": "2022-02-02T13:48:36.798718Z",
     "iopub.status.busy": "2022-02-02T13:48:36.798718Z",
     "iopub.status.idle": "2022-02-02T13:48:36.861679Z",
     "shell.execute_reply": "2022-02-02T13:48:36.862707Z"
    },
    "papermill": {
     "duration": 0.071,
     "end_time": "2022-02-02T13:48:36.862707",
     "exception": false,
     "start_time": "2022-02-02T13:48:36.791707",
     "status": "completed"
    },
    "tags": []
   },
   "outputs": [],
   "source": [
    "X_train, X_test, X_val, y_train, y_test, y_val = create_training_dataset(categorical_binary, regression_data,\n",
    "                                                                         price, index, regression_cols,\n",
    "                                                                         norm_reg = True)"
   ]
  },
  {
   "cell_type": "code",
   "execution_count": 4,
   "id": "284fd977-4cd0-4206-89fe-32233e8791b4",
   "metadata": {
    "execution": {
     "iopub.execute_input": "2022-02-02T13:48:36.875643Z",
     "iopub.status.busy": "2022-02-02T13:48:36.875643Z",
     "iopub.status.idle": "2022-02-02T13:48:36.899072Z",
     "shell.execute_reply": "2022-02-02T13:48:36.897072Z"
    },
    "papermill": {
     "duration": 0.032378,
     "end_time": "2022-02-02T13:48:36.900070",
     "exception": false,
     "start_time": "2022-02-02T13:48:36.867692",
     "status": "completed"
    },
    "tags": []
   },
   "outputs": [],
   "source": [
    "regression_cols = ['host_response_rate', 'host_acceptance_rate',\n",
    "       'transformed_review_scores_rating',\n",
    "       'transformed_review_scores_accuracy',\n",
    "       'transformed_review_scores_cleanliness',\n",
    "       'transformed_review_scores_checkin',\n",
    "       'transformed_review_scores_communication',\n",
    "       'transformed_review_scores_location',\n",
    "       'transformed_review_scores_value']"
   ]
  },
  {
   "cell_type": "code",
   "execution_count": 5,
   "id": "1d913f19-de6a-4cb2-8d51-85aae42fa8ab",
   "metadata": {
    "execution": {
     "iopub.execute_input": "2022-02-02T13:48:36.935961Z",
     "iopub.status.busy": "2022-02-02T13:48:36.934934Z",
     "iopub.status.idle": "2022-02-02T13:48:36.938578Z",
     "shell.execute_reply": "2022-02-02T13:48:36.939606Z"
    },
    "papermill": {
     "duration": 0.018613,
     "end_time": "2022-02-02T13:48:36.939606",
     "exception": false,
     "start_time": "2022-02-02T13:48:36.920993",
     "status": "completed"
    },
    "tags": []
   },
   "outputs": [],
   "source": [
    "reducelr = tf.keras.callbacks.ReduceLROnPlateau(\n",
    "    monitor='val_loss', factor=0.2, patience=5, verbose=0,\n",
    "    mode='auto', min_delta=0.0001, cooldown=0, min_lr=0\n",
    ")\n",
    "early_stopping = tf.keras.callbacks.EarlyStopping(\n",
    "    monitor='val_loss', min_delta=0, patience=10, verbose=0,\n",
    "    mode='auto', baseline=None, restore_best_weights=False\n",
    ")\n",
    "callbacks = [reducelr, early_stopping]"
   ]
  },
  {
   "cell_type": "markdown",
   "id": "445dba1a-15a4-488d-bdb3-3dd88df58d55",
   "metadata": {
    "papermill": {
     "duration": 0.005981,
     "end_time": "2022-02-02T13:48:36.950575",
     "exception": false,
     "start_time": "2022-02-02T13:48:36.944594",
     "status": "completed"
    },
    "tags": []
   },
   "source": [
    "# Here a simple MLP\n",
    "Suggestions for improvement\n",
    "1. Use a multi input MLP - one branch for regression and the other for classification\n",
    "2. Use tensorflow probability for mean, std estimates - very easy use case"
   ]
  },
  {
   "cell_type": "code",
   "execution_count": 6,
   "id": "a9fce1cb-8a96-467a-b486-e97fd309a17f",
   "metadata": {
    "execution": {
     "iopub.execute_input": "2022-02-02T13:48:36.965507Z",
     "iopub.status.busy": "2022-02-02T13:48:36.964510Z",
     "iopub.status.idle": "2022-02-02T13:48:44.285215Z",
     "shell.execute_reply": "2022-02-02T13:48:44.279231Z"
    },
    "papermill": {
     "duration": 7.328658,
     "end_time": "2022-02-02T13:48:44.285215",
     "exception": false,
     "start_time": "2022-02-02T13:48:36.956557",
     "status": "completed"
    },
    "tags": []
   },
   "outputs": [],
   "source": [
    "import tensorflow as tf\n",
    "input_layer = tf.keras.layers.Input(X_train.shape[1:])\n",
    "intermediate_layer = tf.keras.layers.Dense(32, activation ='sigmoid')(input_layer)\n",
    "dropout = tf.keras.layers.Dropout(0.3)(intermediate_layer)\n",
    "output = tf.keras.layers.Dense(1, activation ='linear')(intermediate_layer)"
   ]
  },
  {
   "cell_type": "code",
   "execution_count": 7,
   "id": "1699a164-89e2-4161-b6a2-c190be234fb7",
   "metadata": {
    "execution": {
     "iopub.execute_input": "2022-02-02T13:48:48.308220Z",
     "iopub.status.busy": "2022-02-02T13:48:48.299451Z",
     "iopub.status.idle": "2022-02-02T13:48:48.343057Z",
     "shell.execute_reply": "2022-02-02T13:48:48.342025Z"
    },
    "papermill": {
     "duration": 0.071531,
     "end_time": "2022-02-02T13:48:48.343057",
     "exception": false,
     "start_time": "2022-02-02T13:48:48.271526",
     "status": "completed"
    },
    "tags": []
   },
   "outputs": [],
   "source": [
    "model = tf.keras.models.Model(input_layer, output)\n",
    "model.compile(loss ='huber', optimizer ='adam', metrics =['mse'])\n"
   ]
  },
  {
   "cell_type": "markdown",
   "id": "cf59c898",
   "metadata": {
    "tags": [
     "papermill-error-cell-tag"
    ]
   },
   "source": [
    "<span id=\"papermill-error-cell\" style=\"color:red; font-family:Helvetica Neue, Helvetica, Arial, sans-serif; font-size:2em;\">Execution using papermill encountered an exception here and stopped:</span>"
   ]
  },
  {
   "cell_type": "code",
   "execution_count": 11,
   "id": "fe49c0cb-9049-4dfe-8b8c-8726e4442033",
   "metadata": {
    "papermill": {
     "duration": 18.578514,
     "end_time": "2022-02-02T13:49:06.927523",
     "exception": true,
     "start_time": "2022-02-02T13:48:48.349009",
     "status": "failed"
    },
    "tags": []
   },
   "outputs": [
    {
     "name": "stdout",
     "output_type": "stream",
     "text": [
      "Epoch 1/100\n",
      "48/48 - 0s - loss: 0.0791 - mse: 0.1682 - val_loss: 0.0878 - val_mse: 0.1803 - lr: 8.0000e-06 - 313ms/epoch - 7ms/step\n",
      "Epoch 2/100\n",
      "48/48 - 0s - loss: 0.0791 - mse: 0.1682 - val_loss: 0.0878 - val_mse: 0.1803 - lr: 8.0000e-06 - 122ms/epoch - 3ms/step\n",
      "Epoch 3/100\n",
      "48/48 - 0s - loss: 0.0791 - mse: 0.1682 - val_loss: 0.0878 - val_mse: 0.1803 - lr: 8.0000e-06 - 124ms/epoch - 3ms/step\n",
      "Epoch 4/100\n",
      "48/48 - 0s - loss: 0.0791 - mse: 0.1681 - val_loss: 0.0878 - val_mse: 0.1803 - lr: 8.0000e-06 - 124ms/epoch - 3ms/step\n",
      "Epoch 5/100\n",
      "48/48 - 0s - loss: 0.0791 - mse: 0.1681 - val_loss: 0.0878 - val_mse: 0.1803 - lr: 8.0000e-06 - 124ms/epoch - 3ms/step\n",
      "Epoch 6/100\n",
      "48/48 - 0s - loss: 0.0791 - mse: 0.1681 - val_loss: 0.0878 - val_mse: 0.1803 - lr: 8.0000e-06 - 125ms/epoch - 3ms/step\n",
      "Epoch 7/100\n",
      "48/48 - 0s - loss: 0.0791 - mse: 0.1681 - val_loss: 0.0878 - val_mse: 0.1803 - lr: 1.6000e-06 - 123ms/epoch - 3ms/step\n",
      "Epoch 8/100\n",
      "48/48 - 0s - loss: 0.0791 - mse: 0.1681 - val_loss: 0.0878 - val_mse: 0.1803 - lr: 1.6000e-06 - 122ms/epoch - 3ms/step\n",
      "Epoch 9/100\n",
      "48/48 - 0s - loss: 0.0791 - mse: 0.1681 - val_loss: 0.0878 - val_mse: 0.1803 - lr: 1.6000e-06 - 124ms/epoch - 3ms/step\n",
      "Epoch 10/100\n",
      "48/48 - 0s - loss: 0.0791 - mse: 0.1681 - val_loss: 0.0878 - val_mse: 0.1803 - lr: 1.6000e-06 - 124ms/epoch - 3ms/step\n",
      "Epoch 11/100\n",
      "48/48 - 0s - loss: 0.0791 - mse: 0.1681 - val_loss: 0.0878 - val_mse: 0.1803 - lr: 1.6000e-06 - 127ms/epoch - 3ms/step\n",
      "Epoch 12/100\n",
      "48/48 - 0s - loss: 0.0790 - mse: 0.1681 - val_loss: 0.0878 - val_mse: 0.1803 - lr: 3.2000e-07 - 123ms/epoch - 3ms/step\n",
      "Epoch 13/100\n",
      "48/48 - 0s - loss: 0.0790 - mse: 0.1681 - val_loss: 0.0878 - val_mse: 0.1803 - lr: 3.2000e-07 - 124ms/epoch - 3ms/step\n",
      "Epoch 14/100\n",
      "48/48 - 0s - loss: 0.0790 - mse: 0.1681 - val_loss: 0.0878 - val_mse: 0.1803 - lr: 3.2000e-07 - 125ms/epoch - 3ms/step\n",
      "Epoch 15/100\n",
      "48/48 - 0s - loss: 0.0790 - mse: 0.1681 - val_loss: 0.0878 - val_mse: 0.1803 - lr: 3.2000e-07 - 125ms/epoch - 3ms/step\n",
      "Epoch 16/100\n",
      "48/48 - 0s - loss: 0.0790 - mse: 0.1681 - val_loss: 0.0878 - val_mse: 0.1803 - lr: 3.2000e-07 - 129ms/epoch - 3ms/step\n",
      "Epoch 17/100\n",
      "48/48 - 0s - loss: 0.0790 - mse: 0.1681 - val_loss: 0.0878 - val_mse: 0.1803 - lr: 6.4000e-08 - 125ms/epoch - 3ms/step\n",
      "Epoch 18/100\n",
      "48/48 - 0s - loss: 0.0790 - mse: 0.1681 - val_loss: 0.0878 - val_mse: 0.1803 - lr: 6.4000e-08 - 123ms/epoch - 3ms/step\n",
      "Epoch 19/100\n",
      "48/48 - 0s - loss: 0.0790 - mse: 0.1681 - val_loss: 0.0878 - val_mse: 0.1803 - lr: 6.4000e-08 - 127ms/epoch - 3ms/step\n",
      "Epoch 20/100\n",
      "48/48 - 0s - loss: 0.0790 - mse: 0.1681 - val_loss: 0.0878 - val_mse: 0.1803 - lr: 6.4000e-08 - 124ms/epoch - 3ms/step\n"
     ]
    }
   ],
   "source": [
    "history = model.fit(X_train.values, y_train.values, validation_data =(X_test.values, y_test.values),\n",
    "                    epochs =100, batch_size =100, verbose =2, callbacks = callbacks)"
   ]
  },
  {
   "cell_type": "code",
   "execution_count": null,
   "id": "b6ab9cd4-be87-4883-a25f-7340863dbc9d",
   "metadata": {
    "papermill": {
     "duration": null,
     "end_time": null,
     "exception": null,
     "start_time": null,
     "status": "pending"
    },
    "tags": []
   },
   "outputs": [],
   "source": [
    "val_metrics, y_hat_val = eval_metrics(X_val, y_val, model)\n",
    "test_metrics, y_hat_val = eval_metrics(X_test, y_test, model)\n",
    "val_metrics.to_csv('./results/MLP_hyperparameter_val.csv')\n",
    "test_metrics.to_csv('./results/MLP_hyparameter_test.csv')"
   ]
  }
 ],
 "metadata": {
  "kernelspec": {
   "display_name": "Python 3 (ipykernel)",
   "language": "python",
   "name": "python3"
  },
  "language_info": {
   "codemirror_mode": {
    "name": "ipython",
    "version": 3
   },
   "file_extension": ".py",
   "mimetype": "text/x-python",
   "name": "python",
   "nbconvert_exporter": "python",
   "pygments_lexer": "ipython3",
   "version": "3.9.7"
  },
  "papermill": {
   "default_parameters": {},
   "duration": 43.592016,
   "end_time": "2022-02-02T13:49:09.472243",
   "environment_variables": {},
   "exception": true,
   "input_path": "./notebooks/mlp.ipynb",
   "output_path": "./notebooks/mlp.ipynb",
   "parameters": {},
   "start_time": "2022-02-02T13:48:25.880227",
   "version": "2.3.4"
  }
 },
 "nbformat": 4,
 "nbformat_minor": 5
}
